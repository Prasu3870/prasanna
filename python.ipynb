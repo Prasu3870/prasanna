{
 "cells": [
  {
   "cell_type": "code",
   "execution_count": 2,
   "metadata": {},
   "outputs": [
    {
     "name": "stdout",
     "output_type": "stream",
     "text": [
      "hello world\n"
     ]
    }
   ],
   "source": [
    "print(\"hello world\")"
   ]
  },
  {
   "cell_type": "code",
   "execution_count": 5,
   "metadata": {},
   "outputs": [
    {
     "name": "stdout",
     "output_type": "stream",
     "text": [
      "50\n"
     ]
    }
   ],
   "source": [
    "#write a statement to initialize variable and value as 50\n",
    "a=50\n",
    "print(a)\n",
    "\n"
   ]
  },
  {
   "cell_type": "code",
   "execution_count": 8,
   "metadata": {},
   "outputs": [
    {
     "name": "stdout",
     "output_type": "stream",
     "text": [
      "150 120 250\n"
     ]
    }
   ],
   "source": [
    "#write a statement to initialize multi variable values \n",
    "a,b,c =150,120,250\n",
    "print(a,b,c)"
   ]
  },
  {
   "cell_type": "code",
   "execution_count": 10,
   "metadata": {},
   "outputs": [
    {
     "name": "stdout",
     "output_type": "stream",
     "text": [
      "<class 'dict'>\n"
     ]
    }
   ],
   "source": [
    "#WAS to print type of data in given value\n",
    "a={b:25}\n",
    "print(type(a))"
   ]
  },
  {
   "cell_type": "code",
   "execution_count": 11,
   "metadata": {},
   "outputs": [
    {
     "name": "stdout",
     "output_type": "stream",
     "text": [
      "2988048669824\n"
     ]
    }
   ],
   "source": [
    "#WAS to print the adress of memory block in given value\n",
    "a=[10,20]\n",
    "print(id(a))"
   ]
  },
  {
   "cell_type": "code",
   "execution_count": 17,
   "metadata": {},
   "outputs": [
    {
     "name": "stdout",
     "output_type": "stream",
     "text": [
      "prasu\n",
      "22\n",
      "True\n"
     ]
    }
   ],
   "source": [
    "#WAS to print your details ,first store your details , extract and display.\n",
    "name='prasu'\n",
    "age=22\n",
    "phno=9876543210\n",
    "pancard=True\n",
    "print(name)\n",
    "print(age)\n",
    "print(pancard)\n"
   ]
  },
  {
   "cell_type": "code",
   "execution_count": 18,
   "metadata": {},
   "outputs": [
    {
     "name": "stdout",
     "output_type": "stream",
     "text": [
      "20\n",
      "10\n"
     ]
    }
   ],
   "source": [
    "#WAS to swap 2 values with temp variable\n",
    "a=10\n",
    "b=20\n",
    "temp=a\n",
    "a=b\n",
    "b=temp\n",
    "print(a)\n",
    "print(b)\n"
   ]
  },
  {
   "cell_type": "code",
   "execution_count": 9,
   "metadata": {},
   "outputs": [
    {
     "name": "stdout",
     "output_type": "stream",
     "text": [
      "[10, 20] [30, 40]\n",
      "[30, 40] [10, 20]\n"
     ]
    }
   ],
   "source": [
    "#WAS to swap 2 values with out temp variables\n",
    "m=[10,20]\n",
    "n=[30,40]\n",
    "print(m,n)\n",
    "print(n,m)"
   ]
  },
  {
   "cell_type": "code",
   "execution_count": 36,
   "metadata": {},
   "outputs": [
    {
     "name": "stdout",
     "output_type": "stream",
     "text": [
      "a\n"
     ]
    },
    {
     "data": {
      "text/plain": [
       "[10, 20]"
      ]
     },
     "execution_count": 36,
     "metadata": {},
     "output_type": "execute_result"
    }
   ],
   "source": [
    "#was to initialize the value,print a value,reinitialize the new value to the existing variable and display the value\n",
    "a={'a':\"pyspiders\"}\n",
    "print('a')\n",
    "a['a']=\"qspiders\"\n",
    "a\n",
    "a=[10,20]\n",
    "a\n",
    "\n"
   ]
  },
  {
   "cell_type": "code",
   "execution_count": null,
   "metadata": {},
   "outputs": [],
   "source": []
  },
  {
   "cell_type": "markdown",
   "metadata": {},
   "source": []
  },
  {
   "cell_type": "code",
   "execution_count": 34,
   "metadata": {},
   "outputs": [
    {
     "name": "stdout",
     "output_type": "stream",
     "text": [
      "10\n",
      "['1', '0']\n"
     ]
    }
   ],
   "source": [
    "#WAS to convert single value data type to ,multi value data type\n",
    "#i/p=10 o/p=['1','0']\n",
    "a=10\n",
    "a=str(a)\n",
    "print(str(a))\n",
    "print(list(a))\n"
   ]
  },
  {
   "cell_type": "code",
   "execution_count": 49,
   "metadata": {},
   "outputs": [
    {
     "name": "stdout",
     "output_type": "stream",
     "text": [
      "helloworld\n",
      "[10, 20, 60, 70]\n",
      "prasuteju\n",
      "{10: 20, 30: 40, 'a': 'hyy', 'b': 'byee'}\n"
     ]
    }
   ],
   "source": [
    "#WAS to concatinate two multi value data types(string, list, tupule,set,dict)\n",
    "x=\"hello\"\n",
    "x+=\"world\"\n",
    "print(x)\n",
    "l=[10,20]\n",
    "l+=[60,70]\n",
    "print(l)\n",
    "t=('prasu')\n",
    "t+=('teju')\n",
    "print(t)\n",
    "d={10:20,30:40}\n",
    "d|={'a':\"hyy\",'b':\"byee\"}\n",
    "print(d)\n",
    "\n",
    "\n"
   ]
  },
  {
   "cell_type": "code",
   "execution_count": 50,
   "metadata": {},
   "outputs": [
    {
     "name": "stdout",
     "output_type": "stream",
     "text": [
      "13\n"
     ]
    }
   ],
   "source": [
    "#WAs to concate  length of collection\n",
    "a=\"laxmiprasanna\"\n",
    "print(len(a))"
   ]
  },
  {
   "cell_type": "code",
   "execution_count": 56,
   "metadata": {},
   "outputs": [
    {
     "ename": "TypeError",
     "evalue": "'list' object is not callable",
     "output_type": "error",
     "traceback": [
      "\u001b[1;31m---------------------------------------------------------------------------\u001b[0m",
      "\u001b[1;31mTypeError\u001b[0m                                 Traceback (most recent call last)",
      "Cell \u001b[1;32mIn[56], line 4\u001b[0m\n\u001b[0;32m      2\u001b[0m a\u001b[39m=\u001b[39m[\u001b[39m10\u001b[39m,\u001b[39m20\u001b[39m,\u001b[39m30\u001b[39m,\u001b[39m40\u001b[39m,\u001b[39m50\u001b[39m]\n\u001b[0;32m      3\u001b[0m \u001b[39mlen\u001b[39m(a)\n\u001b[1;32m----> 4\u001b[0m [a(\u001b[39mlen\u001b[39;49m(a)\u001b[39m/\u001b[39;49m\u001b[39m/\u001b[39;49m\u001b[39m2\u001b[39;49m)]\n",
      "\u001b[1;31mTypeError\u001b[0m: 'list' object is not callable"
     ]
    }
   ],
   "source": [
    "#WAE to  find out the middle value of given collection\n",
    "a=[10,20,30,40,50]\n",
    "len(a)\n",
    "[a(len(a)//2)]"
   ]
  }
 ],
 "metadata": {
  "kernelspec": {
   "display_name": "Python 3",
   "language": "python",
   "name": "python3"
  },
  "language_info": {
   "codemirror_mode": {
    "name": "ipython",
    "version": 3
   },
   "file_extension": ".py",
   "mimetype": "text/x-python",
   "name": "python",
   "nbconvert_exporter": "python",
   "pygments_lexer": "ipython3",
   "version": "3.11.4"
  },
  "orig_nbformat": 4
 },
 "nbformat": 4,
 "nbformat_minor": 2
}
