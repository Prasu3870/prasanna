{
 "cells": [
  {
   "cell_type": "code",
   "execution_count": 253,
   "metadata": {},
   "outputs": [
    {
     "name": "stdout",
     "output_type": "stream",
     "text": [
      "hello world\n"
     ]
    }
   ],
   "source": [
    "print(\"hello world\")"
   ]
  },
  {
   "cell_type": "code",
   "execution_count": 254,
   "metadata": {},
   "outputs": [
    {
     "name": "stdout",
     "output_type": "stream",
     "text": [
      "50\n"
     ]
    }
   ],
   "source": [
    "#write a statement to initialize variable and value as 50\n",
    "a=50\n",
    "print(a)\n",
    "\n"
   ]
  },
  {
   "cell_type": "code",
   "execution_count": 255,
   "metadata": {},
   "outputs": [
    {
     "name": "stdout",
     "output_type": "stream",
     "text": [
      "150 120 250\n"
     ]
    }
   ],
   "source": [
    "#write a statement to initialize multi variable values \n",
    "a,b,c =150,120,250\n",
    "print(a,b,c)"
   ]
  },
  {
   "cell_type": "code",
   "execution_count": 256,
   "metadata": {},
   "outputs": [
    {
     "name": "stdout",
     "output_type": "stream",
     "text": [
      "<class 'dict'>\n"
     ]
    }
   ],
   "source": [
    "#WAS to print type of data in given value\n",
    "a={b:25}\n",
    "print(type(a))"
   ]
  },
  {
   "cell_type": "code",
   "execution_count": 257,
   "metadata": {},
   "outputs": [
    {
     "name": "stdout",
     "output_type": "stream",
     "text": [
      "2212589669312\n"
     ]
    }
   ],
   "source": [
    "#WAS to print the adress of memory block in given value\n",
    "a=[10,20]\n",
    "print(id(a))"
   ]
  },
  {
   "cell_type": "code",
   "execution_count": 258,
   "metadata": {},
   "outputs": [
    {
     "name": "stdout",
     "output_type": "stream",
     "text": [
      "prasu\n",
      "22\n",
      "True\n"
     ]
    }
   ],
   "source": [
    "#WAS to print your details ,first store your details , extract and display.\n",
    "name='prasu'\n",
    "age=22\n",
    "phno=9876543210\n",
    "pancard=True\n",
    "print(name)\n",
    "print(age)\n",
    "print(pancard)\n"
   ]
  },
  {
   "cell_type": "code",
   "execution_count": 259,
   "metadata": {},
   "outputs": [
    {
     "name": "stdout",
     "output_type": "stream",
     "text": [
      "20\n",
      "10\n"
     ]
    }
   ],
   "source": [
    "#WAS to swap 2 values with temp variable\n",
    "a=10\n",
    "b=20\n",
    "temp=a\n",
    "a=b\n",
    "b=temp\n",
    "print(a)\n",
    "print(b)\n"
   ]
  },
  {
   "cell_type": "code",
   "execution_count": 260,
   "metadata": {},
   "outputs": [
    {
     "name": "stdout",
     "output_type": "stream",
     "text": [
      "[10, 20] [30, 40]\n",
      "[30, 40] [10, 20]\n"
     ]
    }
   ],
   "source": [
    "#WAS to swap 2 values with out temp variables\n",
    "m=[10,20]\n",
    "n=[30,40]\n",
    "print(m,n)\n",
    "print(n,m)"
   ]
  },
  {
   "cell_type": "code",
   "execution_count": 261,
   "metadata": {},
   "outputs": [
    {
     "name": "stdout",
     "output_type": "stream",
     "text": [
      "a\n"
     ]
    },
    {
     "data": {
      "text/plain": [
       "[10, 20]"
      ]
     },
     "execution_count": 261,
     "metadata": {},
     "output_type": "execute_result"
    }
   ],
   "source": [
    "#was to initialize the value,print a value,reinitialize the new value to the existing variable and display the value\n",
    "a={'a':\"pyspiders\"}\n",
    "print('a')\n",
    "a['a']=\"qspiders\"\n",
    "a\n",
    "a=[10,20]\n",
    "a\n",
    "\n"
   ]
  },
  {
   "cell_type": "code",
   "execution_count": null,
   "metadata": {},
   "outputs": [],
   "source": []
  },
  {
   "cell_type": "markdown",
   "metadata": {},
   "source": []
  },
  {
   "cell_type": "code",
   "execution_count": 262,
   "metadata": {},
   "outputs": [
    {
     "name": "stdout",
     "output_type": "stream",
     "text": [
      "10\n",
      "['1', '0']\n"
     ]
    }
   ],
   "source": [
    "#WAS to convert single value data type to ,multi value data type\n",
    "#i/p=10 o/p=['1','0']\n",
    "a=10\n",
    "a=str(a)\n",
    "print(str(a))\n",
    "print(list(a))\n"
   ]
  },
  {
   "cell_type": "code",
   "execution_count": 263,
   "metadata": {},
   "outputs": [
    {
     "name": "stdout",
     "output_type": "stream",
     "text": [
      "helloworld\n",
      "[10, 20, 60, 70]\n",
      "prasuteju\n",
      "{10: 20, 30: 40, 'a': 'hyy', 'b': 'byee'}\n"
     ]
    }
   ],
   "source": [
    "#WAS to concatinate two multi value data types(string, list, tupule,set,dict)\n",
    "x=\"hello\"\n",
    "x+=\"world\"\n",
    "print(x)\n",
    "l=[10,20]\n",
    "l+=[60,70]\n",
    "print(l)\n",
    "t=('prasu')\n",
    "t+=('teju')\n",
    "print(t)\n",
    "d={10:20,30:40}\n",
    "d|={'a':\"hyy\",'b':\"byee\"}\n",
    "print(d)\n",
    "\n",
    "\n"
   ]
  },
  {
   "cell_type": "code",
   "execution_count": 264,
   "metadata": {},
   "outputs": [
    {
     "name": "stdout",
     "output_type": "stream",
     "text": [
      "13\n"
     ]
    }
   ],
   "source": [
    "#WAs to concate  length of collection\n",
    "a=\"laxmiprasanna\"\n",
    "print(len(a))"
   ]
  },
  {
   "cell_type": "code",
   "execution_count": 265,
   "metadata": {},
   "outputs": [
    {
     "name": "stdout",
     "output_type": "stream",
     "text": [
      "2\n"
     ]
    }
   ],
   "source": [
    "#WAE to  find out the middle value of given collection\n",
    "a=[10,20,30,40,50]\n",
    "print(len(a)//2)"
   ]
  },
  {
   "cell_type": "code",
   "execution_count": 266,
   "metadata": {},
   "outputs": [
    {
     "name": "stdout",
     "output_type": "stream",
     "text": [
      "hyyhow r u\n"
     ]
    }
   ],
   "source": [
    "#WAS to concate the new string into starting of given string\n",
    "a=\"how r u\"\n",
    "b=\"hyy\"\n",
    "print(b+a)"
   ]
  },
  {
   "cell_type": "code",
   "execution_count": 267,
   "metadata": {},
   "outputs": [
    {
     "name": "stdout",
     "output_type": "stream",
     "text": [
      "helloworld\n"
     ]
    }
   ],
   "source": [
    "#WAS to  concate the new string into ending of given string\n",
    "a=\"hello\"\n",
    "b=\"world\"\n",
    "print(a+b)\n"
   ]
  },
  {
   "cell_type": "code",
   "execution_count": 268,
   "metadata": {},
   "outputs": [
    {
     "name": "stdout",
     "output_type": "stream",
     "text": [
      "pysPIDers\n"
     ]
    }
   ],
   "source": [
    "#WAS TO MODIFY SEQUENCE OF CHARACTERS IN GIVEN STRING\n",
    "s='pyspiders'\n",
    "print(s[0:3]+'PID'+s[6:])"
   ]
  },
  {
   "cell_type": "code",
   "execution_count": 269,
   "metadata": {},
   "outputs": [
    {
     "name": "stdout",
     "output_type": "stream",
     "text": [
      "Qspiders\n"
     ]
    }
   ],
   "source": [
    "#WAS to replace the old character into a new character of given string\n",
    "s='qspiders'\n",
    "print(s[0:0]+'Q'+s[1:])"
   ]
  },
  {
   "cell_type": "code",
   "execution_count": 270,
   "metadata": {},
   "outputs": [
    {
     "name": "stdout",
     "output_type": "stream",
     "text": [
      "prasu\n"
     ]
    }
   ],
   "source": [
    "#WAS TO DELETE SPECIFIC CHARACTER FROM string\n",
    "a=\"prasannau\"\n",
    "print(a[0:4]+a[8:])"
   ]
  },
  {
   "cell_type": "code",
   "execution_count": null,
   "metadata": {},
   "outputs": [],
   "source": []
  },
  {
   "cell_type": "code",
   "execution_count": null,
   "metadata": {},
   "outputs": [],
   "source": []
  },
  {
   "cell_type": "markdown",
   "metadata": {},
   "source": []
  },
  {
   "cell_type": "code",
   "execution_count": 271,
   "metadata": {},
   "outputs": [
    {
     "name": "stdout",
     "output_type": "stream",
     "text": [
      "pyspider.coms\n"
     ]
    }
   ],
   "source": [
    "#WAS to concate new string into specific position of given string\n",
    "m= \"pyspiders\"\n",
    "print(m[0:8]+'.com'+m[8:])"
   ]
  },
  {
   "cell_type": "code",
   "execution_count": 272,
   "metadata": {},
   "outputs": [
    {
     "name": "stdout",
     "output_type": "stream",
     "text": [
      "hey hii\n"
     ]
    }
   ],
   "source": [
    "#WAS to delete sequence of characters of string\n",
    "n=\"hey bye hii\"\n",
    "print(n[0:4]+n[8:])"
   ]
  },
  {
   "cell_type": "code",
   "execution_count": 273,
   "metadata": {},
   "outputs": [
    {
     "name": "stdout",
     "output_type": "stream",
     "text": [
      "[20, 30, 1, 2, 3]\n"
     ]
    }
   ],
   "source": [
    "#WAS to concate new value into starting of the list\n",
    "l=[1,2,3]\n",
    "\n",
    "print([20,30]+l)\n"
   ]
  },
  {
   "cell_type": "code",
   "execution_count": 274,
   "metadata": {},
   "outputs": [
    {
     "name": "stdout",
     "output_type": "stream",
     "text": [
      "[5, 6, 7, 99, 100]\n"
     ]
    }
   ],
   "source": [
    "#WAS to concate new value at end of the list\n",
    "a=[5,6,7]\n",
    "print(a+[99,100])\n"
   ]
  },
  {
   "cell_type": "code",
   "execution_count": 275,
   "metadata": {},
   "outputs": [
    {
     "data": {
      "text/plain": [
       "[1, 4, 5, 3]"
      ]
     },
     "execution_count": 275,
     "metadata": {},
     "output_type": "execute_result"
    }
   ],
   "source": [
    "#WAS to concate the new values in the middle of the list\n",
    "y=[1,3]\n",
    "y[0:1]+[4,5]+y[1:]"
   ]
  },
  {
   "cell_type": "code",
   "execution_count": 276,
   "metadata": {},
   "outputs": [
    {
     "name": "stdout",
     "output_type": "stream",
     "text": [
      "[10, 20, 30, 100, 200, 40, 50]\n"
     ]
    }
   ],
   "source": [
    "#was to cancate new value into specific position of given list\n",
    "l=[10,20,30,40,50]\n",
    "l[-2:-2]=[100,200]\n",
    "print(l)"
   ]
  },
  {
   "cell_type": "code",
   "execution_count": 277,
   "metadata": {},
   "outputs": [
    {
     "name": "stdout",
     "output_type": "stream",
     "text": [
      "['a', 'f', 'c', 'd']\n"
     ]
    }
   ],
   "source": [
    "#WAS to modify the new value into the specific position of givedmn list\n",
    "l=['a','b','c','d']\n",
    "l[1]='f'\n",
    "print(l)"
   ]
  },
  {
   "cell_type": "code",
   "execution_count": 278,
   "metadata": {},
   "outputs": [
    {
     "name": "stdout",
     "output_type": "stream",
     "text": [
      "['prasu', 20, 'true', 'haii']\n"
     ]
    }
   ],
   "source": [
    "#WAS to modify the new value into the starting of given list\n",
    "l=[10,20,'true','haii']\n",
    "l[-4]='prasu'\n",
    "print(l)"
   ]
  },
  {
   "cell_type": "code",
   "execution_count": 279,
   "metadata": {},
   "outputs": [
    {
     "name": "stdout",
     "output_type": "stream",
     "text": [
      "[10, 20, 'true', 'prasu']\n"
     ]
    }
   ],
   "source": [
    "#WAS to modify the new value into the ending of given list\n",
    "l=[10,20,'true','haii']\n",
    "l[3]='prasu'\n",
    "print(l)"
   ]
  },
  {
   "cell_type": "code",
   "execution_count": 280,
   "metadata": {},
   "outputs": [
    {
     "name": "stdout",
     "output_type": "stream",
     "text": [
      "[10, 20, 'false', 'haii']\n"
     ]
    }
   ],
   "source": [
    "#WAS to modify the new value into the middle of given list\n",
    "l=[10,20,'true','haii']\n",
    "l[len(l)//2]='false'\n",
    "print(l)\n"
   ]
  },
  {
   "cell_type": "code",
   "execution_count": 281,
   "metadata": {},
   "outputs": [
    {
     "name": "stdout",
     "output_type": "stream",
     "text": [
      "[20, 30, 40, 'prasuu', 13, 16]\n"
     ]
    }
   ],
   "source": [
    "#was to modify first 4 positions of given list\n",
    "l=[10,20,'true','haii',13,16]\n",
    "l[0:4]=[20,30,40,'prasuu']\n",
    "print(l) "
   ]
  },
  {
   "cell_type": "code",
   "execution_count": 282,
   "metadata": {},
   "outputs": [
    {
     "name": "stdout",
     "output_type": "stream",
     "text": [
      "[1, 'a', 3, 'b', 5, 'c', 7, 'd', 9]\n"
     ]
    }
   ],
   "source": [
    "#was to modify the sequence of values in given list\n",
    "h=[1,2,3,4,5,6,7,8,9]\n",
    "h[1::2]=['a','b','c','d']\n",
    "print(h)\n",
    "\n"
   ]
  },
  {
   "cell_type": "code",
   "execution_count": 283,
   "metadata": {},
   "outputs": [
    {
     "name": "stdout",
     "output_type": "stream",
     "text": [
      "[1, 2, 3, 4, 6]\n"
     ]
    }
   ],
   "source": [
    "#WAS to delete the value in specific position of given list\n",
    "h=[1,2,3,4,5,6]\n",
    "del h[4]\n",
    "print(h)"
   ]
  },
  {
   "cell_type": "code",
   "execution_count": 284,
   "metadata": {},
   "outputs": [
    {
     "name": "stdout",
     "output_type": "stream",
     "text": [
      "[1, 2, 3, 4, 5]\n"
     ]
    }
   ],
   "source": [
    "#WAS to delete the value in ending of the list\n",
    "h=[1,2,3,4,5,6]\n",
    "del h[-1]\n",
    "print(h)"
   ]
  },
  {
   "cell_type": "code",
   "execution_count": 285,
   "metadata": {},
   "outputs": [
    {
     "name": "stdout",
     "output_type": "stream",
     "text": [
      "[10, 20, 'true', 13, 16]\n"
     ]
    }
   ],
   "source": [
    "#WAS to delete the value in middle of the list\n",
    "l=[10,20,'true','haii',13,16]\n",
    "del l[len(l)//2]\n",
    "print(l)"
   ]
  },
  {
   "cell_type": "code",
   "execution_count": 286,
   "metadata": {},
   "outputs": [
    {
     "name": "stdout",
     "output_type": "stream",
     "text": [
      "(50, 10, 20, 30, 40)\n"
     ]
    }
   ],
   "source": [
    "#WAS to concate the value into starting of tuple\n",
    "t=(10,20,30,40)\n",
    "t=(50,)+t\n",
    "print(t)"
   ]
  },
  {
   "cell_type": "code",
   "execution_count": 287,
   "metadata": {},
   "outputs": [
    {
     "ename": "TypeError",
     "evalue": "'tuple' object does not support item assignment",
     "output_type": "error",
     "traceback": [
      "\u001b[1;31m---------------------------------------------------------------------------\u001b[0m",
      "\u001b[1;31mTypeError\u001b[0m                                 Traceback (most recent call last)",
      "Cell \u001b[1;32mIn[287], line 3\u001b[0m\n\u001b[0;32m      1\u001b[0m \u001b[39m#WAS to concate the  middle value into starting of tuple\u001b[39;00m\n\u001b[0;32m      2\u001b[0m t\u001b[39m=\u001b[39m(\u001b[39m10\u001b[39m,\u001b[39m20\u001b[39m,\u001b[39m30\u001b[39m,\u001b[39m40\u001b[39m)\n\u001b[1;32m----> 3\u001b[0m t[\u001b[39mlen\u001b[39;49m(t)\u001b[39m/\u001b[39;49m\u001b[39m/\u001b[39;49m\u001b[39m2\u001b[39;49m]\u001b[39m=\u001b[39m(\u001b[39m5\u001b[39m,\u001b[39m6\u001b[39m)\n",
      "\u001b[1;31mTypeError\u001b[0m: 'tuple' object does not support item assignment"
     ]
    }
   ],
   "source": [
    "#WAS to concate the  middle value into starting of tuple\n",
    "t=(10,20,30,40)\n",
    "t[len(t)//2]=(5,6)"
   ]
  },
  {
   "cell_type": "code",
   "execution_count": null,
   "metadata": {},
   "outputs": [
    {
     "name": "stdout",
     "output_type": "stream",
     "text": [
      "(10, 20, 30, 40, 50)\n"
     ]
    }
   ],
   "source": [
    "#WAS to concate the value into ending of tuple\n",
    "t=(10,20,30,40)\n",
    "t=t+(50,)\n",
    "print(t)"
   ]
  },
  {
   "cell_type": "code",
   "execution_count": null,
   "metadata": {},
   "outputs": [
    {
     "name": "stdout",
     "output_type": "stream",
     "text": [
      "(10, 20, 30, 40)\n"
     ]
    }
   ],
   "source": [
    "#was to modify sequence of values in given tupule\n",
    "t=(10,20,30,40)\n",
    "t[2:1]\n",
    "print(t)"
   ]
  },
  {
   "cell_type": "code",
   "execution_count": null,
   "metadata": {},
   "outputs": [
    {
     "ename": "TypeError",
     "evalue": "'tuple' object does not support item deletion",
     "output_type": "error",
     "traceback": [
      "\u001b[1;31m---------------------------------------------------------------------------\u001b[0m",
      "\u001b[1;31mTypeError\u001b[0m                                 Traceback (most recent call last)",
      "Cell \u001b[1;32mIn[252], line 3\u001b[0m\n\u001b[0;32m      1\u001b[0m \u001b[39m# was to delete sequence of values in given tuple\u001b[39;00m\n\u001b[0;32m      2\u001b[0m t\u001b[39m=\u001b[39m(\u001b[39m10\u001b[39m,\u001b[39m20\u001b[39m,\u001b[39m30\u001b[39m,\u001b[39m40\u001b[39m)\n\u001b[1;32m----> 3\u001b[0m \u001b[39mdel\u001b[39;00m t[\u001b[39m-\u001b[39;49m\u001b[39m2\u001b[39;49m:\u001b[39m-\u001b[39;49m\u001b[39m1\u001b[39;49m]\n",
      "\u001b[1;31mTypeError\u001b[0m: 'tuple' object does not support item deletion"
     ]
    }
   ],
   "source": [
    "# was to delete sequence of values in given tuple\n",
    "t=(10,20,30,40)\n",
    "del t[-2:-1]"
   ]
  },
  {
   "cell_type": "code",
   "execution_count": null,
   "metadata": {},
   "outputs": [
    {
     "ename": "TypeError",
     "evalue": "unsupported operand type(s) for /=: 'set' and 'set'",
     "output_type": "error",
     "traceback": [
      "\u001b[1;31m---------------------------------------------------------------------------\u001b[0m",
      "\u001b[1;31mTypeError\u001b[0m                                 Traceback (most recent call last)",
      "Cell \u001b[1;32mIn[76], line 3\u001b[0m\n\u001b[0;32m      1\u001b[0m \u001b[39m#was to concate new value into set\u001b[39;00m\n\u001b[0;32m      2\u001b[0m s\u001b[39m=\u001b[39m{\u001b[39m1\u001b[39m,\u001b[39m2\u001b[39m,\u001b[39m3\u001b[39m}\n\u001b[1;32m----> 3\u001b[0m s\u001b[39m/\u001b[39;49m\u001b[39m=\u001b[39;49m{\u001b[39m10\u001b[39;49m,\u001b[39m20\u001b[39;49m,\u001b[39m30\u001b[39;49m}\n\u001b[0;32m      4\u001b[0m \u001b[39mprint\u001b[39m(s)\n",
      "\u001b[1;31mTypeError\u001b[0m: unsupported operand type(s) for /=: 'set' and 'set'"
     ]
    }
   ],
   "source": [
    "#was to concate new value into set\n",
    "s={1,2,3}\n",
    "s/={10,20,30}\n",
    "print(s)\n"
   ]
  },
  {
   "cell_type": "code",
   "execution_count": null,
   "metadata": {},
   "outputs": [
    {
     "name": "stdout",
     "output_type": "stream",
     "text": [
      "{1, 2, 3, 7}\n"
     ]
    }
   ],
   "source": [
    "#was to delete specific value from the set\n",
    "s={1,2,3,4,5,6,7}\n",
    "s=s-{4,5,6}\n",
    "print(s)\n"
   ]
  },
  {
   "cell_type": "code",
   "execution_count": null,
   "metadata": {},
   "outputs": [
    {
     "name": "stdout",
     "output_type": "stream",
     "text": [
      "{'a': 50, 'b': 100}\n"
     ]
    }
   ],
   "source": [
    "#WAS to concate new key and value into the dictionary\n",
    "d={'a':50}\n",
    "d['b']=100\n",
    "print(d)\n"
   ]
  },
  {
   "cell_type": "code",
   "execution_count": null,
   "metadata": {},
   "outputs": [
    {
     "name": "stdout",
     "output_type": "stream",
     "text": [
      "{'a': 50}\n"
     ]
    }
   ],
   "source": [
    "#was to delete the specific key and value in given dict\n",
    "d={'a': 50, 'b': 100}\n",
    "del d['b']\n",
    "print(d)"
   ]
  },
  {
   "cell_type": "code",
   "execution_count": null,
   "metadata": {},
   "outputs": [
    {
     "name": "stdout",
     "output_type": "stream",
     "text": [
      "{'a': 50, 'b': 100, 'c': 'haii'}\n"
     ]
    }
   ],
   "source": [
    "#was to modify the specific  value in given dict\n",
    "d={'a': 50, 'b': 100,'c':150}\n",
    "d['c']='haii'\n",
    "print(d)"
   ]
  },
  {
   "cell_type": "code",
   "execution_count": null,
   "metadata": {},
   "outputs": [
    {
     "name": "stdout",
     "output_type": "stream",
     "text": [
      "['hyy', 'bye', 10, 20, 30]\n"
     ]
    }
   ],
   "source": [
    "#was to concate the list and tupule values by without type casting\n",
    "l=['hyy','bye']\n",
    "t=(10,20,30)\n",
    "l+=t\n",
    "print(l)"
   ]
  },
  {
   "cell_type": "code",
   "execution_count": null,
   "metadata": {},
   "outputs": [
    {
     "data": {
      "text/plain": [
       "['hyy', 'bye', 10, 20, 30]"
      ]
     },
     "execution_count": 49,
     "metadata": {},
     "output_type": "execute_result"
    }
   ],
   "source": [
    "#was to concate the list and tupule values by with type casting\n",
    "l=['hyy','bye']\n",
    "t=(10,20,30)\n",
    "l+list(t)\n"
   ]
  },
  {
   "cell_type": "code",
   "execution_count": null,
   "metadata": {},
   "outputs": [
    {
     "name": "stdout",
     "output_type": "stream",
     "text": [
      "True\n"
     ]
    }
   ],
   "source": [
    "#WAE to check the given number is divisible by 3\n",
    "n=36\n",
    "print(n%3==0)"
   ]
  },
  {
   "cell_type": "code",
   "execution_count": null,
   "metadata": {},
   "outputs": [
    {
     "name": "stdout",
     "output_type": "stream",
     "text": [
      "True\n"
     ]
    }
   ],
   "source": [
    "#WAE to check the given number is divisible by 2 and 6\n",
    "n=60\n",
    "print(n%2==0 and n%6==0)"
   ]
  },
  {
   "cell_type": "code",
   "execution_count": null,
   "metadata": {},
   "outputs": [
    {
     "name": "stdout",
     "output_type": "stream",
     "text": [
      "True\n"
     ]
    }
   ],
   "source": [
    "#WAE to check the last digit is divisible by 3\n",
    "n=996\n",
    "print(((n%10)%3)==0)"
   ]
  },
  {
   "cell_type": "code",
   "execution_count": null,
   "metadata": {},
   "outputs": [
    {
     "name": "stdout",
     "output_type": "stream",
     "text": [
      "7\n",
      "97\n",
      "997\n"
     ]
    }
   ],
   "source": [
    "#wae to extract last digit of integer\n",
    "n=1997\n",
    "print(n%10)\n",
    "print(n%100)\n",
    "print(n%1000)\n",
    "\n"
   ]
  },
  {
   "cell_type": "code",
   "execution_count": null,
   "metadata": {},
   "outputs": [
    {
     "name": "stdout",
     "output_type": "stream",
     "text": [
      "True\n"
     ]
    }
   ],
   "source": [
    "#wae to check the last digit is divisible by 3 from given integer\n",
    "n=3039\n",
    "print(int(str(n)[-1])%3==0)"
   ]
  },
  {
   "cell_type": "code",
   "execution_count": null,
   "metadata": {},
   "outputs": [
    {
     "name": "stdout",
     "output_type": "stream",
     "text": [
      "False\n"
     ]
    }
   ],
   "source": [
    "#wae to check the given number is greater than 150\n",
    "n=145\n",
    "print(n>150)"
   ]
  },
  {
   "cell_type": "code",
   "execution_count": null,
   "metadata": {},
   "outputs": [
    {
     "name": "stdout",
     "output_type": "stream",
     "text": [
      "True\n"
     ]
    }
   ],
   "source": [
    "#wae to check the given number is greater than or  equal to 100\n",
    "n=110\n",
    "print(n>=100)"
   ]
  },
  {
   "cell_type": "code",
   "execution_count": null,
   "metadata": {},
   "outputs": [
    {
     "name": "stdout",
     "output_type": "stream",
     "text": [
      "True\n"
     ]
    }
   ],
   "source": [
    "#wae to check the given number is less than 150.print the result\n",
    "n=147\n",
    "print(n<150)"
   ]
  },
  {
   "cell_type": "code",
   "execution_count": null,
   "metadata": {},
   "outputs": [
    {
     "name": "stdout",
     "output_type": "stream",
     "text": [
      "True\n"
     ]
    }
   ],
   "source": [
    "#wae to check the given number is greater than 15 and less than 24\n",
    "n=20\n",
    "print(n>15  and n<24)"
   ]
  },
  {
   "cell_type": "code",
   "execution_count": null,
   "metadata": {},
   "outputs": [
    {
     "name": "stdout",
     "output_type": "stream",
     "text": [
      "True\n"
     ]
    }
   ],
   "source": [
    "#wae to check given no. is even\n",
    "n=16\n",
    "print(n%2==0)"
   ]
  },
  {
   "cell_type": "code",
   "execution_count": null,
   "metadata": {},
   "outputs": [
    {
     "name": "stdout",
     "output_type": "stream",
     "text": [
      "True\n"
     ]
    }
   ],
   "source": [
    "#wae to check given no. is odd\n",
    "n=19\n",
    "print(n%2!=0)"
   ]
  },
  {
   "cell_type": "code",
   "execution_count": null,
   "metadata": {},
   "outputs": [
    {
     "name": "stdout",
     "output_type": "stream",
     "text": [
      "True\n"
     ]
    }
   ],
   "source": [
    "#wae to check the given no is less than or equal to 100\n",
    "n=100\n",
    "print(n<=100)"
   ]
  },
  {
   "cell_type": "code",
   "execution_count": null,
   "metadata": {},
   "outputs": [
    {
     "name": "stdout",
     "output_type": "stream",
     "text": [
      "abdabdabdabdabdabd\n",
      "[10, 20, 10, 20, 10, 20, 10, 20, 10, 20, 10, 20]\n"
     ]
    }
   ],
   "source": [
    "#WAE to perform the replication of given string with 6\n",
    "s='abd'\n",
    "print(s*6)\n",
    "s=[10,20]\n",
    "print(s*6)"
   ]
  },
  {
   "cell_type": "code",
   "execution_count": null,
   "metadata": {},
   "outputs": [
    {
     "name": "stdout",
     "output_type": "stream",
     "text": [
      "True\n"
     ]
    }
   ],
   "source": [
    "#wae to check the given number is divisble by 3 and also greate than 22\n",
    "n=36\n",
    "print(n%3==0 and n>22)"
   ]
  },
  {
   "cell_type": "code",
   "execution_count": null,
   "metadata": {},
   "outputs": [
    {
     "data": {
      "text/plain": [
       "True"
      ]
     },
     "execution_count": 75,
     "metadata": {},
     "output_type": "execute_result"
    }
   ],
   "source": [
    "#wae to check length of collection is even or not\n",
    "m='prasanna'\n",
    "(len(m)%2==0)"
   ]
  },
  {
   "cell_type": "code",
   "execution_count": null,
   "metadata": {},
   "outputs": [
    {
     "name": "stdout",
     "output_type": "stream",
     "text": [
      "True\n"
     ]
    }
   ],
   "source": [
    "#wae to check length of collection is less than 55 or greater than 16\n",
    "m='laxmiprasannaprasuuuu'\n",
    "print(16<len(m)<55)"
   ]
  },
  {
   "cell_type": "code",
   "execution_count": null,
   "metadata": {},
   "outputs": [
    {
     "data": {
      "text/plain": [
       "False"
      ]
     },
     "execution_count": 78,
     "metadata": {},
     "output_type": "execute_result"
    }
   ],
   "source": [
    "#wae to check length of collection is divisible by 5 and odd\n",
    "m='hyeebyehlo'\n",
    "(len(m)%5==0 and len(m)%2!=0)"
   ]
  },
  {
   "cell_type": "code",
   "execution_count": null,
   "metadata": {},
   "outputs": [
    {
     "name": "stdout",
     "output_type": "stream",
     "text": [
      "[2]\n",
      "True\n",
      "[2]\n",
      "True\n",
      "[1]\n",
      "True\n"
     ]
    }
   ],
   "source": [
    "#wae to extract middle position of given collection either string ,list,tupule\n",
    "s='hey!'\n",
    "print([len(s)//2])\n",
    "res=type([len(s)//2])\n",
    "print(res==str or res==tuple or res==list)\n",
    "s=[10,20,30,40,50]\n",
    "print([len(s)//2])\n",
    "res=type([len(s)//2])\n",
    "print(res==str or res==tuple or res==list)\n",
    "s={10:20,30:40,50:60}\n",
    "print([len(s)//2])\n",
    "res=type([len(s)//2])\n",
    "print(res==str or res==tuple or res==list)"
   ]
  },
  {
   "cell_type": "code",
   "execution_count": null,
   "metadata": {},
   "outputs": [
    {
     "name": "stdout",
     "output_type": "stream",
     "text": [
      "True\n"
     ]
    }
   ],
   "source": [
    "#wae to check the given no. is odd and greater than 97\n",
    "n=111\n",
    "print(n>97 and n%2!=0)"
   ]
  },
  {
   "cell_type": "code",
   "execution_count": null,
   "metadata": {},
   "outputs": [
    {
     "name": "stdout",
     "output_type": "stream",
     "text": [
      "True\n"
     ]
    }
   ],
   "source": [
    "#wae to check given number is greater than 20 and less than 30 and it should be even\n",
    "n=28\n",
    "print(20<n<30 and n%2==0)"
   ]
  },
  {
   "cell_type": "code",
   "execution_count": null,
   "metadata": {},
   "outputs": [
    {
     "name": "stdout",
     "output_type": "stream",
     "text": [
      "False\n",
      "True\n"
     ]
    }
   ],
   "source": [
    "#wae to check given no. is even and it should be less than 120\n",
    "n=136\n",
    "print(n%2==0 and n<120)\n",
    "print(n%2==0 or n<120)\n"
   ]
  },
  {
   "cell_type": "code",
   "execution_count": null,
   "metadata": {},
   "outputs": [
    {
     "name": "stdout",
     "output_type": "stream",
     "text": [
      "True\n"
     ]
    }
   ],
   "source": [
    "#wae to check given no. is less than 122 and greater than 48 and no.should be divisible by 4\n",
    "n=96\n",
    "print(48<n<122 and n%4==0)"
   ]
  },
  {
   "cell_type": "code",
   "execution_count": null,
   "metadata": {},
   "outputs": [
    {
     "name": "stdout",
     "output_type": "stream",
     "text": [
      "True\n"
     ]
    }
   ],
   "source": [
    "#wae to check the given no. is divisible by 3 or 5,display the value\n",
    "n=150\n",
    "print(n%3==0 or n%5==0)"
   ]
  },
  {
   "cell_type": "code",
   "execution_count": null,
   "metadata": {},
   "outputs": [
    {
     "name": "stdout",
     "output_type": "stream",
     "text": [
      "True\n"
     ]
    }
   ],
   "source": [
    "#wae to checkn the given no is between 100 to 200 including the limit\n",
    "n=150\n",
    "print(100<=n<=200)"
   ]
  },
  {
   "cell_type": "code",
   "execution_count": null,
   "metadata": {},
   "outputs": [
    {
     "name": "stdout",
     "output_type": "stream",
     "text": [
      "False\n"
     ]
    }
   ],
   "source": [
    "#wae to checkn the given no is in between 100 to 200 \n",
    "n=269\n",
    "print(100<n<200)"
   ]
  },
  {
   "cell_type": "code",
   "execution_count": null,
   "metadata": {},
   "outputs": [
    {
     "name": "stdout",
     "output_type": "stream",
     "text": [
      "False\n"
     ]
    }
   ],
   "source": [
    "#WAE to check the given string last character  ascii value and should be divisible by 5 or not\n",
    "s='purple'\n",
    "print(ord (s[-1])%5==0) # ord is built in function to fetch ascii value\n",
    "\n"
   ]
  },
  {
   "cell_type": "code",
   "execution_count": null,
   "metadata": {},
   "outputs": [
    {
     "name": "stdout",
     "output_type": "stream",
     "text": [
      "False\n"
     ]
    }
   ],
   "source": [
    "#wae to check the given number is present in between 60 to 130 and the number should be divisible by 3 and 4 and last digit sgould be greater than 9\n",
    "n=126\n",
    "print(60<n<130 and n%3==0 and n%4==0 and n%10>9)"
   ]
  },
  {
   "cell_type": "code",
   "execution_count": null,
   "metadata": {},
   "outputs": [
    {
     "name": "stdout",
     "output_type": "stream",
     "text": [
      "True\n"
     ]
    }
   ],
   "source": [
    "#WAE to check the given no is even or less than 25\n",
    "n=24\n",
    "print(n%2==0  or n<25)"
   ]
  },
  {
   "cell_type": "code",
   "execution_count": null,
   "metadata": {},
   "outputs": [
    {
     "name": "stdout",
     "output_type": "stream",
     "text": [
      "True\n"
     ]
    }
   ],
   "source": [
    "#WAE to check the given no is even or greater than 25\n",
    "n=26\n",
    "print(n%2==0  or n>25)"
   ]
  },
  {
   "cell_type": "code",
   "execution_count": null,
   "metadata": {},
   "outputs": [
    {
     "name": "stdout",
     "output_type": "stream",
     "text": [
      "True\n"
     ]
    }
   ],
   "source": [
    "#WAE to check the given no is divisible by either3 or 5\n",
    "n=45\n",
    "print(n%3==0 or n%5==0)"
   ]
  },
  {
   "cell_type": "code",
   "execution_count": null,
   "metadata": {},
   "outputs": [
    {
     "name": "stdout",
     "output_type": "stream",
     "text": [
      "True\n"
     ]
    }
   ],
   "source": [
    "#WAE to check the given no. is not an even number\n",
    "n=67\n",
    "print(n%2!=0)\n"
   ]
  },
  {
   "cell_type": "code",
   "execution_count": null,
   "metadata": {},
   "outputs": [
    {
     "name": "stdout",
     "output_type": "stream",
     "text": [
      "True\n"
     ]
    }
   ],
   "source": [
    "#WAE to check the given no. is not an odd number\n",
    "n=26\n",
    "print(n%2==0)\n",
    "\n"
   ]
  },
  {
   "cell_type": "code",
   "execution_count": null,
   "metadata": {},
   "outputs": [
    {
     "name": "stdout",
     "output_type": "stream",
     "text": [
      "True\n"
     ]
    }
   ],
   "source": [
    "#WAE to check the given no is not divisible by 3\n",
    "n=19\n",
    "print(n%3!=0)"
   ]
  },
  {
   "cell_type": "code",
   "execution_count": null,
   "metadata": {},
   "outputs": [
    {
     "name": "stdout",
     "output_type": "stream",
     "text": [
      "True\n"
     ]
    }
   ],
   "source": [
    "#WAE to check the given no is not divisible by 3 and 5\n",
    "n=35\n",
    "print(n%3!=0 or n%5!=0)"
   ]
  },
  {
   "cell_type": "code",
   "execution_count": null,
   "metadata": {},
   "outputs": [
    {
     "name": "stdout",
     "output_type": "stream",
     "text": [
      "True\n"
     ]
    }
   ],
   "source": [
    "#WAE to check the given character ascii value is not divisible by 5\n",
    "ch='r'\n",
    "print(ord(ch)%5!=5)"
   ]
  },
  {
   "cell_type": "code",
   "execution_count": null,
   "metadata": {},
   "outputs": [
    {
     "name": "stdout",
     "output_type": "stream",
     "text": [
      "\u0013\n",
      "A\n"
     ]
    }
   ],
   "source": [
    " #WAE to find out ascii character in a given number\n",
    "n=19\n",
    "print(chr(n))\n",
    "n=65\n",
    "print(chr(n))\n"
   ]
  },
  {
   "cell_type": "code",
   "execution_count": null,
   "metadata": {},
   "outputs": [
    {
     "name": "stdout",
     "output_type": "stream",
     "text": [
      "104\n"
     ]
    }
   ],
   "source": [
    " #WAE to find out ascii value in a given number\n",
    "ch='h'\n",
    "print(ord(ch))"
   ]
  },
  {
   "cell_type": "code",
   "execution_count": null,
   "metadata": {},
   "outputs": [
    {
     "name": "stdout",
     "output_type": "stream",
     "text": [
      "True\n",
      "True\n",
      "True\n",
      "False\n"
     ]
    }
   ],
   "source": [
    "#WAE to check the given character is uppercase or not\n",
    "ch='M'\n",
    "print('A'<=ch<='Z')\n",
    "print(len(ch)==1 and 'A'<=ch<='Z')\n",
    "ch='Gh'\n",
    "print('A'<=ch<='Z')\n",
    "print(len(ch)==1 and 'A'<=ch<='Z')\n",
    "\n"
   ]
  },
  {
   "cell_type": "code",
   "execution_count": null,
   "metadata": {},
   "outputs": [
    {
     "name": "stdout",
     "output_type": "stream",
     "text": [
      "True\n",
      "True\n"
     ]
    }
   ],
   "source": [
    "#WAE to check the given character is alphabet \n",
    "ch='Z'\n",
    "print('A'<=ch<='Z' or 'a'<=ch<='b')\n",
    "print(len(ch)==1 or 'a'<=ch<='z')"
   ]
  },
  {
   "cell_type": "code",
   "execution_count": null,
   "metadata": {},
   "outputs": [
    {
     "name": "stdout",
     "output_type": "stream",
     "text": [
      "True\n"
     ]
    }
   ],
   "source": [
    "#wae to check the given character is lower case or not\n",
    "ch='e'\n",
    "print('a'<=ch<='z')"
   ]
  },
  {
   "cell_type": "code",
   "execution_count": null,
   "metadata": {},
   "outputs": [
    {
     "name": "stdout",
     "output_type": "stream",
     "text": [
      "True\n"
     ]
    }
   ],
   "source": [
    "#WAE to check the given character is an ascii number\n",
    "ch=9\n",
    "print(0<=ch<=9)"
   ]
  },
  {
   "cell_type": "code",
   "execution_count": null,
   "metadata": {},
   "outputs": [
    {
     "name": "stdout",
     "output_type": "stream",
     "text": [
      "True\n"
     ]
    }
   ],
   "source": [
    "#WAE to check given character is special character\n",
    "ch='@'\n",
    "print(not('A'<=ch<='Z' or 'a'<=ch<='b'or '0'<=ch<='9'))"
   ]
  },
  {
   "cell_type": "code",
   "execution_count": null,
   "metadata": {},
   "outputs": [
    {
     "name": "stdout",
     "output_type": "stream",
     "text": [
      "True\n"
     ]
    }
   ],
   "source": [
    "#WAE to  check the given character should not be uppercase \n",
    "ch='g'\n",
    "print(not('A'<=ch<='Z'))\n",
    " "
   ]
  },
  {
   "cell_type": "code",
   "execution_count": null,
   "metadata": {},
   "outputs": [
    {
     "name": "stdout",
     "output_type": "stream",
     "text": [
      "True\n"
     ]
    }
   ],
   "source": [
    "#WAE to  check the given character should not be lowercase\n",
    "ch='G'\n",
    "print(not('a'<=ch<='z'))"
   ]
  },
  {
   "cell_type": "code",
   "execution_count": null,
   "metadata": {},
   "outputs": [
    {
     "name": "stdout",
     "output_type": "stream",
     "text": [
      "True\n"
     ]
    }
   ],
   "source": [
    "#WAE to check the given character should not be a alphabet\n",
    "ch='&'\n",
    "print(not('A'<=ch<='Z' or 'a'<=ch<='b'))\n"
   ]
  },
  {
   "cell_type": "code",
   "execution_count": null,
   "metadata": {},
   "outputs": [
    {
     "name": "stdout",
     "output_type": "stream",
     "text": [
      "False\n"
     ]
    }
   ],
   "source": [
    "#WAE to check the given character should not be a ascii number\n",
    "ch=5\n",
    "print(not(0<=ch<=9))\n"
   ]
  },
  {
   "cell_type": "code",
   "execution_count": null,
   "metadata": {},
   "outputs": [
    {
     "name": "stdout",
     "output_type": "stream",
     "text": [
      "False\n"
     ]
    }
   ],
   "source": [
    "#WAE to check given character should not be a spcl character\n",
    "ch='@'\n",
    "print('A'<=ch<='Z' or 'a'<=ch<='b'or '0'<=ch<='9')\n",
    "\n"
   ]
  },
  {
   "cell_type": "code",
   "execution_count": null,
   "metadata": {},
   "outputs": [
    {
     "data": {
      "text/plain": [
       "True"
      ]
     },
     "execution_count": 73,
     "metadata": {},
     "output_type": "execute_result"
    }
   ],
   "source": [
    "#WAE  to check the given alphabet is vowel\n",
    "ch='e'\n",
    "print(ch in 'aeiouAEIOU') "
   ]
  },
  {
   "cell_type": "code",
   "execution_count": null,
   "metadata": {},
   "outputs": [
    {
     "name": "stdout",
     "output_type": "stream",
     "text": [
      "True\n"
     ]
    }
   ],
   "source": [
    "#WAE  to check the given alphabet is consonant\n",
    "ch='B'\n",
    "print(ch not in 'aeiouAEIOU')"
   ]
  }
 ],
 "metadata": {
  "kernelspec": {
   "display_name": "Python 3",
   "language": "python",
   "name": "python3"
  },
  "language_info": {
   "codemirror_mode": {
    "name": "ipython",
    "version": 3
   },
   "file_extension": ".py",
   "mimetype": "text/x-python",
   "name": "python",
   "nbconvert_exporter": "python",
   "pygments_lexer": "ipython3",
   "version": "3.11.4"
  },
  "orig_nbformat": 4
 },
 "nbformat": 4,
 "nbformat_minor": 2
}
