{
 "cells": [
  {
   "cell_type": "code",
   "execution_count": 1,
   "metadata": {},
   "outputs": [
    {
     "name": "stdout",
     "output_type": "stream",
     "text": [
      "hello world\n"
     ]
    }
   ],
   "source": [
    "print(\"hello world\")"
   ]
  },
  {
   "cell_type": "code",
   "execution_count": 2,
   "metadata": {},
   "outputs": [
    {
     "name": "stdout",
     "output_type": "stream",
     "text": [
      "50\n"
     ]
    }
   ],
   "source": [
    "#write a statement to initialize variable and value as 50\n",
    "a=50\n",
    "print(a)\n",
    "\n"
   ]
  },
  {
   "cell_type": "code",
   "execution_count": 3,
   "metadata": {},
   "outputs": [
    {
     "name": "stdout",
     "output_type": "stream",
     "text": [
      "150 120 250\n"
     ]
    }
   ],
   "source": [
    "#write a statement to initialize multi variable values \n",
    "a,b,c =150,120,250\n",
    "print(a,b,c)"
   ]
  },
  {
   "cell_type": "code",
   "execution_count": 4,
   "metadata": {},
   "outputs": [
    {
     "name": "stdout",
     "output_type": "stream",
     "text": [
      "<class 'dict'>\n"
     ]
    }
   ],
   "source": [
    "#WAS to print type of data in given value\n",
    "a={b:25}\n",
    "print(type(a))"
   ]
  },
  {
   "cell_type": "code",
   "execution_count": 5,
   "metadata": {},
   "outputs": [
    {
     "name": "stdout",
     "output_type": "stream",
     "text": [
      "2743967129536\n"
     ]
    }
   ],
   "source": [
    "#WAS to print the adress of memory block in given value\n",
    "a=[10,20]\n",
    "print(id(a))"
   ]
  },
  {
   "cell_type": "code",
   "execution_count": 6,
   "metadata": {},
   "outputs": [
    {
     "name": "stdout",
     "output_type": "stream",
     "text": [
      "prasu\n",
      "22\n",
      "True\n"
     ]
    }
   ],
   "source": [
    "#WAS to print your details ,first store your details , extract and display.\n",
    "name='prasu'\n",
    "age=22\n",
    "phno=9876543210\n",
    "pancard=True\n",
    "print(name)\n",
    "print(age)\n",
    "print(pancard)\n"
   ]
  },
  {
   "cell_type": "code",
   "execution_count": 7,
   "metadata": {},
   "outputs": [
    {
     "name": "stdout",
     "output_type": "stream",
     "text": [
      "20\n",
      "10\n"
     ]
    }
   ],
   "source": [
    "#WAS to swap 2 values with temp variable\n",
    "a=10\n",
    "b=20\n",
    "temp=a\n",
    "a=b\n",
    "b=temp\n",
    "print(a)\n",
    "print(b)\n"
   ]
  },
  {
   "cell_type": "code",
   "execution_count": 8,
   "metadata": {},
   "outputs": [
    {
     "name": "stdout",
     "output_type": "stream",
     "text": [
      "[10, 20] [30, 40]\n",
      "[30, 40] [10, 20]\n"
     ]
    }
   ],
   "source": [
    "#WAS to swap 2 values with out temp variables\n",
    "m=[10,20]\n",
    "n=[30,40]\n",
    "print(m,n)\n",
    "print(n,m)"
   ]
  },
  {
   "cell_type": "code",
   "execution_count": 9,
   "metadata": {},
   "outputs": [
    {
     "name": "stdout",
     "output_type": "stream",
     "text": [
      "a\n"
     ]
    },
    {
     "data": {
      "text/plain": [
       "[10, 20]"
      ]
     },
     "execution_count": 9,
     "metadata": {},
     "output_type": "execute_result"
    }
   ],
   "source": [
    "#was to initialize the value,print a value,reinitialize the new value to the existing variable and display the value\n",
    "a={'a':\"pyspiders\"}\n",
    "print('a')\n",
    "a['a']=\"qspiders\"\n",
    "a\n",
    "a=[10,20]\n",
    "a\n",
    "\n"
   ]
  },
  {
   "cell_type": "code",
   "execution_count": null,
   "metadata": {},
   "outputs": [],
   "source": []
  },
  {
   "cell_type": "markdown",
   "metadata": {},
   "source": []
  },
  {
   "cell_type": "code",
   "execution_count": 10,
   "metadata": {},
   "outputs": [
    {
     "name": "stdout",
     "output_type": "stream",
     "text": [
      "10\n",
      "['1', '0']\n"
     ]
    }
   ],
   "source": [
    "#WAS to convert single value data type to ,multi value data type\n",
    "#i/p=10 o/p=['1','0']\n",
    "a=10\n",
    "a=str(a)\n",
    "print(str(a))\n",
    "print(list(a))\n"
   ]
  },
  {
   "cell_type": "code",
   "execution_count": 11,
   "metadata": {},
   "outputs": [
    {
     "name": "stdout",
     "output_type": "stream",
     "text": [
      "helloworld\n",
      "[10, 20, 60, 70]\n",
      "prasuteju\n",
      "{10: 20, 30: 40, 'a': 'hyy', 'b': 'byee'}\n"
     ]
    }
   ],
   "source": [
    "#WAS to concatinate two multi value data types(string, list, tupule,set,dict)\n",
    "x=\"hello\"\n",
    "x+=\"world\"\n",
    "print(x)\n",
    "l=[10,20]\n",
    "l+=[60,70]\n",
    "print(l)\n",
    "t=('prasu')\n",
    "t+=('teju')\n",
    "print(t)\n",
    "d={10:20,30:40}\n",
    "d|={'a':\"hyy\",'b':\"byee\"}\n",
    "print(d)\n",
    "\n",
    "\n"
   ]
  },
  {
   "cell_type": "code",
   "execution_count": 12,
   "metadata": {},
   "outputs": [
    {
     "name": "stdout",
     "output_type": "stream",
     "text": [
      "13\n"
     ]
    }
   ],
   "source": [
    "#WAs to concate  length of collection\n",
    "a=\"laxmiprasanna\"\n",
    "print(len(a))"
   ]
  },
  {
   "cell_type": "code",
   "execution_count": 13,
   "metadata": {},
   "outputs": [
    {
     "name": "stdout",
     "output_type": "stream",
     "text": [
      "2\n"
     ]
    }
   ],
   "source": [
    "#WAE to  find out the middle value of given collection\n",
    "a=[10,20,30,40,50]\n",
    "print(len(a)//2)"
   ]
  },
  {
   "cell_type": "code",
   "execution_count": 14,
   "metadata": {},
   "outputs": [
    {
     "name": "stdout",
     "output_type": "stream",
     "text": [
      "hyyhow r u\n"
     ]
    }
   ],
   "source": [
    "#WAS to concate the new string into starting of given string\n",
    "a=\"how r u\"\n",
    "b=\"hyy\"\n",
    "print(b+a)"
   ]
  },
  {
   "cell_type": "code",
   "execution_count": 15,
   "metadata": {},
   "outputs": [
    {
     "name": "stdout",
     "output_type": "stream",
     "text": [
      "helloworld\n"
     ]
    }
   ],
   "source": [
    "#WAS to  concate the new string into ending of given string\n",
    "a=\"hello\"\n",
    "b=\"world\"\n",
    "print(a+b)\n"
   ]
  },
  {
   "cell_type": "code",
   "execution_count": 16,
   "metadata": {},
   "outputs": [
    {
     "name": "stdout",
     "output_type": "stream",
     "text": [
      "pysPIDers\n"
     ]
    }
   ],
   "source": [
    "#WAS TO MODIFY SEQUENCE OF CHARACTERS IN GIVEN STRING\n",
    "s='pyspiders'\n",
    "print(s[0:3]+'PID'+s[6:])"
   ]
  },
  {
   "cell_type": "code",
   "execution_count": 17,
   "metadata": {},
   "outputs": [
    {
     "name": "stdout",
     "output_type": "stream",
     "text": [
      "Qspiders\n"
     ]
    }
   ],
   "source": [
    "#WAS to replace the old character into a new character of given string\n",
    "s='qspiders'\n",
    "print(s[0:0]+'Q'+s[1:])"
   ]
  },
  {
   "cell_type": "code",
   "execution_count": 18,
   "metadata": {},
   "outputs": [
    {
     "name": "stdout",
     "output_type": "stream",
     "text": [
      "prasu\n"
     ]
    }
   ],
   "source": [
    "#WAS TO DELETE SPECIFIC CHARACTER FROM string\n",
    "a=\"prasannau\"\n",
    "print(a[0:4]+a[8:])"
   ]
  },
  {
   "cell_type": "code",
   "execution_count": null,
   "metadata": {},
   "outputs": [],
   "source": []
  },
  {
   "cell_type": "code",
   "execution_count": null,
   "metadata": {},
   "outputs": [],
   "source": []
  },
  {
   "cell_type": "markdown",
   "metadata": {},
   "source": []
  },
  {
   "cell_type": "code",
   "execution_count": 19,
   "metadata": {},
   "outputs": [
    {
     "name": "stdout",
     "output_type": "stream",
     "text": [
      "pyspider.coms\n"
     ]
    }
   ],
   "source": [
    "#WAS to concate new string into specific position of given string\n",
    "m= \"pyspiders\"\n",
    "print(m[0:8]+'.com'+m[8:])"
   ]
  },
  {
   "cell_type": "code",
   "execution_count": 20,
   "metadata": {},
   "outputs": [
    {
     "name": "stdout",
     "output_type": "stream",
     "text": [
      "hey hii\n"
     ]
    }
   ],
   "source": [
    "#WAS to delete sequence of characters of string\n",
    "n=\"hey bye hii\"\n",
    "print(n[0:4]+n[8:])"
   ]
  },
  {
   "cell_type": "code",
   "execution_count": 21,
   "metadata": {},
   "outputs": [
    {
     "name": "stdout",
     "output_type": "stream",
     "text": [
      "[20, 30, 1, 2, 3]\n"
     ]
    }
   ],
   "source": [
    "#WAS to concate new value into starting of the list\n",
    "l=[1,2,3]\n",
    "\n",
    "print([20,30]+l)\n"
   ]
  },
  {
   "cell_type": "code",
   "execution_count": 22,
   "metadata": {},
   "outputs": [
    {
     "name": "stdout",
     "output_type": "stream",
     "text": [
      "[5, 6, 7, 99, 100]\n"
     ]
    }
   ],
   "source": [
    "#WAS to concate new value at end of the list\n",
    "a=[5,6,7]\n",
    "print(a+[99,100])\n"
   ]
  },
  {
   "cell_type": "code",
   "execution_count": 23,
   "metadata": {},
   "outputs": [
    {
     "data": {
      "text/plain": [
       "[1, 4, 5, 3]"
      ]
     },
     "execution_count": 23,
     "metadata": {},
     "output_type": "execute_result"
    }
   ],
   "source": [
    "#WAS to concate the new values in the middle of the list\n",
    "y=[1,3]\n",
    "y[0:1]+[4,5]+y[1:]"
   ]
  },
  {
   "cell_type": "code",
   "execution_count": 24,
   "metadata": {},
   "outputs": [
    {
     "name": "stdout",
     "output_type": "stream",
     "text": [
      "[10, 20, 30, 100, 200, 40, 50]\n"
     ]
    }
   ],
   "source": [
    "#was to cancate new value into specific position of given list\n",
    "l=[10,20,30,40,50]\n",
    "l[-2:-2]=[100,200]\n",
    "print(l)"
   ]
  },
  {
   "cell_type": "code",
   "execution_count": 25,
   "metadata": {},
   "outputs": [
    {
     "name": "stdout",
     "output_type": "stream",
     "text": [
      "['a', 'f', 'c', 'd']\n"
     ]
    }
   ],
   "source": [
    "#WAS to modify the new value into the specific position of givedmn list\n",
    "l=['a','b','c','d']\n",
    "l[1]='f'\n",
    "print(l)"
   ]
  },
  {
   "cell_type": "code",
   "execution_count": 26,
   "metadata": {},
   "outputs": [
    {
     "name": "stdout",
     "output_type": "stream",
     "text": [
      "['prasu', 20, 'true', 'haii']\n"
     ]
    }
   ],
   "source": [
    "#WAS to modify the new value into the starting of given list\n",
    "l=[10,20,'true','haii']\n",
    "l[-4]='prasu'\n",
    "print(l)"
   ]
  },
  {
   "cell_type": "code",
   "execution_count": 27,
   "metadata": {},
   "outputs": [
    {
     "name": "stdout",
     "output_type": "stream",
     "text": [
      "[10, 20, 'true', 'prasu']\n"
     ]
    }
   ],
   "source": [
    "#WAS to modify the new value into the ending of given list\n",
    "l=[10,20,'true','haii']\n",
    "l[3]='prasu'\n",
    "print(l)"
   ]
  },
  {
   "cell_type": "code",
   "execution_count": 28,
   "metadata": {},
   "outputs": [
    {
     "name": "stdout",
     "output_type": "stream",
     "text": [
      "[10, 20, 'false', 'haii']\n"
     ]
    }
   ],
   "source": [
    "#WAS to modify the new value into the middle of given list\n",
    "l=[10,20,'true','haii']\n",
    "l[len(l)//2]='false'\n",
    "print(l)\n"
   ]
  },
  {
   "cell_type": "code",
   "execution_count": 29,
   "metadata": {},
   "outputs": [
    {
     "name": "stdout",
     "output_type": "stream",
     "text": [
      "[20, 30, 40, 'prasuu', 13, 16]\n"
     ]
    }
   ],
   "source": [
    "#was to modify first 4 positions of given list\n",
    "l=[10,20,'true','haii',13,16]\n",
    "l[0:4]=[20,30,40,'prasuu']\n",
    "print(l) "
   ]
  },
  {
   "cell_type": "code",
   "execution_count": 30,
   "metadata": {},
   "outputs": [
    {
     "name": "stdout",
     "output_type": "stream",
     "text": [
      "[1, 'a', 3, 'b', 5, 'c', 7, 'd', 9]\n"
     ]
    }
   ],
   "source": [
    "#was to modify the sequence of values in given list\n",
    "h=[1,2,3,4,5,6,7,8,9]\n",
    "h[1::2]=['a','b','c','d']\n",
    "print(h)\n",
    "\n"
   ]
  },
  {
   "cell_type": "code",
   "execution_count": 31,
   "metadata": {},
   "outputs": [
    {
     "name": "stdout",
     "output_type": "stream",
     "text": [
      "[1, 2, 3, 4, 6]\n"
     ]
    }
   ],
   "source": [
    "#WAS to delete the value in specific position of given list\n",
    "h=[1,2,3,4,5,6]\n",
    "del h[4]\n",
    "print(h)"
   ]
  },
  {
   "cell_type": "code",
   "execution_count": 32,
   "metadata": {},
   "outputs": [
    {
     "name": "stdout",
     "output_type": "stream",
     "text": [
      "[1, 2, 3, 4, 5]\n"
     ]
    }
   ],
   "source": [
    "#WAS to delete the value in ending of the list\n",
    "h=[1,2,3,4,5,6]\n",
    "del h[-1]\n",
    "print(h)"
   ]
  },
  {
   "cell_type": "code",
   "execution_count": 33,
   "metadata": {},
   "outputs": [
    {
     "name": "stdout",
     "output_type": "stream",
     "text": [
      "[10, 20, 'true', 13, 16]\n"
     ]
    }
   ],
   "source": [
    "#WAS to delete the value in middle of the list\n",
    "l=[10,20,'true','haii',13,16]\n",
    "del l[len(l)//2]\n",
    "print(l)"
   ]
  },
  {
   "cell_type": "code",
   "execution_count": 34,
   "metadata": {},
   "outputs": [
    {
     "name": "stdout",
     "output_type": "stream",
     "text": [
      "(50, 10, 20, 30, 40)\n"
     ]
    }
   ],
   "source": [
    "#WAS to concate the value into starting of tuple\n",
    "t=(10,20,30,40)\n",
    "t=(50,)+t\n",
    "print(t)"
   ]
  },
  {
   "cell_type": "code",
   "execution_count": 35,
   "metadata": {},
   "outputs": [
    {
     "ename": "TypeError",
     "evalue": "'tuple' object does not support item assignment",
     "output_type": "error",
     "traceback": [
      "\u001b[1;31m---------------------------------------------------------------------------\u001b[0m",
      "\u001b[1;31mTypeError\u001b[0m                                 Traceback (most recent call last)",
      "Cell \u001b[1;32mIn[35], line 3\u001b[0m\n\u001b[0;32m      1\u001b[0m \u001b[39m#WAS to concate the  middle value into starting of tuple\u001b[39;00m\n\u001b[0;32m      2\u001b[0m t\u001b[39m=\u001b[39m(\u001b[39m10\u001b[39m,\u001b[39m20\u001b[39m,\u001b[39m30\u001b[39m,\u001b[39m40\u001b[39m)\n\u001b[1;32m----> 3\u001b[0m t[\u001b[39mlen\u001b[39;49m(t)\u001b[39m/\u001b[39;49m\u001b[39m/\u001b[39;49m\u001b[39m2\u001b[39;49m]\u001b[39m=\u001b[39m(\u001b[39m5\u001b[39m,\u001b[39m6\u001b[39m)\n",
      "\u001b[1;31mTypeError\u001b[0m: 'tuple' object does not support item assignment"
     ]
    }
   ],
   "source": [
    "#WAS to concate the  middle value into starting of tuple\n",
    "t=(10,20,30,40)\n",
    "t[len(t)//2]=(5,6)"
   ]
  },
  {
   "cell_type": "code",
   "execution_count": null,
   "metadata": {},
   "outputs": [
    {
     "name": "stdout",
     "output_type": "stream",
     "text": [
      "(10, 20, 30, 40, 50)\n"
     ]
    }
   ],
   "source": [
    "#WAS to concate the value into ending of tuple\n",
    "t=(10,20,30,40)\n",
    "t=t+(50,)\n",
    "print(t)"
   ]
  },
  {
   "cell_type": "code",
   "execution_count": null,
   "metadata": {},
   "outputs": [
    {
     "name": "stdout",
     "output_type": "stream",
     "text": [
      "(10, 20, 30, 40)\n"
     ]
    }
   ],
   "source": [
    "#was to modify sequence of values in given tupule\n",
    "t=(10,20,30,40)\n",
    "t[2:1]\n",
    "print(t)"
   ]
  },
  {
   "cell_type": "code",
   "execution_count": null,
   "metadata": {},
   "outputs": [
    {
     "ename": "TypeError",
     "evalue": "'tuple' object does not support item deletion",
     "output_type": "error",
     "traceback": [
      "\u001b[1;31m---------------------------------------------------------------------------\u001b[0m",
      "\u001b[1;31mTypeError\u001b[0m                                 Traceback (most recent call last)",
      "Cell \u001b[1;32mIn[252], line 3\u001b[0m\n\u001b[0;32m      1\u001b[0m \u001b[39m# was to delete sequence of values in given tuple\u001b[39;00m\n\u001b[0;32m      2\u001b[0m t\u001b[39m=\u001b[39m(\u001b[39m10\u001b[39m,\u001b[39m20\u001b[39m,\u001b[39m30\u001b[39m,\u001b[39m40\u001b[39m)\n\u001b[1;32m----> 3\u001b[0m \u001b[39mdel\u001b[39;00m t[\u001b[39m-\u001b[39;49m\u001b[39m2\u001b[39;49m:\u001b[39m-\u001b[39;49m\u001b[39m1\u001b[39;49m]\n",
      "\u001b[1;31mTypeError\u001b[0m: 'tuple' object does not support item deletion"
     ]
    }
   ],
   "source": [
    "# was to delete sequence of values in given tuple\n",
    "t=(10,20,30,40)\n",
    "del t[-2:-1]"
   ]
  },
  {
   "cell_type": "code",
   "execution_count": null,
   "metadata": {},
   "outputs": [
    {
     "ename": "TypeError",
     "evalue": "unsupported operand type(s) for /=: 'set' and 'set'",
     "output_type": "error",
     "traceback": [
      "\u001b[1;31m---------------------------------------------------------------------------\u001b[0m",
      "\u001b[1;31mTypeError\u001b[0m                                 Traceback (most recent call last)",
      "Cell \u001b[1;32mIn[76], line 3\u001b[0m\n\u001b[0;32m      1\u001b[0m \u001b[39m#was to concate new value into set\u001b[39;00m\n\u001b[0;32m      2\u001b[0m s\u001b[39m=\u001b[39m{\u001b[39m1\u001b[39m,\u001b[39m2\u001b[39m,\u001b[39m3\u001b[39m}\n\u001b[1;32m----> 3\u001b[0m s\u001b[39m/\u001b[39;49m\u001b[39m=\u001b[39;49m{\u001b[39m10\u001b[39;49m,\u001b[39m20\u001b[39;49m,\u001b[39m30\u001b[39;49m}\n\u001b[0;32m      4\u001b[0m \u001b[39mprint\u001b[39m(s)\n",
      "\u001b[1;31mTypeError\u001b[0m: unsupported operand type(s) for /=: 'set' and 'set'"
     ]
    }
   ],
   "source": [
    "#was to concate new value into set\n",
    "s={1,2,3}\n",
    "s/={10,20,30}\n",
    "print(s)\n"
   ]
  },
  {
   "cell_type": "code",
   "execution_count": null,
   "metadata": {},
   "outputs": [
    {
     "name": "stdout",
     "output_type": "stream",
     "text": [
      "{1, 2, 3, 7}\n"
     ]
    }
   ],
   "source": [
    "#was to delete specific value from the set\n",
    "s={1,2,3,4,5,6,7}\n",
    "s=s-{4,5,6}\n",
    "print(s)\n"
   ]
  },
  {
   "cell_type": "code",
   "execution_count": null,
   "metadata": {},
   "outputs": [
    {
     "name": "stdout",
     "output_type": "stream",
     "text": [
      "{'a': 50, 'b': 100}\n"
     ]
    }
   ],
   "source": [
    "#WAS to concate new key and value into the dictionary\n",
    "d={'a':50}\n",
    "d['b']=100\n",
    "print(d)\n"
   ]
  },
  {
   "cell_type": "code",
   "execution_count": null,
   "metadata": {},
   "outputs": [
    {
     "name": "stdout",
     "output_type": "stream",
     "text": [
      "{'a': 50}\n"
     ]
    }
   ],
   "source": [
    "#was to delete the specific key and value in given dict\n",
    "d={'a': 50, 'b': 100}\n",
    "del d['b']\n",
    "print(d)"
   ]
  },
  {
   "cell_type": "code",
   "execution_count": null,
   "metadata": {},
   "outputs": [
    {
     "name": "stdout",
     "output_type": "stream",
     "text": [
      "{'a': 50, 'b': 100, 'c': 'haii'}\n"
     ]
    }
   ],
   "source": [
    "#was to modify the specific  value in given dict\n",
    "d={'a': 50, 'b': 100,'c':150}\n",
    "d['c']='haii'\n",
    "print(d)"
   ]
  },
  {
   "cell_type": "code",
   "execution_count": null,
   "metadata": {},
   "outputs": [
    {
     "name": "stdout",
     "output_type": "stream",
     "text": [
      "['hyy', 'bye', 10, 20, 30]\n"
     ]
    }
   ],
   "source": [
    "#was to concate the list and tupule values by without type casting\n",
    "l=['hyy','bye']\n",
    "t=(10,20,30)\n",
    "l+=t\n",
    "print(l)"
   ]
  },
  {
   "cell_type": "code",
   "execution_count": null,
   "metadata": {},
   "outputs": [
    {
     "data": {
      "text/plain": [
       "['hyy', 'bye', 10, 20, 30]"
      ]
     },
     "execution_count": 49,
     "metadata": {},
     "output_type": "execute_result"
    }
   ],
   "source": [
    "#was to concate the list and tupule values by with type casting\n",
    "l=['hyy','bye']\n",
    "t=(10,20,30)\n",
    "l+list(t)\n"
   ]
  },
  {
   "cell_type": "code",
   "execution_count": null,
   "metadata": {},
   "outputs": [
    {
     "name": "stdout",
     "output_type": "stream",
     "text": [
      "True\n"
     ]
    }
   ],
   "source": [
    "#WAE to check the given number is divisible by 3\n",
    "n=36\n",
    "print(n%3==0)"
   ]
  },
  {
   "cell_type": "code",
   "execution_count": null,
   "metadata": {},
   "outputs": [
    {
     "name": "stdout",
     "output_type": "stream",
     "text": [
      "True\n"
     ]
    }
   ],
   "source": [
    "#WAE to check the given number is divisible by 2 and 6\n",
    "n=60\n",
    "print(n%2==0 and n%6==0)"
   ]
  },
  {
   "cell_type": "code",
   "execution_count": null,
   "metadata": {},
   "outputs": [
    {
     "name": "stdout",
     "output_type": "stream",
     "text": [
      "True\n"
     ]
    }
   ],
   "source": [
    "#WAE to check the last digit is divisible by 3\n",
    "n=996\n",
    "print(((n%10)%3)==0)"
   ]
  },
  {
   "cell_type": "code",
   "execution_count": null,
   "metadata": {},
   "outputs": [
    {
     "name": "stdout",
     "output_type": "stream",
     "text": [
      "7\n",
      "97\n",
      "997\n"
     ]
    }
   ],
   "source": [
    "#wae to extract last digit of integer\n",
    "n=1997\n",
    "print(n%10)\n",
    "print(n%100)\n",
    "print(n%1000)\n",
    "\n"
   ]
  },
  {
   "cell_type": "code",
   "execution_count": null,
   "metadata": {},
   "outputs": [
    {
     "name": "stdout",
     "output_type": "stream",
     "text": [
      "True\n"
     ]
    }
   ],
   "source": [
    "#wae to check the last digit is divisible by 3 from given integer\n",
    "n=3039\n",
    "print(int(str(n)[-1])%3==0)"
   ]
  },
  {
   "cell_type": "code",
   "execution_count": null,
   "metadata": {},
   "outputs": [
    {
     "name": "stdout",
     "output_type": "stream",
     "text": [
      "False\n"
     ]
    }
   ],
   "source": [
    "#wae to check the given number is greater than 150\n",
    "n=145\n",
    "print(n>150)"
   ]
  },
  {
   "cell_type": "code",
   "execution_count": null,
   "metadata": {},
   "outputs": [
    {
     "name": "stdout",
     "output_type": "stream",
     "text": [
      "True\n"
     ]
    }
   ],
   "source": [
    "#wae to check the given number is greater than or  equal to 100\n",
    "n=110\n",
    "print(n>=100)"
   ]
  },
  {
   "cell_type": "code",
   "execution_count": null,
   "metadata": {},
   "outputs": [
    {
     "name": "stdout",
     "output_type": "stream",
     "text": [
      "True\n"
     ]
    }
   ],
   "source": [
    "#wae to check the given number is less than 150.print the result\n",
    "n=147\n",
    "print(n<150)"
   ]
  },
  {
   "cell_type": "code",
   "execution_count": null,
   "metadata": {},
   "outputs": [
    {
     "name": "stdout",
     "output_type": "stream",
     "text": [
      "True\n"
     ]
    }
   ],
   "source": [
    "#wae to check the given number is greater than 15 and less than 24\n",
    "n=20\n",
    "print(n>15  and n<24)"
   ]
  },
  {
   "cell_type": "code",
   "execution_count": null,
   "metadata": {},
   "outputs": [
    {
     "name": "stdout",
     "output_type": "stream",
     "text": [
      "True\n"
     ]
    }
   ],
   "source": [
    "#wae to check given no. is even\n",
    "n=16\n",
    "print(n%2==0)"
   ]
  },
  {
   "cell_type": "code",
   "execution_count": null,
   "metadata": {},
   "outputs": [
    {
     "name": "stdout",
     "output_type": "stream",
     "text": [
      "True\n"
     ]
    }
   ],
   "source": [
    "#wae to check given no. is odd\n",
    "n=19\n",
    "print(n%2!=0)"
   ]
  },
  {
   "cell_type": "code",
   "execution_count": null,
   "metadata": {},
   "outputs": [
    {
     "name": "stdout",
     "output_type": "stream",
     "text": [
      "True\n"
     ]
    }
   ],
   "source": [
    "#wae to check the given no is less than or equal to 100\n",
    "n=100\n",
    "print(n<=100)"
   ]
  },
  {
   "cell_type": "code",
   "execution_count": null,
   "metadata": {},
   "outputs": [
    {
     "name": "stdout",
     "output_type": "stream",
     "text": [
      "abdabdabdabdabdabd\n",
      "[10, 20, 10, 20, 10, 20, 10, 20, 10, 20, 10, 20]\n"
     ]
    }
   ],
   "source": [
    "#WAE to perform the replication of given string with 6\n",
    "s='abd'\n",
    "print(s*6)\n",
    "s=[10,20]\n",
    "print(s*6)"
   ]
  },
  {
   "cell_type": "code",
   "execution_count": null,
   "metadata": {},
   "outputs": [
    {
     "name": "stdout",
     "output_type": "stream",
     "text": [
      "True\n"
     ]
    }
   ],
   "source": [
    "#wae to check the given number is divisble by 3 and also greate than 22\n",
    "n=36\n",
    "print(n%3==0 and n>22)"
   ]
  },
  {
   "cell_type": "code",
   "execution_count": null,
   "metadata": {},
   "outputs": [
    {
     "data": {
      "text/plain": [
       "True"
      ]
     },
     "execution_count": 75,
     "metadata": {},
     "output_type": "execute_result"
    }
   ],
   "source": [
    "#wae to check length of collection is even or not\n",
    "m='prasanna'\n",
    "(len(m)%2==0)"
   ]
  },
  {
   "cell_type": "code",
   "execution_count": null,
   "metadata": {},
   "outputs": [
    {
     "name": "stdout",
     "output_type": "stream",
     "text": [
      "True\n"
     ]
    }
   ],
   "source": [
    "#wae to check length of collection is less than 55 or greater than 16\n",
    "m='laxmiprasannaprasuuuu'\n",
    "print(16<len(m)<55)"
   ]
  },
  {
   "cell_type": "code",
   "execution_count": null,
   "metadata": {},
   "outputs": [
    {
     "data": {
      "text/plain": [
       "False"
      ]
     },
     "execution_count": 78,
     "metadata": {},
     "output_type": "execute_result"
    }
   ],
   "source": [
    "#wae to check length of collection is divisible by 5 and odd\n",
    "m='hyeebyehlo'\n",
    "(len(m)%5==0 and len(m)%2!=0)"
   ]
  },
  {
   "cell_type": "code",
   "execution_count": null,
   "metadata": {},
   "outputs": [
    {
     "name": "stdout",
     "output_type": "stream",
     "text": [
      "[2]\n",
      "True\n",
      "[2]\n",
      "True\n",
      "[1]\n",
      "True\n"
     ]
    }
   ],
   "source": [
    "#wae to extract middle position of given collection either string ,list,tupule\n",
    "s='hey!'\n",
    "print([len(s)//2])\n",
    "res=type([len(s)//2])\n",
    "print(res==str or res==tuple or res==list)\n",
    "s=[10,20,30,40,50]\n",
    "print([len(s)//2])\n",
    "res=type([len(s)//2])\n",
    "print(res==str or res==tuple or res==list)\n",
    "s={10:20,30:40,50:60}\n",
    "print([len(s)//2])\n",
    "res=type([len(s)//2])\n",
    "print(res==str or res==tuple or res==list)"
   ]
  },
  {
   "cell_type": "code",
   "execution_count": null,
   "metadata": {},
   "outputs": [
    {
     "name": "stdout",
     "output_type": "stream",
     "text": [
      "True\n"
     ]
    }
   ],
   "source": [
    "#wae to check the given no. is odd and greater than 97\n",
    "n=111\n",
    "print(n>97 and n%2!=0)"
   ]
  },
  {
   "cell_type": "code",
   "execution_count": null,
   "metadata": {},
   "outputs": [
    {
     "name": "stdout",
     "output_type": "stream",
     "text": [
      "True\n"
     ]
    }
   ],
   "source": [
    "#wae to check given number is greater than 20 and less than 30 and it should be even\n",
    "n=28\n",
    "print(20<n<30 and n%2==0)"
   ]
  },
  {
   "cell_type": "code",
   "execution_count": null,
   "metadata": {},
   "outputs": [
    {
     "name": "stdout",
     "output_type": "stream",
     "text": [
      "False\n",
      "True\n"
     ]
    }
   ],
   "source": [
    "#wae to check given no. is even and it should be less than 120\n",
    "n=136\n",
    "print(n%2==0 and n<120)\n",
    "print(n%2==0 or n<120)\n"
   ]
  },
  {
   "cell_type": "code",
   "execution_count": null,
   "metadata": {},
   "outputs": [
    {
     "name": "stdout",
     "output_type": "stream",
     "text": [
      "True\n"
     ]
    }
   ],
   "source": [
    "#wae to check given no. is less than 122 and greater than 48 and no.should be divisible by 4\n",
    "n=96\n",
    "print(48<n<122 and n%4==0)"
   ]
  },
  {
   "cell_type": "code",
   "execution_count": null,
   "metadata": {},
   "outputs": [
    {
     "name": "stdout",
     "output_type": "stream",
     "text": [
      "True\n"
     ]
    }
   ],
   "source": [
    "#wae to check the given no. is divisible by 3 or 5,display the value\n",
    "n=150\n",
    "print(n%3==0 or n%5==0)"
   ]
  },
  {
   "cell_type": "code",
   "execution_count": null,
   "metadata": {},
   "outputs": [
    {
     "name": "stdout",
     "output_type": "stream",
     "text": [
      "True\n"
     ]
    }
   ],
   "source": [
    "#wae to checkn the given no is between 100 to 200 including the limit\n",
    "n=150\n",
    "print(100<=n<=200)"
   ]
  },
  {
   "cell_type": "code",
   "execution_count": null,
   "metadata": {},
   "outputs": [
    {
     "name": "stdout",
     "output_type": "stream",
     "text": [
      "False\n"
     ]
    }
   ],
   "source": [
    "#wae to checkn the given no is in between 100 to 200 \n",
    "n=269\n",
    "print(100<n<200)"
   ]
  },
  {
   "cell_type": "code",
   "execution_count": null,
   "metadata": {},
   "outputs": [
    {
     "name": "stdout",
     "output_type": "stream",
     "text": [
      "False\n"
     ]
    }
   ],
   "source": [
    "#WAE to check the given string last character  ascii value and should be divisible by 5 or not\n",
    "s='purple'\n",
    "print(ord (s[-1])%5==0) # ord is built in function to fetch ascii value\n",
    "\n"
   ]
  },
  {
   "cell_type": "code",
   "execution_count": null,
   "metadata": {},
   "outputs": [
    {
     "name": "stdout",
     "output_type": "stream",
     "text": [
      "False\n"
     ]
    }
   ],
   "source": [
    "#wae to check the given number is present in between 60 to 130 and the number should be divisible by 3 and 4 and last digit sgould be greater than 9\n",
    "n=126\n",
    "print(60<n<130 and n%3==0 and n%4==0 and n%10>9)"
   ]
  },
  {
   "cell_type": "code",
   "execution_count": null,
   "metadata": {},
   "outputs": [
    {
     "name": "stdout",
     "output_type": "stream",
     "text": [
      "True\n"
     ]
    }
   ],
   "source": [
    "#WAE to check the given no is even or less than 25\n",
    "n=24\n",
    "print(n%2==0  or n<25)"
   ]
  },
  {
   "cell_type": "code",
   "execution_count": null,
   "metadata": {},
   "outputs": [
    {
     "name": "stdout",
     "output_type": "stream",
     "text": [
      "True\n"
     ]
    }
   ],
   "source": [
    "#WAE to check the given no is even or greater than 25\n",
    "n=26\n",
    "print(n%2==0  or n>25)"
   ]
  },
  {
   "cell_type": "code",
   "execution_count": null,
   "metadata": {},
   "outputs": [
    {
     "name": "stdout",
     "output_type": "stream",
     "text": [
      "True\n"
     ]
    }
   ],
   "source": [
    "#WAE to check the given no is divisible by either3 or 5\n",
    "n=45\n",
    "print(n%3==0 or n%5==0)"
   ]
  },
  {
   "cell_type": "code",
   "execution_count": null,
   "metadata": {},
   "outputs": [
    {
     "name": "stdout",
     "output_type": "stream",
     "text": [
      "True\n"
     ]
    }
   ],
   "source": [
    "#WAE to check the given no. is not an even number\n",
    "n=67\n",
    "print(n%2!=0)\n"
   ]
  },
  {
   "cell_type": "code",
   "execution_count": null,
   "metadata": {},
   "outputs": [
    {
     "name": "stdout",
     "output_type": "stream",
     "text": [
      "True\n"
     ]
    }
   ],
   "source": [
    "#WAE to check the given no. is not an odd number\n",
    "n=26\n",
    "print(n%2==0)\n",
    "\n"
   ]
  },
  {
   "cell_type": "code",
   "execution_count": null,
   "metadata": {},
   "outputs": [
    {
     "name": "stdout",
     "output_type": "stream",
     "text": [
      "True\n"
     ]
    }
   ],
   "source": [
    "#WAE to check the given no is not divisible by 3\n",
    "n=19\n",
    "print(n%3!=0)"
   ]
  },
  {
   "cell_type": "code",
   "execution_count": null,
   "metadata": {},
   "outputs": [
    {
     "name": "stdout",
     "output_type": "stream",
     "text": [
      "True\n"
     ]
    }
   ],
   "source": [
    "#WAE to check the given no is not divisible by 3 and 5\n",
    "n=35\n",
    "print(n%3!=0 or n%5!=0)"
   ]
  },
  {
   "cell_type": "code",
   "execution_count": null,
   "metadata": {},
   "outputs": [
    {
     "name": "stdout",
     "output_type": "stream",
     "text": [
      "True\n"
     ]
    }
   ],
   "source": [
    "#WAE to check the given character ascii value is not divisible by 5\n",
    "ch='r'\n",
    "print(ord(ch)%5!=5)"
   ]
  },
  {
   "cell_type": "code",
   "execution_count": null,
   "metadata": {},
   "outputs": [
    {
     "name": "stdout",
     "output_type": "stream",
     "text": [
      "\u0013\n",
      "A\n"
     ]
    }
   ],
   "source": [
    " #WAE to find out ascii character in a given number\n",
    "n=19\n",
    "print(chr(n))\n",
    "n=65\n",
    "print(chr(n))\n"
   ]
  },
  {
   "cell_type": "code",
   "execution_count": null,
   "metadata": {},
   "outputs": [
    {
     "name": "stdout",
     "output_type": "stream",
     "text": [
      "104\n"
     ]
    }
   ],
   "source": [
    " #WAE to find out ascii value in a given number\n",
    "ch='h'\n",
    "print(ord(ch))"
   ]
  },
  {
   "cell_type": "code",
   "execution_count": null,
   "metadata": {},
   "outputs": [
    {
     "name": "stdout",
     "output_type": "stream",
     "text": [
      "True\n",
      "True\n",
      "True\n",
      "False\n"
     ]
    }
   ],
   "source": [
    "#WAE to check the given character is uppercase or not\n",
    "ch='M'\n",
    "print('A'<=ch<='Z')\n",
    "print(len(ch)==1 and 'A'<=ch<='Z')\n",
    "ch='Gh'\n",
    "print('A'<=ch<='Z')\n",
    "print(len(ch)==1 and 'A'<=ch<='Z')\n",
    "\n"
   ]
  },
  {
   "cell_type": "code",
   "execution_count": null,
   "metadata": {},
   "outputs": [
    {
     "name": "stdout",
     "output_type": "stream",
     "text": [
      "True\n",
      "True\n"
     ]
    }
   ],
   "source": [
    "#WAE to check the given character is alphabet \n",
    "ch='Z'\n",
    "print('A'<=ch<='Z' or 'a'<=ch<='b')\n",
    "print(len(ch)==1 or 'a'<=ch<='z')"
   ]
  },
  {
   "cell_type": "code",
   "execution_count": null,
   "metadata": {},
   "outputs": [
    {
     "name": "stdout",
     "output_type": "stream",
     "text": [
      "True\n"
     ]
    }
   ],
   "source": [
    "#wae to check the given character is lower case or not\n",
    "ch='e'\n",
    "print('a'<=ch<='z')"
   ]
  },
  {
   "cell_type": "code",
   "execution_count": null,
   "metadata": {},
   "outputs": [
    {
     "name": "stdout",
     "output_type": "stream",
     "text": [
      "True\n"
     ]
    }
   ],
   "source": [
    "#WAE to check the given character is an ascii number\n",
    "ch=9\n",
    "print(0<=ch<=9)"
   ]
  },
  {
   "cell_type": "code",
   "execution_count": null,
   "metadata": {},
   "outputs": [
    {
     "name": "stdout",
     "output_type": "stream",
     "text": [
      "True\n"
     ]
    }
   ],
   "source": [
    "#WAE to check given character is special character\n",
    "ch='@'\n",
    "print(not('A'<=ch<='Z' or 'a'<=ch<='b'or '0'<=ch<='9'))"
   ]
  },
  {
   "cell_type": "code",
   "execution_count": null,
   "metadata": {},
   "outputs": [
    {
     "name": "stdout",
     "output_type": "stream",
     "text": [
      "True\n"
     ]
    }
   ],
   "source": [
    "#WAE to  check the given character should not be uppercase \n",
    "ch='g'\n",
    "print(not('A'<=ch<='Z'))\n",
    " "
   ]
  },
  {
   "cell_type": "code",
   "execution_count": null,
   "metadata": {},
   "outputs": [
    {
     "name": "stdout",
     "output_type": "stream",
     "text": [
      "True\n"
     ]
    }
   ],
   "source": [
    "#WAE to  check the given character should not be lowercase\n",
    "ch='G'\n",
    "print(not('a'<=ch<='z'))"
   ]
  },
  {
   "cell_type": "code",
   "execution_count": null,
   "metadata": {},
   "outputs": [
    {
     "name": "stdout",
     "output_type": "stream",
     "text": [
      "True\n"
     ]
    }
   ],
   "source": [
    "#WAE to check the given character should not be a alphabet\n",
    "ch='&'\n",
    "print(not('A'<=ch<='Z' or 'a'<=ch<='b'))\n"
   ]
  },
  {
   "cell_type": "code",
   "execution_count": null,
   "metadata": {},
   "outputs": [
    {
     "name": "stdout",
     "output_type": "stream",
     "text": [
      "False\n"
     ]
    }
   ],
   "source": [
    "#WAE to check the given character should not be a ascii number\n",
    "ch=5\n",
    "print(not(0<=ch<=9))\n"
   ]
  },
  {
   "cell_type": "code",
   "execution_count": null,
   "metadata": {},
   "outputs": [
    {
     "name": "stdout",
     "output_type": "stream",
     "text": [
      "False\n"
     ]
    }
   ],
   "source": [
    "#WAE to check given character should not be a spcl character\n",
    "ch='@'\n",
    "print('A'<=ch<='Z' or 'a'<=ch<='b'or '0'<=ch<='9')\n",
    "\n"
   ]
  },
  {
   "cell_type": "code",
   "execution_count": null,
   "metadata": {},
   "outputs": [
    {
     "data": {
      "text/plain": [
       "True"
      ]
     },
     "execution_count": 73,
     "metadata": {},
     "output_type": "execute_result"
    }
   ],
   "source": [
    "#WAE  to check the given alphabet is vowel\n",
    "ch='e'\n",
    "print(ch in 'aeiouAEIOU') "
   ]
  },
  {
   "cell_type": "code",
   "execution_count": null,
   "metadata": {},
   "outputs": [
    {
     "name": "stdout",
     "output_type": "stream",
     "text": [
      "True\n"
     ]
    }
   ],
   "source": [
    "#WAE  to check the given alphabet is consonant\n",
    "ch='B'\n",
    "print(ch not in 'aeiouAEIOU')"
   ]
  },
  {
   "cell_type": "code",
   "execution_count": null,
   "metadata": {},
   "outputs": [
    {
     "name": "stdout",
     "output_type": "stream",
     "text": [
      "97\n"
     ]
    },
    {
     "data": {
      "text/plain": [
       "'a'"
      ]
     },
     "execution_count": 3,
     "metadata": {},
     "output_type": "execute_result"
    }
   ],
   "source": [
    "#WAS to convert uppercase to lowercase in given character\n",
    "ch='A'\n",
    "print(ord(ch)+32)\n",
    "chr(97)"
   ]
  },
  {
   "cell_type": "code",
   "execution_count": null,
   "metadata": {},
   "outputs": [
    {
     "name": "stdout",
     "output_type": "stream",
     "text": [
      "65\n"
     ]
    }
   ],
   "source": [
    "#WAS to convert lowercase to uppercase in given character\n",
    "ch='b'\n",
    "print(ord(ch)-33)"
   ]
  },
  {
   "cell_type": "code",
   "execution_count": null,
   "metadata": {},
   "outputs": [
    {
     "name": "stdout",
     "output_type": "stream",
     "text": [
      "97\n"
     ]
    }
   ],
   "source": [
    "#WAS to extract the previous character in the given charcter\n",
    "ch='b'\n",
    "print(ord(ch)-1)"
   ]
  },
  {
   "cell_type": "code",
   "execution_count": null,
   "metadata": {},
   "outputs": [
    {
     "name": "stdout",
     "output_type": "stream",
     "text": [
      "99\n"
     ]
    }
   ],
   "source": [
    "#WAS to extract the next character in the given charcter\n",
    "ch='b'\n",
    "print(ord(ch)+1)"
   ]
  },
  {
   "cell_type": "code",
   "execution_count": null,
   "metadata": {},
   "outputs": [
    {
     "name": "stdout",
     "output_type": "stream",
     "text": [
      "True\n"
     ]
    }
   ],
   "source": [
    "#WAE to check the given charcter is converted to ascii value and value is even as well as character should be lowercase\n",
    "ch='h'\n",
    "print(len(ch)==1 and ord(ch)%2==0 and 'a'<=ch<='z')\n"
   ]
  },
  {
   "cell_type": "code",
   "execution_count": null,
   "metadata": {},
   "outputs": [
    {
     "name": "stdout",
     "output_type": "stream",
     "text": [
      "False\n"
     ]
    }
   ],
   "source": [
    "#WAE to check the given character is converted to ascii and value is odd as well as character should be uppercase\n",
    "ch='H'\n",
    "print(len(ch)==1 and ord(ch)%2==0 and 'a'<=ch<='z')\n"
   ]
  },
  {
   "cell_type": "code",
   "execution_count": null,
   "metadata": {},
   "outputs": [
    {
     "name": "stdout",
     "output_type": "stream",
     "text": [
      "True\n"
     ]
    }
   ],
   "source": [
    "#WAE to check the given number is converted to character and not a special symbol or not\n",
    "n=66\n",
    "print('A'<=chr(n)<='Z' or 'a'<=chr(n)<='b'or '0'<=chr(n)<='9')\n"
   ]
  },
  {
   "cell_type": "code",
   "execution_count": null,
   "metadata": {},
   "outputs": [
    {
     "name": "stdout",
     "output_type": "stream",
     "text": [
      "False\n"
     ]
    }
   ],
   "source": [
    "#WAE to check the given number of the ascii character is vowel\n",
    "n=99\n",
    "print(chr(n)  in 'aeiouAEIOU')\n"
   ]
  },
  {
   "cell_type": "code",
   "execution_count": null,
   "metadata": {},
   "outputs": [
    {
     "name": "stdout",
     "output_type": "stream",
     "text": [
      "True\n"
     ]
    }
   ],
   "source": [
    "# WAE to check if the 1st and 2nd character are sequence or not in a given string\n",
    "s='BCDA'\n",
    "print(ord(str(0))+1==ord(str(1)))"
   ]
  },
  {
   "cell_type": "code",
   "execution_count": null,
   "metadata": {},
   "outputs": [
    {
     "name": "stdout",
     "output_type": "stream",
     "text": [
      "True\n"
     ]
    }
   ],
   "source": [
    "#WAE to check given character ascii value should be greater thn 50 or greater than 25 or less than 122\n",
    "ch='p'\n",
    "print(25<=ord(ch)<=122)"
   ]
  },
  {
   "cell_type": "code",
   "execution_count": null,
   "metadata": {},
   "outputs": [
    {
     "name": "stdout",
     "output_type": "stream",
     "text": [
      "17\n"
     ]
    }
   ],
   "source": [
    "#WAE to the given number is increased by 1\n",
    "n=16\n",
    "n+=1\n",
    "print(n) "
   ]
  },
  {
   "cell_type": "code",
   "execution_count": null,
   "metadata": {},
   "outputs": [
    {
     "name": "stdout",
     "output_type": "stream",
     "text": [
      "18\n"
     ]
    }
   ],
   "source": [
    "#WAE to the given number is increased by 2\n",
    "n=16\n",
    "n+=2\n",
    "print(n)"
   ]
  },
  {
   "cell_type": "code",
   "execution_count": null,
   "metadata": {},
   "outputs": [
    {
     "name": "stdout",
     "output_type": "stream",
     "text": [
      "1924\n"
     ]
    }
   ],
   "source": [
    "#WAE to the given number is decreased by 1\n",
    "n=1925\n",
    "n-=1\n",
    "print(n)"
   ]
  },
  {
   "cell_type": "code",
   "execution_count": null,
   "metadata": {},
   "outputs": [
    {
     "name": "stdout",
     "output_type": "stream",
     "text": [
      "1922\n"
     ]
    }
   ],
   "source": [
    "#WAE to the given number is decreased by 3\n",
    "n=1925\n",
    "n-=3\n",
    "print(n)"
   ]
  },
  {
   "cell_type": "code",
   "execution_count": null,
   "metadata": {},
   "outputs": [
    {
     "name": "stdout",
     "output_type": "stream",
     "text": [
      "True\n"
     ]
    }
   ],
   "source": [
    "#WAE to check the given integer is prest in collection \n",
    "n=50\n",
    "coll=[10,20,30,40,50]\n",
    "print(n in coll)"
   ]
  },
  {
   "cell_type": "code",
   "execution_count": null,
   "metadata": {},
   "outputs": [
    {
     "name": "stdout",
     "output_type": "stream",
     "text": [
      "35\n"
     ]
    }
   ],
   "source": [
    "#WAE Tto perform the add operation on a value and b value and final result is updated to A\n",
    "a,b=16,19\n",
    "A=a+b\n",
    "print(A)"
   ]
  },
  {
   "cell_type": "code",
   "execution_count": null,
   "metadata": {},
   "outputs": [
    {
     "name": "stdout",
     "output_type": "stream",
     "text": [
      "True\n"
     ]
    }
   ],
   "source": [
    "#WAE to check given value is in collection\n",
    "st='r'\n",
    "coll='prasu'\n",
    "print(st in coll)"
   ]
  },
  {
   "cell_type": "code",
   "execution_count": null,
   "metadata": {},
   "outputs": [
    {
     "name": "stdout",
     "output_type": "stream",
     "text": [
      "True\n"
     ]
    }
   ],
   "source": [
    "#WAE to check the given list is present in list\n",
    "l=['hlo',10]\n",
    "coll=[10,20,30,['hlo',10]]\n",
    "print(l in coll)\n"
   ]
  },
  {
   "cell_type": "code",
   "execution_count": null,
   "metadata": {},
   "outputs": [
    {
     "name": "stdout",
     "output_type": "stream",
     "text": [
      "False\n"
     ]
    }
   ],
   "source": [
    "#WAE to check the given dict value is present in tuple\n",
    "d={'a':10,'b':20}\n",
    "t=(10,20,)\n",
    "print(d in t)"
   ]
  },
  {
   "cell_type": "code",
   "execution_count": null,
   "metadata": {},
   "outputs": [
    {
     "name": "stdout",
     "output_type": "stream",
     "text": [
      "True\n"
     ]
    }
   ],
   "source": [
    "#WAE to check the given value is integer or not\n",
    "p=25\n",
    "print(type(p)==int)"
   ]
  },
  {
   "cell_type": "code",
   "execution_count": null,
   "metadata": {},
   "outputs": [
    {
     "name": "stdout",
     "output_type": "stream",
     "text": [
      "True\n"
     ]
    }
   ],
   "source": [
    "#WAE to check the given value is string or not\n",
    "st='prasuuu'\n",
    "print(type(st)==str)\n"
   ]
  },
  {
   "cell_type": "code",
   "execution_count": null,
   "metadata": {},
   "outputs": [
    {
     "name": "stdout",
     "output_type": "stream",
     "text": [
      "True\n"
     ]
    }
   ],
   "source": [
    "#WAE to check  given value is single value or not\n",
    "c='none'\n",
    "print(type(c) in [int,float,bool,complex,bytes,type('none')])"
   ]
  },
  {
   "cell_type": "code",
   "execution_count": null,
   "metadata": {},
   "outputs": [
    {
     "data": {
      "text/plain": [
       "True"
      ]
     },
     "execution_count": 22,
     "metadata": {},
     "output_type": "execute_result"
    }
   ],
   "source": [
    "#WAE to check  given value is not a single value \n",
    "c=[10,20]\n",
    "type(c) not in [int,float,bool,complex,bytes]"
   ]
  },
  {
   "cell_type": "code",
   "execution_count": null,
   "metadata": {},
   "outputs": [
    {
     "data": {
      "text/plain": [
       "True"
      ]
     },
     "execution_count": 23,
     "metadata": {},
     "output_type": "execute_result"
    }
   ],
   "source": [
    "#wae to check given value is multi value or not\n",
    "c='pyspiders'\n",
    "type(c) in [list,tuple,str,dict,set]\n"
   ]
  },
  {
   "cell_type": "code",
   "execution_count": null,
   "metadata": {},
   "outputs": [
    {
     "data": {
      "text/plain": [
       "False"
      ]
     },
     "execution_count": 24,
     "metadata": {},
     "output_type": "execute_result"
    }
   ],
   "source": [
    "#wae to check given value is mutable value or not\n",
    "c='pyspiders'\n",
    "type(c) in [list,dict,set]"
   ]
  },
  {
   "cell_type": "code",
   "execution_count": null,
   "metadata": {},
   "outputs": [
    {
     "data": {
      "text/plain": [
       "True"
      ]
     },
     "execution_count": 25,
     "metadata": {},
     "output_type": "execute_result"
    }
   ],
   "source": [
    "#wae to check given value is mutable value or not\n",
    "c='pyspiders'\n",
    "type(c) in [str,set]"
   ]
  },
  {
   "cell_type": "code",
   "execution_count": null,
   "metadata": {},
   "outputs": [
    {
     "name": "stdout",
     "output_type": "stream",
     "text": [
      "True\n"
     ]
    }
   ],
   "source": [
    "#WAE to check if a given value is divisible by 6 as well as the value present in collection or not\n",
    "a=24\n",
    "coll=[12,18,24,36]\n",
    "print(a%6==0) and a in coll"
   ]
  },
  {
   "cell_type": "code",
   "execution_count": null,
   "metadata": {},
   "outputs": [
    {
     "name": "stdout",
     "output_type": "stream",
     "text": [
      "3\n"
     ]
    }
   ],
   "source": [
    "#WAE to perform the bitwise and operation for given values 15 and 19\n",
    "m=15\n",
    "n=19\n",
    "print(m&n)"
   ]
  },
  {
   "cell_type": "code",
   "execution_count": null,
   "metadata": {},
   "outputs": [
    {
     "name": "stdout",
     "output_type": "stream",
     "text": [
      "31\n"
     ]
    }
   ],
   "source": [
    "#WAE to perform the bitwise or operation for given values 115 and 79\n",
    "a=115\n",
    "b=79\n",
    "print(m|n)"
   ]
  },
  {
   "cell_type": "code",
   "execution_count": null,
   "metadata": {},
   "outputs": [
    {
     "name": "stdout",
     "output_type": "stream",
     "text": [
      "46\n"
     ]
    }
   ],
   "source": [
    "#WAE to perform the bitwise XOR operation for given values 56 and 22\n",
    "p=56\n",
    "m=22\n",
    "print(m^p)"
   ]
  },
  {
   "cell_type": "code",
   "execution_count": null,
   "metadata": {},
   "outputs": [
    {
     "name": "stdout",
     "output_type": "stream",
     "text": [
      "-17\n"
     ]
    }
   ],
   "source": [
    "#WAE to perform the bitwise and operation for given values 15\n",
    "n=16\n",
    "print(~n)"
   ]
  },
  {
   "cell_type": "code",
   "execution_count": null,
   "metadata": {},
   "outputs": [
    {
     "name": "stdout",
     "output_type": "stream",
     "text": [
      "6\n"
     ]
    }
   ],
   "source": [
    "#WAE to perform the bitwise right shift with 25and skipping value is 2\n",
    "a=25\n",
    "s=2\n",
    "print(a>>s)"
   ]
  },
  {
   "cell_type": "code",
   "execution_count": null,
   "metadata": {},
   "outputs": [
    {
     "name": "stdout",
     "output_type": "stream",
     "text": [
      "256\n"
     ]
    }
   ],
   "source": [
    "#WAE to perform the bitwise left shift with 32 and skipping value is 3\n",
    "a=32\n",
    "s=3\n",
    "print(a<<s)"
   ]
  },
  {
   "cell_type": "code",
   "execution_count": null,
   "metadata": {},
   "outputs": [
    {
     "name": "stdout",
     "output_type": "stream",
     "text": [
      "1000\n"
     ]
    }
   ],
   "source": [
    "#find the output of given condition\n",
    "w=(10+20*60 and 10**3) or({10,20}or not([15-16]))\n",
    "print(w)"
   ]
  },
  {
   "cell_type": "code",
   "execution_count": null,
   "metadata": {},
   "outputs": [
    {
     "name": "stdout",
     "output_type": "stream",
     "text": [
      "True\n",
      "True\n"
     ]
    }
   ],
   "source": [
    "#wae to check the given key is present in dict\n",
    "d={'a':\"hai\",'b':10,'c':[10,20]}\n",
    "k='c'\n",
    "print(k in d)\n",
    "print (k in d.keys())"
   ]
  },
  {
   "cell_type": "code",
   "execution_count": null,
   "metadata": {},
   "outputs": [
    {
     "name": "stdout",
     "output_type": "stream",
     "text": [
      "True\n"
     ]
    }
   ],
   "source": [
    "#wae to check the given value  is present in dict\n",
    "d={'a':\"hai\",'b':10,'c':[10,20]}\n",
    "k=10\n",
    "print(k in d.values())"
   ]
  },
  {
   "cell_type": "code",
   "execution_count": null,
   "metadata": {},
   "outputs": [
    {
     "name": "stdout",
     "output_type": "stream",
     "text": [
      "True\n"
     ]
    }
   ],
   "source": [
    "#wae to check the given key is not present in dict\n",
    "d={'a':\"hai\",'b':10,'c':[10,20]}\n",
    "k=20\n",
    "print (k not in d.keys())\n"
   ]
  },
  {
   "cell_type": "code",
   "execution_count": null,
   "metadata": {},
   "outputs": [
    {
     "name": "stdout",
     "output_type": "stream",
     "text": [
      "True\n"
     ]
    }
   ],
   "source": [
    "#wae to check the given key and value  pair is present in dict\n",
    "d={'a':\"hai\",'b':10,'c':[10,20]}\n",
    "k=('a',\"hai\")\n",
    "print(k in d.items())\n"
   ]
  },
  {
   "cell_type": "code",
   "execution_count": null,
   "metadata": {},
   "outputs": [
    {
     "name": "stdout",
     "output_type": "stream",
     "text": [
      "False\n"
     ]
    }
   ],
   "source": [
    "#WAE to check the two values are pointing to same adress or not\n",
    "a=15\n",
    "b-15\n",
    "print(a is b)\n"
   ]
  },
  {
   "cell_type": "code",
   "execution_count": null,
   "metadata": {},
   "outputs": [
    {
     "name": "stdout",
     "output_type": "stream",
     "text": [
      "False\n"
     ]
    }
   ],
   "source": [
    "#wae to check both the values should be integer and both the values pointing to the same address\n",
    "a=16\n",
    "b=19\n",
    "print(type(a)==type(b) and (a is b))"
   ]
  },
  {
   "cell_type": "code",
   "execution_count": 71,
   "metadata": {},
   "outputs": [
    {
     "name": "stdout",
     "output_type": "stream",
     "text": [
      "positive\n"
     ]
    }
   ],
   "source": [
    "#WAP to check whether a number is positive. If Positive, print a message Positive\n",
    "n=10\n",
    "if n>0:\n",
    "    print('positive')"
   ]
  },
  {
   "cell_type": "code",
   "execution_count": 94,
   "metadata": {},
   "outputs": [
    {
     "name": "stdout",
     "output_type": "stream",
     "text": [
      "fizz\n"
     ]
    }
   ],
   "source": [
    "#WAP to check whether the given number is divisible by 3 or not if print fizz.\n",
    "n=18\n",
    "if n%3==0:\n",
    "    print('fizz')"
   ]
  },
  {
   "cell_type": "code",
   "execution_count": 95,
   "metadata": {},
   "outputs": [
    {
     "name": "stdout",
     "output_type": "stream",
     "text": [
      "0\n"
     ]
    }
   ],
   "source": [
    "# WAP to check whether tha given i/p is 0 or not .if 0 print 0\n",
    "n=0\n",
    "if n==0:\n",
    "    print(\"0\")"
   ]
  },
  {
   "cell_type": "code",
   "execution_count": 211,
   "metadata": {},
   "outputs": [
    {
     "name": "stdout",
     "output_type": "stream",
     "text": [
      "n is negative\n"
     ]
    }
   ],
   "source": [
    "#WAP to check whether the given no. is negativee .print a message as negative\n",
    "n=-1\n",
    "if n<=0:\n",
    "    print(\"n is negative\")"
   ]
  },
  {
   "cell_type": "code",
   "execution_count": 212,
   "metadata": {},
   "outputs": [
    {
     "name": "stdout",
     "output_type": "stream",
     "text": [
      "hello world\n"
     ]
    }
   ],
   "source": [
    "#WAP TO DISPLAY hello world if number is greater than 1 and less than 5\n",
    "n=2\n",
    "if  1<n<5:\n",
    "    print(\"hello world\")\n"
   ]
  },
  {
   "cell_type": "code",
   "execution_count": 213,
   "metadata": {},
   "outputs": [
    {
     "name": "stdout",
     "output_type": "stream",
     "text": [
      "[30]\n"
     ]
    }
   ],
   "source": [
    "#WAP to check whether a given input is divisible by 3 or 5. If the condition is satisfied, the number is converted to a list.\n",
    "n=30 \n",
    "l=[]\n",
    "if n%3==0 and n%5==0:\n",
    "    l.append(n)\n",
    "    print(str(l))"
   ]
  },
  {
   "cell_type": "code",
   "execution_count": 214,
   "metadata": {},
   "outputs": [
    {
     "name": "stdout",
     "output_type": "stream",
     "text": [
      "35\n"
     ]
    }
   ],
   "source": [
    "#Write a program to check whether a given number is multiple of 5 or not\n",
    "m=35\n",
    "if m%5==0:\n",
    "    print(m)"
   ]
  },
  {
   "cell_type": "code",
   "execution_count": 215,
   "metadata": {},
   "outputs": [
    {
     "name": "stdout",
     "output_type": "stream",
     "text": [
      "0\n"
     ]
    }
   ],
   "source": [
    "#WAP to check whether the given input is 0 or not if 0 prints 0.\n",
    "m=0\n",
    "if m==0:\n",
    "    print('0')"
   ]
  },
  {
   "cell_type": "code",
   "execution_count": 233,
   "metadata": {},
   "outputs": [
    {
     "name": "stdout",
     "output_type": "stream",
     "text": [
      "[16]\n"
     ]
    }
   ],
   "source": [
    "#WAP to check whether a number is even or not. If even, store the value inside the list\n",
    "n=16\n",
    "l=[]\n",
    "if n%2==0:\n",
    "    l.append(n)\n",
    "    print(l)"
   ]
  },
  {
   "cell_type": "code",
   "execution_count": 235,
   "metadata": {},
   "outputs": [
    {
     "name": "stdout",
     "output_type": "stream",
     "text": [
      "(15,)\n"
     ]
    }
   ],
   "source": [
    "#WAP to check whether a number is odd or not. If odd, store the value inside the tuple\n",
    "n=15\n",
    "t=()\n",
    "if n%2!=0:\n",
    "    t+=(n,)\n",
    "    print(t)"
   ]
  },
  {
   "cell_type": "code",
   "execution_count": null,
   "metadata": {},
   "outputs": [
    {
     "name": "stdout",
     "output_type": "stream",
     "text": [
      "1225\n"
     ]
    }
   ],
   "source": [
    "n=35\n",
    "if n%5==0 and n%7==0:\n",
    "    print(n **2)"
   ]
  },
  {
   "cell_type": "code",
   "execution_count": null,
   "metadata": {},
   "outputs": [
    {
     "name": "stdout",
     "output_type": "stream",
     "text": [
      "16\n"
     ]
    }
   ],
   "source": [
    "#WAP  TO CHECK IF GIVEN NO is even or not .if yes print power of 4 in a given number\n",
    "n=2\n",
    "if n%2==0:\n",
    "    print(n**4)"
   ]
  },
  {
   "cell_type": "code",
   "execution_count": null,
   "metadata": {},
   "outputs": [
    {
     "name": "stdout",
     "output_type": "stream",
     "text": [
      "20\n"
     ]
    }
   ],
   "source": [
    "#WAP to take input fron user as number and check whether it is number or not if yes take the number and add the same value and  print it\n",
    "n=10\n",
    "if type(n) in [int,float,bool,complex]:\n",
    "    print(n+10)\n"
   ]
  },
  {
   "cell_type": "code",
   "execution_count": null,
   "metadata": {},
   "outputs": [
    {
     "name": "stdout",
     "output_type": "stream",
     "text": [
      "hello world\n"
     ]
    }
   ],
   "source": [
    "#WAP to display helloworld if number is greater than 1and less than 5\n",
    "n=3\n",
    "if 1<n<5:\n",
    "    print(\"hello world\")"
   ]
  },
  {
   "cell_type": "code",
   "execution_count": null,
   "metadata": {},
   "outputs": [
    {
     "name": "stdout",
     "output_type": "stream",
     "text": [
      "1225\n"
     ]
    }
   ],
   "source": [
    "#WAP to check whether a given value is divisible by 5 and 7. if value is divisible display square of values\n",
    "n=35\n",
    "if n%5==0 and  n%7==0:\n",
    "    print(n**2)"
   ]
  },
  {
   "cell_type": "code",
   "execution_count": null,
   "metadata": {},
   "outputs": [
    {
     "name": "stdout",
     "output_type": "stream",
     "text": [
      "148\n"
     ]
    }
   ],
   "source": [
    "#WAP to check whether given value  last digit is greater than 5 if greater perform bitwise right shift operation with skipping value 2\n",
    "n=37\n",
    "if (n%10>5):\n",
    "    print(n<<2)\n"
   ]
  },
  {
   "cell_type": "code",
   "execution_count": null,
   "metadata": {},
   "outputs": [
    {
     "name": "stdout",
     "output_type": "stream",
     "text": [
      "324\n"
     ]
    }
   ],
   "source": [
    "#wap to check whether a given value is divisible by 3 and less than 30 if divisible print square of values\n",
    "n=18\n",
    "if n%3==0 and n<30:\n",
    "    print(n**2)"
   ]
  },
  {
   "cell_type": "code",
   "execution_count": null,
   "metadata": {},
   "outputs": [
    {
     "name": "stdout",
     "output_type": "stream",
     "text": [
      "46656\n"
     ]
    }
   ],
   "source": [
    "#WAP to check whether a given value is eveen number or not and divisible by 4 if satisfies display cube of value\n",
    "n=36\n",
    "if n%2==0 and n%4==0:\n",
    "    print(n**3)"
   ]
  },
  {
   "cell_type": "code",
   "execution_count": null,
   "metadata": {},
   "outputs": [
    {
     "name": "stdout",
     "output_type": "stream",
     "text": [
      "[26]\n"
     ]
    }
   ],
   "source": [
    "#wap to check whether the value is even or not  if even store the value inside the list\n",
    "n=26\n",
    "l=[]\n",
    "if n%2==0:\n",
    "    l.append(n)\n",
    "    print(l)"
   ]
  },
  {
   "cell_type": "code",
   "execution_count": null,
   "metadata": {},
   "outputs": [
    {
     "name": "stdout",
     "output_type": "stream",
     "text": [
      "6\n"
     ]
    }
   ],
   "source": [
    "#wap to check whether the value is  negative or even or not  if satisfies display last digit of value\n",
    "n=26\n",
    "if n%2==0:\n",
    "    print(n%10)\n"
   ]
  },
  {
   "cell_type": "code",
   "execution_count": null,
   "metadata": {},
   "outputs": [
    {
     "name": "stdout",
     "output_type": "stream",
     "text": [
      "13824\n"
     ]
    }
   ],
   "source": [
    "#wap to check whether the value is  negative or odd and divisible by 4.  if satisfies display cube of value\n",
    "n=24\n",
    "if(n<0 or n%2==0) and n%4==0:\n",
    "    print(n**3)\n"
   ]
  },
  {
   "cell_type": "code",
   "execution_count": null,
   "metadata": {},
   "outputs": [
    {
     "name": "stdout",
     "output_type": "stream",
     "text": [
      "8\n"
     ]
    }
   ],
   "source": [
    "#wap to check whether ascii value is divisible by 4 and even or not  if satisfies display ascii character\n",
    "n=56\n",
    "if n%4==0 and n%2==0:\n",
    "        print(chr(n))\n"
   ]
  },
  {
   "cell_type": "code",
   "execution_count": null,
   "metadata": {},
   "outputs": [
    {
     "name": "stdout",
     "output_type": "stream",
     "text": [
      "x\n"
     ]
    }
   ],
   "source": [
    "#wap to check whether the value is present in between 45 and 125 and the number should be divisible by 4 and 5and even value   if satisfies display ascii character\n",
    "n=120\n",
    "if n%4==0 and n%5==0 and n%2==0 and 45<n<125:\n",
    "    print(chr(n))\n"
   ]
  },
  {
   "cell_type": "code",
   "execution_count": null,
   "metadata": {},
   "outputs": [
    {
     "name": "stdout",
     "output_type": "stream",
     "text": [
      "\n"
     ]
    }
   ],
   "source": [
    "#wap to check whether the value is present in between 25 and 100 and the number should be divisible by 4 and 5   if satisfies display multiplication of 5\n",
    "n=60\n",
    "if n%4==0 and n%5==0 and 25<n<100:\n",
    "    print()"
   ]
  },
  {
   "cell_type": "code",
   "execution_count": null,
   "metadata": {},
   "outputs": [
    {
     "name": "stdout",
     "output_type": "stream",
     "text": [
      "True\n"
     ]
    }
   ],
   "source": [
    "#WAP to check whether a given number is an integer and odd number. If the condition is satisfied, the integer is divisible by 5 and displays the result.\n",
    "n=35\n",
    "if n%2!=0 and type(n)==int:\n",
    "    print(n%5==0)\n"
   ]
  },
  {
   "cell_type": "code",
   "execution_count": null,
   "metadata": {},
   "outputs": [
    {
     "name": "stdout",
     "output_type": "stream",
     "text": [
      "20\n"
     ]
    }
   ],
   "source": [
    "#WAP to check whether a given value is an integer or not. If integer, the given value is converted to string and displays the result\n",
    "n=20\n",
    "if (type(n)==int):\n",
    "    print(str(n))"
   ]
  },
  {
   "cell_type": "code",
   "execution_count": null,
   "metadata": {},
   "outputs": [
    {
     "ename": "TypeError",
     "evalue": "'builtin_function_or_method' object is not subscriptable",
     "output_type": "error",
     "traceback": [
      "\u001b[1;31m---------------------------------------------------------------------------\u001b[0m",
      "\u001b[1;31mTypeError\u001b[0m                                 Traceback (most recent call last)",
      "Cell \u001b[1;32mIn[232], line 5\u001b[0m\n\u001b[0;32m      3\u001b[0m l\u001b[39m=\u001b[39m\u001b[39m'\u001b[39m\u001b[39mprasu\u001b[39m\u001b[39m'\u001b[39m\n\u001b[0;32m      4\u001b[0m \u001b[39mif\u001b[39;00m \u001b[39m60\u001b[39m\u001b[39m<\u001b[39mn\u001b[39m<\u001b[39m\u001b[39m125\u001b[39m:\n\u001b[1;32m----> 5\u001b[0m     l\u001b[39m=\u001b[39ml[\u001b[39mlen\u001b[39;49m[l]\u001b[39m/\u001b[39m\u001b[39m/\u001b[39m\u001b[39m2\u001b[39m]\n\u001b[0;32m      6\u001b[0m     \u001b[39mprint\u001b[39m(l)\n",
      "\u001b[1;31mTypeError\u001b[0m: 'builtin_function_or_method' object is not subscriptable"
     ]
    }
   ],
   "source": [
    "#WAP to check whether a given value is less than 125 and greater than 60 or not. if the condition is satisfied, take the name and extract the middle character and display it.\n",
    "n=100\n",
    "l='prasu'\n",
    "if 60<n<125:\n",
    "    l=l[len[l]//2]\n",
    "    print(l)"
   ]
  },
  {
   "cell_type": "code",
   "execution_count": null,
   "metadata": {},
   "outputs": [
    {
     "name": "stdout",
     "output_type": "stream",
     "text": [
      "40\n"
     ]
    }
   ],
   "source": [
    "#WAP to check whether a given two integers are equal or not. If both are equal, to  perform addition and display the result\n",
    "a=20\n",
    "b=20\n",
    "if int(a)==int(b):\n",
    "    print(a+b)"
   ]
  },
  {
   "cell_type": "code",
   "execution_count": null,
   "metadata": {},
   "outputs": [
    {
     "name": "stdout",
     "output_type": "stream",
     "text": [
      "297.5\n"
     ]
    }
   ],
   "source": [
    "#WAP to check whether two values are equal or not. if equal, to perform multiplication of two numbers and that result is division by 3 and display the  value\n",
    "n=25.5\n",
    "m=35.0\n",
    "if type(n)==type(m):\n",
    "    print(n*m/3)"
   ]
  },
  {
   "cell_type": "code",
   "execution_count": null,
   "metadata": {},
   "outputs": [
    {
     "name": "stdout",
     "output_type": "stream",
     "text": [
      "{'p': 112}\n"
     ]
    }
   ],
   "source": [
    "#WAP to check whether a character is in the alphabet or not. If the alphabet, store  value inside the dict(key as a character and value as an ascii value).\n",
    "ch='p'\n",
    "d={}\n",
    "if  ('a'<=ch<='z' or 'A'<=ch<='Z'):\n",
    "    d[ch]=ord(ch)\n",
    "    print(d)\n",
    "\n"
   ]
  },
  {
   "cell_type": "code",
   "execution_count": null,
   "metadata": {},
   "outputs": [],
   "source": [
    "#WAP to check whether a character is in the uppercase or not. If the uppercase, store the value inside the dict(key as a character and value as an ascii value).\n",
    "ch='M'\n",
    "d={}\n",
    "if ch in 'A'<=ch<='Z':\n",
    "    d[ch]=ord(ch)\n"
   ]
  },
  {
   "cell_type": "code",
   "execution_count": null,
   "metadata": {},
   "outputs": [],
   "source": [
    "#WAP to check whether a character is in the uppercase or not. If the uppercase, convert to lowercase and store the value inside the dict\n",
    "n='A'\n",
    "d={}\n",
    "if n in 'A'<=n<='Z':\n",
    "    d[n]=chr(ord(n)+32)\n"
   ]
  },
  {
   "cell_type": "code",
   "execution_count": null,
   "metadata": {},
   "outputs": [
    {
     "name": "stdout",
     "output_type": "stream",
     "text": [
      "aaaaaaaaaa\n"
     ]
    }
   ],
   "source": [
    "#WAP to check whether a character is in the lowercase or not. If the lowercase, to perform the replication operation on that character.\n",
    "ch='a'\n",
    "if 'a'<=ch<='z':\n",
    "    print(ch*10)"
   ]
  },
  {
   "cell_type": "code",
   "execution_count": null,
   "metadata": {},
   "outputs": [
    {
     "name": "stdout",
     "output_type": "stream",
     "text": [
      "<class 'int'>\n"
     ]
    }
   ],
   "source": [
    "#WAP to check whether a character is in the ascii number or not. If the ascii number, to convert into integer.\n",
    "ch='7'\n",
    "if '0'<=ch<='9':\n",
    "   n= type(ord(ch))\n",
    "   print(n)"
   ]
  },
  {
   "cell_type": "code",
   "execution_count": null,
   "metadata": {},
   "outputs": [],
   "source": [
    "#WAP to check whether a character is in the special symbol or not. If the special symbol, to display a symbol with ascii value\n",
    "ch='$'\n",
    "if 'a'<=ch<='z' and 'A'<=ch<='Z' and '0'<=ch<='9':\n",
    "    print(ch,ord(ch))"
   ]
  },
  {
   "cell_type": "code",
   "execution_count": null,
   "metadata": {},
   "outputs": [
    {
     "ename": "TypeError",
     "evalue": "'<=' not supported between instances of 'str' and 'int'",
     "output_type": "error",
     "traceback": [
      "\u001b[1;31m---------------------------------------------------------------------------\u001b[0m",
      "\u001b[1;31mTypeError\u001b[0m                                 Traceback (most recent call last)",
      "Cell \u001b[1;32mIn[39], line 3\u001b[0m\n\u001b[0;32m      1\u001b[0m \u001b[39m#WAP to check whether a character is an even number or not. If the even number, to display an even number.\u001b[39;00m\n\u001b[0;32m      2\u001b[0m ch\u001b[39m=\u001b[39m\u001b[39m'\u001b[39m\u001b[39mb\u001b[39m\u001b[39m'\u001b[39m\n\u001b[1;32m----> 3\u001b[0m \u001b[39mif\u001b[39;00m \u001b[39m'\u001b[39;49m\u001b[39ma\u001b[39;49m\u001b[39m'\u001b[39;49m\u001b[39m<\u001b[39;49m\u001b[39m=\u001b[39;49m\u001b[39mord\u001b[39;49m(ch)\u001b[39m%\u001b[39;49m\u001b[39m2\u001b[39;49m\u001b[39m==\u001b[39;49m\u001b[39m0\u001b[39;49m\u001b[39m<\u001b[39;49m\u001b[39m=\u001b[39;49m\u001b[39m'\u001b[39;49m\u001b[39mz\u001b[39;49m\u001b[39m'\u001b[39;49m \u001b[39mand\u001b[39;00m \u001b[39m'\u001b[39m\u001b[39mA\u001b[39m\u001b[39m'\u001b[39m\u001b[39m<\u001b[39m\u001b[39m=\u001b[39m\u001b[39mord\u001b[39m(ch)\u001b[39m%\u001b[39m\u001b[39m2\u001b[39m\u001b[39m==\u001b[39m\u001b[39m0\u001b[39m\u001b[39m<\u001b[39m\u001b[39m=\u001b[39m\u001b[39m'\u001b[39m\u001b[39mZ\u001b[39m\u001b[39m'\u001b[39m \u001b[39mand\u001b[39;00m \u001b[39m'\u001b[39m\u001b[39m0\u001b[39m\u001b[39m'\u001b[39m\u001b[39m<\u001b[39m\u001b[39m=\u001b[39m\u001b[39mord\u001b[39m(ch)\u001b[39m%\u001b[39m\u001b[39m2\u001b[39m\u001b[39m==\u001b[39m\u001b[39m0\u001b[39m\u001b[39m<\u001b[39m\u001b[39m=\u001b[39m\u001b[39m'\u001b[39m\u001b[39m9\u001b[39m\u001b[39m'\u001b[39m:\n\u001b[0;32m      4\u001b[0m     \u001b[39mprint\u001b[39m(\u001b[39mord\u001b[39m(ch))\n",
      "\u001b[1;31mTypeError\u001b[0m: '<=' not supported between instances of 'str' and 'int'"
     ]
    }
   ],
   "source": [
    "#WAP to check whether a character is an even number or not. If the even number, to display an even number.\n",
    "ch='b'\n",
    "if 'a'<=ord(ch)%2==0<='z' and 'A'<=ord(ch)%2==0<='Z' and '0'<=ord(ch)%2==0<='9':\n",
    "    print(ord(ch))\n"
   ]
  },
  {
   "cell_type": "code",
   "execution_count": null,
   "metadata": {},
   "outputs": [
    {
     "name": "stdout",
     "output_type": "stream",
     "text": [
      "900\n"
     ]
    }
   ],
   "source": [
    "#WAP to check whether a Given two integers a and b, if any of the integers is 10 or if their sum is 10, to perform the sum of the numbers and to display the square of  the result.\n",
    "a=10\n",
    "b=20\n",
    "if a==10 or b==10 or a+b==10:\n",
    "    print((a+b)**2)"
   ]
  },
  {
   "cell_type": "code",
   "execution_count": null,
   "metadata": {},
   "outputs": [
    {
     "name": "stdout",
     "output_type": "stream",
     "text": [
      "f\n"
     ]
    }
   ],
   "source": [
    "#WAP to check whether a character is in the vowel or not. If the vowel,print the next character.\n",
    "n='e'\n",
    "if n in 'aeiouAEIOU':\n",
    "   print(chr(ord(ch)+1))\n"
   ]
  },
  {
   "cell_type": "code",
   "execution_count": null,
   "metadata": {},
   "outputs": [
    {
     "name": "stdout",
     "output_type": "stream",
     "text": [
      "d\n"
     ]
    }
   ],
   "source": [
    "#WAP to check whether a character is in the not a vowel. If it's not a vowel,print  previous character.\n",
    "n='f'\n",
    "if n  not in 'aeiouAEIOU':\n",
    "   print(chr(ord(ch)-1))"
   ]
  },
  {
   "cell_type": "code",
   "execution_count": null,
   "metadata": {},
   "outputs": [
    {
     "name": "stdout",
     "output_type": "stream",
     "text": [
      "97.7  is a single value data type\n"
     ]
    }
   ],
   "source": [
    "#WAP to check whether a given value is a single value data type or not. If single value, display the given value as a single value data type\n",
    "n=97.7\n",
    "if type(n) in[int,float,bool,complex]:\n",
    "    print(n,f\" is a single value data type\")"
   ]
  },
  {
   "cell_type": "code",
   "execution_count": null,
   "metadata": {},
   "outputs": [
    {
     "name": "stdout",
     "output_type": "stream",
     "text": [
      "([10],)\n"
     ]
    }
   ],
   "source": [
    "#WAP to check whether a given value is a multi-value data type or not. If multi value , store the given value inside the tuple and display it.\n",
    "n=[10]\n",
    "t=()\n",
    "if type(n) in [str,tuple,list,set,dict]:\n",
    "    t+=(n,)\n",
    "    print(t)\n"
   ]
  },
  {
   "cell_type": "code",
   "execution_count": null,
   "metadata": {},
   "outputs": [
    {
     "name": "stdout",
     "output_type": "stream",
     "text": [
      "{'prasu'}\n"
     ]
    }
   ],
   "source": [
    "#WAP to check whether a given value is an immutable data type or not. If an immutable data type value, store the given value inside the set and display it\n",
    "n='prasu'\n",
    "s=set()\n",
    "if type(n) in [str,tuple]:\n",
    "    s|={n}\n",
    "    print(s)"
   ]
  },
  {
   "cell_type": "code",
   "execution_count": null,
   "metadata": {},
   "outputs": [
    {
     "name": "stdout",
     "output_type": "stream",
     "text": [
      "odd\n"
     ]
    }
   ],
   "source": [
    "#WAP to check whether the middle element of a given list is odd or not. If it is odd then print odd then print the number else directly print the number\n",
    "l=[10,20,25,30,40]\n",
    "if l[len(l)//2]!=0:\n",
    "    print('odd')\n",
    "else:\n",
    "    print(l[len(l)//2])"
   ]
  },
  {
   "cell_type": "code",
   "execution_count": null,
   "metadata": {},
   "outputs": [],
   "source": [
    "#WAP Return a new string with \"not\" prefixed to the front of the original string. return the string unmodified if the string already has the word \"not\" at the beginning."
   ]
  },
  {
   "cell_type": "code",
   "execution_count": null,
   "metadata": {},
   "outputs": [
    {
     "name": "stdout",
     "output_type": "stream",
     "text": [
      "140734727120232 140734727120232\n"
     ]
    }
   ],
   "source": [
    "#WAP to check whether the two variables are pointing to the same memory location or not if they are pointing to the same memory location then print the address of both the variables.\n",
    "a=19\n",
    "b=19\n",
    "if a is b:\n",
    "    print(id(a),id(b))"
   ]
  },
  {
   "cell_type": "code",
   "execution_count": null,
   "metadata": {},
   "outputs": [
    {
     "name": "stdout",
     "output_type": "stream",
     "text": [
      "prasan\n"
     ]
    }
   ],
   "source": [
    "#WAP to check whether the given length of the string is even or not. If the condition is satisfied, display the sequence of characters from zero position to length of collection -2.\n",
    "s='prasanna'\n",
    "if(len(l)//2)%2==0:\n",
    "    s=s[0:-2:]\n",
    "    print(s)"
   ]
  },
  {
   "cell_type": "code",
   "execution_count": null,
   "metadata": {},
   "outputs": [],
   "source": [
    "#WAP to check whether the two given strings are having the same values or not. if both are not the same values then swap the values of one variable to another variable after swapping print the two values.\n"
   ]
  },
  {
   "cell_type": "code",
   "execution_count": null,
   "metadata": {},
   "outputs": [],
   "source": [
    "#WAP to check whether a given character is a special symbol or not. If satisfied, store the symbol as a key and value as a ascii value of the given character inside the dictionary\n",
    "n='@'\n",
    "d={}\n",
    "if 'A'<=(n)<='Z' and 'a'<=(n)<='b'and'0'<=(n)<='9':\n",
    "    d[n]=ord(ch)\n",
    "    print(d)\n",
    "\n"
   ]
  },
  {
   "cell_type": "code",
   "execution_count": 238,
   "metadata": {},
   "outputs": [],
   "source": [
    "#WAP to check whether a given key is  present in the dictionary or not. If the key is not present, apend the new key inside the dictionary.\n",
    "k='a'\n",
    "d={'b':10,'c':30}\n",
    "if k in d.keys():\n",
    "    d[a]={10}\n",
    "    print(d)"
   ]
  },
  {
   "cell_type": "code",
   "execution_count": 236,
   "metadata": {},
   "outputs": [
    {
     "name": "stdout",
     "output_type": "stream",
     "text": [
      "('f', 'y')\n"
     ]
    }
   ],
   "source": [
    "#WAP whether a giveniis  string, and it displays a new string with the first and last characters switched.\n",
    "s='fluffy'\n",
    "if type(s)==str:\n",
    "    s=s[0],s[-1]\n",
    "    print(s)\n",
    "\n"
   ]
  },
  {
   "cell_type": "code",
   "execution_count": null,
   "metadata": {},
   "outputs": [
    {
     "name": "stdout",
     "output_type": "stream",
     "text": [
      "2\n"
     ]
    }
   ],
   "source": [
    "#WAP to check whether the last digit should be 2 in the given number then print the last digit.\n",
    "n=82\n",
    "if n%10==2:\n",
    "    print(n%10)"
   ]
  },
  {
   "cell_type": "code",
   "execution_count": null,
   "metadata": {},
   "outputs": [],
   "source": [
    "#WAP to check whether a given string(str) and one integer(n) value, to display a new string that is devoid of the character at index n. if you are given a non-emptystring and an int n. The value of n will be a legitimate character index from the original string, therefore it will fall within the range of 0 to len(str)-1, inclusive.\n"
   ]
  },
  {
   "cell_type": "code",
   "execution_count": null,
   "metadata": {},
   "outputs": [],
   "source": [
    "#WAP to check whether both string collections are equal or not if it is not equal print the both strings along with the length of a string if both are equal ignore it"
   ]
  }
 ],
 "metadata": {
  "kernelspec": {
   "display_name": "Python 3",
   "language": "python",
   "name": "python3"
  },
  "language_info": {
   "codemirror_mode": {
    "name": "ipython",
    "version": 3
   },
   "file_extension": ".py",
   "mimetype": "text/x-python",
   "name": "python",
   "nbconvert_exporter": "python",
   "pygments_lexer": "ipython3",
   "version": "3.11.4"
  },
  "orig_nbformat": 4
 },
 "nbformat": 4,
 "nbformat_minor": 2
}
