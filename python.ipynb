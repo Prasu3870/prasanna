{
 "cells": [
  {
   "cell_type": "code",
   "execution_count": 1,
   "metadata": {},
   "outputs": [
    {
     "name": "stdout",
     "output_type": "stream",
     "text": [
      "hello world\n"
     ]
    }
   ],
   "source": [
    "print(\"hello world\")"
   ]
  },
  {
   "cell_type": "code",
   "execution_count": 2,
   "metadata": {},
   "outputs": [
    {
     "name": "stdout",
     "output_type": "stream",
     "text": [
      "50\n"
     ]
    }
   ],
   "source": [
    "#write a statement to initialize variable and value as 50\n",
    "a=50\n",
    "print(a)\n",
    "\n"
   ]
  },
  {
   "cell_type": "code",
   "execution_count": 3,
   "metadata": {},
   "outputs": [
    {
     "name": "stdout",
     "output_type": "stream",
     "text": [
      "150 120 250\n"
     ]
    }
   ],
   "source": [
    "#write a statement to initialize multi variable values \n",
    "a,b,c =150,120,250\n",
    "print(a,b,c)"
   ]
  },
  {
   "cell_type": "code",
   "execution_count": 4,
   "metadata": {},
   "outputs": [
    {
     "name": "stdout",
     "output_type": "stream",
     "text": [
      "<class 'dict'>\n"
     ]
    }
   ],
   "source": [
    "#WAS to print type of data in given value\n",
    "a={b:25}\n",
    "print(type(a))"
   ]
  },
  {
   "cell_type": "code",
   "execution_count": 5,
   "metadata": {},
   "outputs": [
    {
     "name": "stdout",
     "output_type": "stream",
     "text": [
      "2743967129536\n"
     ]
    }
   ],
   "source": [
    "#WAS to print the adress of memory block in given value\n",
    "a=[10,20]\n",
    "print(id(a))"
   ]
  },
  {
   "cell_type": "code",
   "execution_count": 6,
   "metadata": {},
   "outputs": [
    {
     "name": "stdout",
     "output_type": "stream",
     "text": [
      "prasu\n",
      "22\n",
      "True\n"
     ]
    }
   ],
   "source": [
    "#WAS to print your details ,first store your details , extract and display.\n",
    "name='prasu'\n",
    "age=22\n",
    "phno=9876543210\n",
    "pancard=True\n",
    "print(name)\n",
    "print(age)\n",
    "print(pancard)\n"
   ]
  },
  {
   "cell_type": "code",
   "execution_count": 7,
   "metadata": {},
   "outputs": [
    {
     "name": "stdout",
     "output_type": "stream",
     "text": [
      "20\n",
      "10\n"
     ]
    }
   ],
   "source": [
    "#WAS to swap 2 values with temp variable\n",
    "a=10\n",
    "b=20\n",
    "temp=a\n",
    "a=b\n",
    "b=temp\n",
    "print(a)\n",
    "print(b)\n"
   ]
  },
  {
   "cell_type": "code",
   "execution_count": 8,
   "metadata": {},
   "outputs": [
    {
     "name": "stdout",
     "output_type": "stream",
     "text": [
      "[10, 20] [30, 40]\n",
      "[30, 40] [10, 20]\n"
     ]
    }
   ],
   "source": [
    "#WAS to swap 2 values with out temp variables\n",
    "m=[10,20]\n",
    "n=[30,40]\n",
    "print(m,n)\n",
    "print(n,m)"
   ]
  },
  {
   "cell_type": "code",
   "execution_count": 9,
   "metadata": {},
   "outputs": [
    {
     "name": "stdout",
     "output_type": "stream",
     "text": [
      "a\n"
     ]
    },
    {
     "data": {
      "text/plain": [
       "[10, 20]"
      ]
     },
     "execution_count": 9,
     "metadata": {},
     "output_type": "execute_result"
    }
   ],
   "source": [
    "#was to initialize the value,print a value,reinitialize the new value to the existing variable and display the value\n",
    "a={'a':\"pyspiders\"}\n",
    "print('a')\n",
    "a['a']=\"qspiders\"\n",
    "a\n",
    "a=[10,20]\n",
    "a\n",
    "\n"
   ]
  },
  {
   "cell_type": "code",
   "execution_count": null,
   "metadata": {},
   "outputs": [],
   "source": []
  },
  {
   "cell_type": "markdown",
   "metadata": {},
   "source": []
  },
  {
   "cell_type": "code",
   "execution_count": 10,
   "metadata": {},
   "outputs": [
    {
     "name": "stdout",
     "output_type": "stream",
     "text": [
      "10\n",
      "['1', '0']\n"
     ]
    }
   ],
   "source": [
    "#WAS to convert single value data type to ,multi value data type\n",
    "#i/p=10 o/p=['1','0']\n",
    "a=10\n",
    "a=str(a)\n",
    "print(str(a))\n",
    "print(list(a))\n"
   ]
  },
  {
   "cell_type": "code",
   "execution_count": 11,
   "metadata": {},
   "outputs": [
    {
     "name": "stdout",
     "output_type": "stream",
     "text": [
      "helloworld\n",
      "[10, 20, 60, 70]\n",
      "prasuteju\n",
      "{10: 20, 30: 40, 'a': 'hyy', 'b': 'byee'}\n"
     ]
    }
   ],
   "source": [
    "#WAS to concatinate two multi value data types(string, list, tupule,set,dict)\n",
    "x=\"hello\"\n",
    "x+=\"world\"\n",
    "print(x)\n",
    "l=[10,20]\n",
    "l+=[60,70]\n",
    "print(l)\n",
    "t=('prasu')\n",
    "t+=('teju')\n",
    "print(t)\n",
    "d={10:20,30:40}\n",
    "d|={'a':\"hyy\",'b':\"byee\"}\n",
    "print(d)\n",
    "\n",
    "\n"
   ]
  },
  {
   "cell_type": "code",
   "execution_count": 12,
   "metadata": {},
   "outputs": [
    {
     "name": "stdout",
     "output_type": "stream",
     "text": [
      "13\n"
     ]
    }
   ],
   "source": [
    "#WAs to concate  length of collection\n",
    "a=\"laxmiprasanna\"\n",
    "print(len(a))"
   ]
  },
  {
   "cell_type": "code",
   "execution_count": 13,
   "metadata": {},
   "outputs": [
    {
     "name": "stdout",
     "output_type": "stream",
     "text": [
      "2\n"
     ]
    }
   ],
   "source": [
    "#WAE to  find out the middle value of given collection\n",
    "a=[10,20,30,40,50]\n",
    "print(len(a)//2)"
   ]
  },
  {
   "cell_type": "code",
   "execution_count": 14,
   "metadata": {},
   "outputs": [
    {
     "name": "stdout",
     "output_type": "stream",
     "text": [
      "hyyhow r u\n"
     ]
    }
   ],
   "source": [
    "#WAS to concate the new string into starting of given string\n",
    "a=\"how r u\"\n",
    "b=\"hyy\"\n",
    "print(b+a)"
   ]
  },
  {
   "cell_type": "code",
   "execution_count": 15,
   "metadata": {},
   "outputs": [
    {
     "name": "stdout",
     "output_type": "stream",
     "text": [
      "helloworld\n"
     ]
    }
   ],
   "source": [
    "#WAS to  concate the new string into ending of given string\n",
    "a=\"hello\"\n",
    "b=\"world\"\n",
    "print(a+b)\n"
   ]
  },
  {
   "cell_type": "code",
   "execution_count": 16,
   "metadata": {},
   "outputs": [
    {
     "name": "stdout",
     "output_type": "stream",
     "text": [
      "pysPIDers\n"
     ]
    }
   ],
   "source": [
    "#WAS TO MODIFY SEQUENCE OF CHARACTERS IN GIVEN STRING\n",
    "s='pyspiders'\n",
    "print(s[0:3]+'PID'+s[6:])"
   ]
  },
  {
   "cell_type": "code",
   "execution_count": 17,
   "metadata": {},
   "outputs": [
    {
     "name": "stdout",
     "output_type": "stream",
     "text": [
      "Qspiders\n"
     ]
    }
   ],
   "source": [
    "#WAS to replace the old character into a new character of given string\n",
    "s='qspiders'\n",
    "print(s[0:0]+'Q'+s[1:])"
   ]
  },
  {
   "cell_type": "code",
   "execution_count": 18,
   "metadata": {},
   "outputs": [
    {
     "name": "stdout",
     "output_type": "stream",
     "text": [
      "prasu\n"
     ]
    }
   ],
   "source": [
    "#WAS TO DELETE SPECIFIC CHARACTER FROM string\n",
    "a=\"prasannau\"\n",
    "print(a[0:4]+a[8:])"
   ]
  },
  {
   "cell_type": "code",
   "execution_count": null,
   "metadata": {},
   "outputs": [],
   "source": []
  },
  {
   "cell_type": "code",
   "execution_count": null,
   "metadata": {},
   "outputs": [],
   "source": []
  },
  {
   "cell_type": "markdown",
   "metadata": {},
   "source": []
  },
  {
   "cell_type": "code",
   "execution_count": 19,
   "metadata": {},
   "outputs": [
    {
     "name": "stdout",
     "output_type": "stream",
     "text": [
      "pyspider.coms\n"
     ]
    }
   ],
   "source": [
    "#WAS to concate new string into specific position of given string\n",
    "m= \"pyspiders\"\n",
    "print(m[0:8]+'.com'+m[8:])"
   ]
  },
  {
   "cell_type": "code",
   "execution_count": 20,
   "metadata": {},
   "outputs": [
    {
     "name": "stdout",
     "output_type": "stream",
     "text": [
      "hey hii\n"
     ]
    }
   ],
   "source": [
    "#WAS to delete sequence of characters of string\n",
    "n=\"hey bye hii\"\n",
    "print(n[0:4]+n[8:])"
   ]
  },
  {
   "cell_type": "code",
   "execution_count": 21,
   "metadata": {},
   "outputs": [
    {
     "name": "stdout",
     "output_type": "stream",
     "text": [
      "[20, 30, 1, 2, 3]\n"
     ]
    }
   ],
   "source": [
    "#WAS to concate new value into starting of the list\n",
    "l=[1,2,3]\n",
    "\n",
    "print([20,30]+l)\n"
   ]
  },
  {
   "cell_type": "code",
   "execution_count": 22,
   "metadata": {},
   "outputs": [
    {
     "name": "stdout",
     "output_type": "stream",
     "text": [
      "[5, 6, 7, 99, 100]\n"
     ]
    }
   ],
   "source": [
    "#WAS to concate new value at end of the list\n",
    "a=[5,6,7]\n",
    "print(a+[99,100])\n"
   ]
  },
  {
   "cell_type": "code",
   "execution_count": 23,
   "metadata": {},
   "outputs": [
    {
     "data": {
      "text/plain": [
       "[1, 4, 5, 3]"
      ]
     },
     "execution_count": 23,
     "metadata": {},
     "output_type": "execute_result"
    }
   ],
   "source": [
    "#WAS to concate the new values in the middle of the list\n",
    "y=[1,3]\n",
    "y[0:1]+[4,5]+y[1:]"
   ]
  },
  {
   "cell_type": "code",
   "execution_count": 24,
   "metadata": {},
   "outputs": [
    {
     "name": "stdout",
     "output_type": "stream",
     "text": [
      "[10, 20, 30, 100, 200, 40, 50]\n"
     ]
    }
   ],
   "source": [
    "#was to cancate new value into specific position of given list\n",
    "l=[10,20,30,40,50]\n",
    "l[-2:-2]=[100,200]\n",
    "print(l)"
   ]
  },
  {
   "cell_type": "code",
   "execution_count": 25,
   "metadata": {},
   "outputs": [
    {
     "name": "stdout",
     "output_type": "stream",
     "text": [
      "['a', 'f', 'c', 'd']\n"
     ]
    }
   ],
   "source": [
    "#WAS to modify the new value into the specific position of givedmn list\n",
    "l=['a','b','c','d']\n",
    "l[1]='f'\n",
    "print(l)"
   ]
  },
  {
   "cell_type": "code",
   "execution_count": 26,
   "metadata": {},
   "outputs": [
    {
     "name": "stdout",
     "output_type": "stream",
     "text": [
      "['prasu', 20, 'true', 'haii']\n"
     ]
    }
   ],
   "source": [
    "#WAS to modify the new value into the starting of given list\n",
    "l=[10,20,'true','haii']\n",
    "l[-4]='prasu'\n",
    "print(l)"
   ]
  },
  {
   "cell_type": "code",
   "execution_count": 27,
   "metadata": {},
   "outputs": [
    {
     "name": "stdout",
     "output_type": "stream",
     "text": [
      "[10, 20, 'true', 'prasu']\n"
     ]
    }
   ],
   "source": [
    "#WAS to modify the new value into the ending of given list\n",
    "l=[10,20,'true','haii']\n",
    "l[3]='prasu'\n",
    "print(l)"
   ]
  },
  {
   "cell_type": "code",
   "execution_count": 28,
   "metadata": {},
   "outputs": [
    {
     "name": "stdout",
     "output_type": "stream",
     "text": [
      "[10, 20, 'false', 'haii']\n"
     ]
    }
   ],
   "source": [
    "#WAS to modify the new value into the middle of given list\n",
    "l=[10,20,'true','haii']\n",
    "l[len(l)//2]='false'\n",
    "print(l)\n"
   ]
  },
  {
   "cell_type": "code",
   "execution_count": 29,
   "metadata": {},
   "outputs": [
    {
     "name": "stdout",
     "output_type": "stream",
     "text": [
      "[20, 30, 40, 'prasuu', 13, 16]\n"
     ]
    }
   ],
   "source": [
    "#was to modify first 4 positions of given list\n",
    "l=[10,20,'true','haii',13,16]\n",
    "l[0:4]=[20,30,40,'prasuu']\n",
    "print(l) "
   ]
  },
  {
   "cell_type": "code",
   "execution_count": 30,
   "metadata": {},
   "outputs": [
    {
     "name": "stdout",
     "output_type": "stream",
     "text": [
      "[1, 'a', 3, 'b', 5, 'c', 7, 'd', 9]\n"
     ]
    }
   ],
   "source": [
    "#was to modify the sequence of values in given list\n",
    "h=[1,2,3,4,5,6,7,8,9]\n",
    "h[1::2]=['a','b','c','d']\n",
    "print(h)\n",
    "\n"
   ]
  },
  {
   "cell_type": "code",
   "execution_count": 31,
   "metadata": {},
   "outputs": [
    {
     "name": "stdout",
     "output_type": "stream",
     "text": [
      "[1, 2, 3, 4, 6]\n"
     ]
    }
   ],
   "source": [
    "#WAS to delete the value in specific position of given list\n",
    "h=[1,2,3,4,5,6]\n",
    "del h[4]\n",
    "print(h)"
   ]
  },
  {
   "cell_type": "code",
   "execution_count": 32,
   "metadata": {},
   "outputs": [
    {
     "name": "stdout",
     "output_type": "stream",
     "text": [
      "[1, 2, 3, 4, 5]\n"
     ]
    }
   ],
   "source": [
    "#WAS to delete the value in ending of the list\n",
    "h=[1,2,3,4,5,6]\n",
    "del h[-1]\n",
    "print(h)"
   ]
  },
  {
   "cell_type": "code",
   "execution_count": 33,
   "metadata": {},
   "outputs": [
    {
     "name": "stdout",
     "output_type": "stream",
     "text": [
      "[10, 20, 'true', 13, 16]\n"
     ]
    }
   ],
   "source": [
    "#WAS to delete the value in middle of the list\n",
    "l=[10,20,'true','haii',13,16]\n",
    "del l[len(l)//2]\n",
    "print(l)"
   ]
  },
  {
   "cell_type": "code",
   "execution_count": 34,
   "metadata": {},
   "outputs": [
    {
     "name": "stdout",
     "output_type": "stream",
     "text": [
      "(50, 10, 20, 30, 40)\n"
     ]
    }
   ],
   "source": [
    "#WAS to concate the value into starting of tuple\n",
    "t=(10,20,30,40)\n",
    "t=(50,)+t\n",
    "print(t)"
   ]
  },
  {
   "cell_type": "code",
   "execution_count": 35,
   "metadata": {},
   "outputs": [
    {
     "ename": "TypeError",
     "evalue": "'tuple' object does not support item assignment",
     "output_type": "error",
     "traceback": [
      "\u001b[1;31m---------------------------------------------------------------------------\u001b[0m",
      "\u001b[1;31mTypeError\u001b[0m                                 Traceback (most recent call last)",
      "Cell \u001b[1;32mIn[35], line 3\u001b[0m\n\u001b[0;32m      1\u001b[0m \u001b[39m#WAS to concate the  middle value into starting of tuple\u001b[39;00m\n\u001b[0;32m      2\u001b[0m t\u001b[39m=\u001b[39m(\u001b[39m10\u001b[39m,\u001b[39m20\u001b[39m,\u001b[39m30\u001b[39m,\u001b[39m40\u001b[39m)\n\u001b[1;32m----> 3\u001b[0m t[\u001b[39mlen\u001b[39;49m(t)\u001b[39m/\u001b[39;49m\u001b[39m/\u001b[39;49m\u001b[39m2\u001b[39;49m]\u001b[39m=\u001b[39m(\u001b[39m5\u001b[39m,\u001b[39m6\u001b[39m)\n",
      "\u001b[1;31mTypeError\u001b[0m: 'tuple' object does not support item assignment"
     ]
    }
   ],
   "source": [
    "#WAS to concate the  middle value into starting of tuple\n",
    "t=(10,20,30,40)\n",
    "t[len(t)//2]=(5,6)"
   ]
  },
  {
   "cell_type": "code",
   "execution_count": null,
   "metadata": {},
   "outputs": [
    {
     "name": "stdout",
     "output_type": "stream",
     "text": [
      "(10, 20, 30, 40, 50)\n"
     ]
    }
   ],
   "source": [
    "#WAS to concate the value into ending of tuple\n",
    "t=(10,20,30,40)\n",
    "t=t+(50,)\n",
    "print(t)"
   ]
  },
  {
   "cell_type": "code",
   "execution_count": null,
   "metadata": {},
   "outputs": [
    {
     "name": "stdout",
     "output_type": "stream",
     "text": [
      "(10, 20, 30, 40)\n"
     ]
    }
   ],
   "source": [
    "#was to modify sequence of values in given tupule\n",
    "t=(10,20,30,40)\n",
    "t[2:1]\n",
    "print(t)"
   ]
  },
  {
   "cell_type": "code",
   "execution_count": null,
   "metadata": {},
   "outputs": [
    {
     "ename": "TypeError",
     "evalue": "'tuple' object does not support item deletion",
     "output_type": "error",
     "traceback": [
      "\u001b[1;31m---------------------------------------------------------------------------\u001b[0m",
      "\u001b[1;31mTypeError\u001b[0m                                 Traceback (most recent call last)",
      "Cell \u001b[1;32mIn[252], line 3\u001b[0m\n\u001b[0;32m      1\u001b[0m \u001b[39m# was to delete sequence of values in given tuple\u001b[39;00m\n\u001b[0;32m      2\u001b[0m t\u001b[39m=\u001b[39m(\u001b[39m10\u001b[39m,\u001b[39m20\u001b[39m,\u001b[39m30\u001b[39m,\u001b[39m40\u001b[39m)\n\u001b[1;32m----> 3\u001b[0m \u001b[39mdel\u001b[39;00m t[\u001b[39m-\u001b[39;49m\u001b[39m2\u001b[39;49m:\u001b[39m-\u001b[39;49m\u001b[39m1\u001b[39;49m]\n",
      "\u001b[1;31mTypeError\u001b[0m: 'tuple' object does not support item deletion"
     ]
    }
   ],
   "source": [
    "# was to delete sequence of values in given tuple\n",
    "t=(10,20,30,40)\n",
    "del t[-2:-1]"
   ]
  },
  {
   "cell_type": "code",
   "execution_count": null,
   "metadata": {},
   "outputs": [
    {
     "ename": "TypeError",
     "evalue": "unsupported operand type(s) for /=: 'set' and 'set'",
     "output_type": "error",
     "traceback": [
      "\u001b[1;31m---------------------------------------------------------------------------\u001b[0m",
      "\u001b[1;31mTypeError\u001b[0m                                 Traceback (most recent call last)",
      "Cell \u001b[1;32mIn[76], line 3\u001b[0m\n\u001b[0;32m      1\u001b[0m \u001b[39m#was to concate new value into set\u001b[39;00m\n\u001b[0;32m      2\u001b[0m s\u001b[39m=\u001b[39m{\u001b[39m1\u001b[39m,\u001b[39m2\u001b[39m,\u001b[39m3\u001b[39m}\n\u001b[1;32m----> 3\u001b[0m s\u001b[39m/\u001b[39;49m\u001b[39m=\u001b[39;49m{\u001b[39m10\u001b[39;49m,\u001b[39m20\u001b[39;49m,\u001b[39m30\u001b[39;49m}\n\u001b[0;32m      4\u001b[0m \u001b[39mprint\u001b[39m(s)\n",
      "\u001b[1;31mTypeError\u001b[0m: unsupported operand type(s) for /=: 'set' and 'set'"
     ]
    }
   ],
   "source": [
    "#was to concate new value into set\n",
    "s={1,2,3}\n",
    "s/={10,20,30}\n",
    "print(s)\n"
   ]
  },
  {
   "cell_type": "code",
   "execution_count": null,
   "metadata": {},
   "outputs": [
    {
     "name": "stdout",
     "output_type": "stream",
     "text": [
      "{1, 2, 3, 7}\n"
     ]
    }
   ],
   "source": [
    "#was to delete specific value from the set\n",
    "s={1,2,3,4,5,6,7}\n",
    "s=s-{4,5,6}\n",
    "print(s)\n"
   ]
  },
  {
   "cell_type": "code",
   "execution_count": null,
   "metadata": {},
   "outputs": [
    {
     "name": "stdout",
     "output_type": "stream",
     "text": [
      "{'a': 50, 'b': 100}\n"
     ]
    }
   ],
   "source": [
    "#WAS to concate new key and value into the dictionary\n",
    "d={'a':50}\n",
    "d['b']=100\n",
    "print(d)\n"
   ]
  },
  {
   "cell_type": "code",
   "execution_count": null,
   "metadata": {},
   "outputs": [
    {
     "name": "stdout",
     "output_type": "stream",
     "text": [
      "{'a': 50}\n"
     ]
    }
   ],
   "source": [
    "#was to delete the specific key and value in given dict\n",
    "d={'a': 50, 'b': 100}\n",
    "del d['b']\n",
    "print(d)"
   ]
  },
  {
   "cell_type": "code",
   "execution_count": null,
   "metadata": {},
   "outputs": [
    {
     "name": "stdout",
     "output_type": "stream",
     "text": [
      "{'a': 50, 'b': 100, 'c': 'haii'}\n"
     ]
    }
   ],
   "source": [
    "#was to modify the specific  value in given dict\n",
    "d={'a': 50, 'b': 100,'c':150}\n",
    "d['c']='haii'\n",
    "print(d)"
   ]
  },
  {
   "cell_type": "code",
   "execution_count": null,
   "metadata": {},
   "outputs": [
    {
     "name": "stdout",
     "output_type": "stream",
     "text": [
      "['hyy', 'bye', 10, 20, 30]\n"
     ]
    }
   ],
   "source": [
    "#was to concate the list and tupule values by without type casting\n",
    "l=['hyy','bye']\n",
    "t=(10,20,30)\n",
    "l+=t\n",
    "print(l)"
   ]
  },
  {
   "cell_type": "code",
   "execution_count": null,
   "metadata": {},
   "outputs": [
    {
     "data": {
      "text/plain": [
       "['hyy', 'bye', 10, 20, 30]"
      ]
     },
     "execution_count": 49,
     "metadata": {},
     "output_type": "execute_result"
    }
   ],
   "source": [
    "#was to concate the list and tupule values by with type casting\n",
    "l=['hyy','bye']\n",
    "t=(10,20,30)\n",
    "l+list(t)\n"
   ]
  },
  {
   "cell_type": "code",
   "execution_count": null,
   "metadata": {},
   "outputs": [
    {
     "name": "stdout",
     "output_type": "stream",
     "text": [
      "True\n"
     ]
    }
   ],
   "source": [
    "#WAE to check the given number is divisible by 3\n",
    "n=36\n",
    "print(n%3==0)"
   ]
  },
  {
   "cell_type": "code",
   "execution_count": null,
   "metadata": {},
   "outputs": [
    {
     "name": "stdout",
     "output_type": "stream",
     "text": [
      "True\n"
     ]
    }
   ],
   "source": [
    "#WAE to check the given number is divisible by 2 and 6\n",
    "n=60\n",
    "print(n%2==0 and n%6==0)"
   ]
  },
  {
   "cell_type": "code",
   "execution_count": null,
   "metadata": {},
   "outputs": [
    {
     "name": "stdout",
     "output_type": "stream",
     "text": [
      "True\n"
     ]
    }
   ],
   "source": [
    "#WAE to check the last digit is divisible by 3\n",
    "n=996\n",
    "print(((n%10)%3)==0)"
   ]
  },
  {
   "cell_type": "code",
   "execution_count": null,
   "metadata": {},
   "outputs": [
    {
     "name": "stdout",
     "output_type": "stream",
     "text": [
      "7\n",
      "97\n",
      "997\n"
     ]
    }
   ],
   "source": [
    "#wae to extract last digit of integer\n",
    "n=1997\n",
    "print(n%10)\n",
    "print(n%100)\n",
    "print(n%1000)\n",
    "\n"
   ]
  },
  {
   "cell_type": "code",
   "execution_count": null,
   "metadata": {},
   "outputs": [
    {
     "name": "stdout",
     "output_type": "stream",
     "text": [
      "True\n"
     ]
    }
   ],
   "source": [
    "#wae to check the last digit is divisible by 3 from given integer\n",
    "n=3039\n",
    "print(int(str(n)[-1])%3==0)"
   ]
  },
  {
   "cell_type": "code",
   "execution_count": null,
   "metadata": {},
   "outputs": [
    {
     "name": "stdout",
     "output_type": "stream",
     "text": [
      "False\n"
     ]
    }
   ],
   "source": [
    "#wae to check the given number is greater than 150\n",
    "n=145\n",
    "print(n>150)"
   ]
  },
  {
   "cell_type": "code",
   "execution_count": null,
   "metadata": {},
   "outputs": [
    {
     "name": "stdout",
     "output_type": "stream",
     "text": [
      "True\n"
     ]
    }
   ],
   "source": [
    "#wae to check the given number is greater than or  equal to 100\n",
    "n=110\n",
    "print(n>=100)"
   ]
  },
  {
   "cell_type": "code",
   "execution_count": null,
   "metadata": {},
   "outputs": [
    {
     "name": "stdout",
     "output_type": "stream",
     "text": [
      "True\n"
     ]
    }
   ],
   "source": [
    "#wae to check the given number is less than 150.print the result\n",
    "n=147\n",
    "print(n<150)"
   ]
  },
  {
   "cell_type": "code",
   "execution_count": null,
   "metadata": {},
   "outputs": [
    {
     "name": "stdout",
     "output_type": "stream",
     "text": [
      "True\n"
     ]
    }
   ],
   "source": [
    "#wae to check the given number is greater than 15 and less than 24\n",
    "n=20\n",
    "print(n>15  and n<24)"
   ]
  },
  {
   "cell_type": "code",
   "execution_count": null,
   "metadata": {},
   "outputs": [
    {
     "name": "stdout",
     "output_type": "stream",
     "text": [
      "True\n"
     ]
    }
   ],
   "source": [
    "#wae to check given no. is even\n",
    "n=16\n",
    "print(n%2==0)"
   ]
  },
  {
   "cell_type": "code",
   "execution_count": null,
   "metadata": {},
   "outputs": [
    {
     "name": "stdout",
     "output_type": "stream",
     "text": [
      "True\n"
     ]
    }
   ],
   "source": [
    "#wae to check given no. is odd\n",
    "n=19\n",
    "print(n%2!=0)"
   ]
  },
  {
   "cell_type": "code",
   "execution_count": null,
   "metadata": {},
   "outputs": [
    {
     "name": "stdout",
     "output_type": "stream",
     "text": [
      "True\n"
     ]
    }
   ],
   "source": [
    "#wae to check the given no is less than or equal to 100\n",
    "n=100\n",
    "print(n<=100)"
   ]
  },
  {
   "cell_type": "code",
   "execution_count": null,
   "metadata": {},
   "outputs": [
    {
     "name": "stdout",
     "output_type": "stream",
     "text": [
      "abdabdabdabdabdabd\n",
      "[10, 20, 10, 20, 10, 20, 10, 20, 10, 20, 10, 20]\n"
     ]
    }
   ],
   "source": [
    "#WAE to perform the replication of given string with 6\n",
    "s='abd'\n",
    "print(s*6)\n",
    "s=[10,20]\n",
    "print(s*6)"
   ]
  },
  {
   "cell_type": "code",
   "execution_count": null,
   "metadata": {},
   "outputs": [
    {
     "name": "stdout",
     "output_type": "stream",
     "text": [
      "True\n"
     ]
    }
   ],
   "source": [
    "#wae to check the given number is divisble by 3 and also greate than 22\n",
    "n=36\n",
    "print(n%3==0 and n>22)"
   ]
  },
  {
   "cell_type": "code",
   "execution_count": null,
   "metadata": {},
   "outputs": [
    {
     "data": {
      "text/plain": [
       "True"
      ]
     },
     "execution_count": 75,
     "metadata": {},
     "output_type": "execute_result"
    }
   ],
   "source": [
    "#wae to check length of collection is even or not\n",
    "m='prasanna'\n",
    "(len(m)%2==0)"
   ]
  },
  {
   "cell_type": "code",
   "execution_count": null,
   "metadata": {},
   "outputs": [
    {
     "name": "stdout",
     "output_type": "stream",
     "text": [
      "True\n"
     ]
    }
   ],
   "source": [
    "#wae to check length of collection is less than 55 or greater than 16\n",
    "m='laxmiprasannaprasuuuu'\n",
    "print(16<len(m)<55)"
   ]
  },
  {
   "cell_type": "code",
   "execution_count": null,
   "metadata": {},
   "outputs": [
    {
     "data": {
      "text/plain": [
       "False"
      ]
     },
     "execution_count": 78,
     "metadata": {},
     "output_type": "execute_result"
    }
   ],
   "source": [
    "#wae to check length of collection is divisible by 5 and odd\n",
    "m='hyeebyehlo'\n",
    "(len(m)%5==0 and len(m)%2!=0)"
   ]
  },
  {
   "cell_type": "code",
   "execution_count": null,
   "metadata": {},
   "outputs": [
    {
     "name": "stdout",
     "output_type": "stream",
     "text": [
      "[2]\n",
      "True\n",
      "[2]\n",
      "True\n",
      "[1]\n",
      "True\n"
     ]
    }
   ],
   "source": [
    "#wae to extract middle position of given collection either string ,list,tupule\n",
    "s='hey!'\n",
    "print([len(s)//2])\n",
    "res=type([len(s)//2])\n",
    "print(res==str or res==tuple or res==list)\n",
    "s=[10,20,30,40,50]\n",
    "print([len(s)//2])\n",
    "res=type([len(s)//2])\n",
    "print(res==str or res==tuple or res==list)\n",
    "s={10:20,30:40,50:60}\n",
    "print([len(s)//2])\n",
    "res=type([len(s)//2])\n",
    "print(res==str or res==tuple or res==list)"
   ]
  },
  {
   "cell_type": "code",
   "execution_count": null,
   "metadata": {},
   "outputs": [
    {
     "name": "stdout",
     "output_type": "stream",
     "text": [
      "True\n"
     ]
    }
   ],
   "source": [
    "#wae to check the given no. is odd and greater than 97\n",
    "n=111\n",
    "print(n>97 and n%2!=0)"
   ]
  },
  {
   "cell_type": "code",
   "execution_count": null,
   "metadata": {},
   "outputs": [
    {
     "name": "stdout",
     "output_type": "stream",
     "text": [
      "True\n"
     ]
    }
   ],
   "source": [
    "#wae to check given number is greater than 20 and less than 30 and it should be even\n",
    "n=28\n",
    "print(20<n<30 and n%2==0)"
   ]
  },
  {
   "cell_type": "code",
   "execution_count": null,
   "metadata": {},
   "outputs": [
    {
     "name": "stdout",
     "output_type": "stream",
     "text": [
      "False\n",
      "True\n"
     ]
    }
   ],
   "source": [
    "#wae to check given no. is even and it should be less than 120\n",
    "n=136\n",
    "print(n%2==0 and n<120)\n",
    "print(n%2==0 or n<120)\n"
   ]
  },
  {
   "cell_type": "code",
   "execution_count": null,
   "metadata": {},
   "outputs": [
    {
     "name": "stdout",
     "output_type": "stream",
     "text": [
      "True\n"
     ]
    }
   ],
   "source": [
    "#wae to check given no. is less than 122 and greater than 48 and no.should be divisible by 4\n",
    "n=96\n",
    "print(48<n<122 and n%4==0)"
   ]
  },
  {
   "cell_type": "code",
   "execution_count": null,
   "metadata": {},
   "outputs": [
    {
     "name": "stdout",
     "output_type": "stream",
     "text": [
      "True\n"
     ]
    }
   ],
   "source": [
    "#wae to check the given no. is divisible by 3 or 5,display the value\n",
    "n=150\n",
    "print(n%3==0 or n%5==0)"
   ]
  },
  {
   "cell_type": "code",
   "execution_count": null,
   "metadata": {},
   "outputs": [
    {
     "name": "stdout",
     "output_type": "stream",
     "text": [
      "True\n"
     ]
    }
   ],
   "source": [
    "#wae to checkn the given no is between 100 to 200 including the limit\n",
    "n=150\n",
    "print(100<=n<=200)"
   ]
  },
  {
   "cell_type": "code",
   "execution_count": null,
   "metadata": {},
   "outputs": [
    {
     "name": "stdout",
     "output_type": "stream",
     "text": [
      "False\n"
     ]
    }
   ],
   "source": [
    "#wae to checkn the given no is in between 100 to 200 \n",
    "n=269\n",
    "print(100<n<200)"
   ]
  },
  {
   "cell_type": "code",
   "execution_count": null,
   "metadata": {},
   "outputs": [
    {
     "name": "stdout",
     "output_type": "stream",
     "text": [
      "False\n"
     ]
    }
   ],
   "source": [
    "#WAE to check the given string last character  ascii value and should be divisible by 5 or not\n",
    "s='purple'\n",
    "print(ord (s[-1])%5==0) # ord is built in function to fetch ascii value\n",
    "\n"
   ]
  },
  {
   "cell_type": "code",
   "execution_count": null,
   "metadata": {},
   "outputs": [
    {
     "name": "stdout",
     "output_type": "stream",
     "text": [
      "False\n"
     ]
    }
   ],
   "source": [
    "#wae to check the given number is present in between 60 to 130 and the number should be divisible by 3 and 4 and last digit sgould be greater than 9\n",
    "n=126\n",
    "print(60<n<130 and n%3==0 and n%4==0 and n%10>9)"
   ]
  },
  {
   "cell_type": "code",
   "execution_count": null,
   "metadata": {},
   "outputs": [
    {
     "name": "stdout",
     "output_type": "stream",
     "text": [
      "True\n"
     ]
    }
   ],
   "source": [
    "#WAE to check the given no is even or less than 25\n",
    "n=24\n",
    "print(n%2==0  or n<25)"
   ]
  },
  {
   "cell_type": "code",
   "execution_count": null,
   "metadata": {},
   "outputs": [
    {
     "name": "stdout",
     "output_type": "stream",
     "text": [
      "True\n"
     ]
    }
   ],
   "source": [
    "#WAE to check the given no is even or greater than 25\n",
    "n=26\n",
    "print(n%2==0  or n>25)"
   ]
  },
  {
   "cell_type": "code",
   "execution_count": null,
   "metadata": {},
   "outputs": [
    {
     "name": "stdout",
     "output_type": "stream",
     "text": [
      "True\n"
     ]
    }
   ],
   "source": [
    "#WAE to check the given no is divisible by either3 or 5\n",
    "n=45\n",
    "print(n%3==0 or n%5==0)"
   ]
  },
  {
   "cell_type": "code",
   "execution_count": null,
   "metadata": {},
   "outputs": [
    {
     "name": "stdout",
     "output_type": "stream",
     "text": [
      "True\n"
     ]
    }
   ],
   "source": [
    "#WAE to check the given no. is not an even number\n",
    "n=67\n",
    "print(n%2!=0)\n"
   ]
  },
  {
   "cell_type": "code",
   "execution_count": null,
   "metadata": {},
   "outputs": [
    {
     "name": "stdout",
     "output_type": "stream",
     "text": [
      "True\n"
     ]
    }
   ],
   "source": [
    "#WAE to check the given no. is not an odd number\n",
    "n=26\n",
    "print(n%2==0)\n",
    "\n"
   ]
  },
  {
   "cell_type": "code",
   "execution_count": null,
   "metadata": {},
   "outputs": [
    {
     "name": "stdout",
     "output_type": "stream",
     "text": [
      "True\n"
     ]
    }
   ],
   "source": [
    "#WAE to check the given no is not divisible by 3\n",
    "n=19\n",
    "print(n%3!=0)"
   ]
  },
  {
   "cell_type": "code",
   "execution_count": null,
   "metadata": {},
   "outputs": [
    {
     "name": "stdout",
     "output_type": "stream",
     "text": [
      "True\n"
     ]
    }
   ],
   "source": [
    "#WAE to check the given no is not divisible by 3 and 5\n",
    "n=35\n",
    "print(n%3!=0 or n%5!=0)"
   ]
  },
  {
   "cell_type": "code",
   "execution_count": null,
   "metadata": {},
   "outputs": [
    {
     "name": "stdout",
     "output_type": "stream",
     "text": [
      "True\n"
     ]
    }
   ],
   "source": [
    "#WAE to check the given character ascii value is not divisible by 5\n",
    "ch='r'\n",
    "print(ord(ch)%5!=5)"
   ]
  },
  {
   "cell_type": "code",
   "execution_count": null,
   "metadata": {},
   "outputs": [
    {
     "name": "stdout",
     "output_type": "stream",
     "text": [
      "\u0013\n",
      "A\n"
     ]
    }
   ],
   "source": [
    " #WAE to find out ascii character in a given number\n",
    "n=19\n",
    "print(chr(n))\n",
    "n=65\n",
    "print(chr(n))\n"
   ]
  },
  {
   "cell_type": "code",
   "execution_count": null,
   "metadata": {},
   "outputs": [
    {
     "name": "stdout",
     "output_type": "stream",
     "text": [
      "104\n"
     ]
    }
   ],
   "source": [
    " #WAE to find out ascii value in a given number\n",
    "ch='h'\n",
    "print(ord(ch))"
   ]
  },
  {
   "cell_type": "code",
   "execution_count": null,
   "metadata": {},
   "outputs": [
    {
     "name": "stdout",
     "output_type": "stream",
     "text": [
      "True\n",
      "True\n",
      "True\n",
      "False\n"
     ]
    }
   ],
   "source": [
    "#WAE to check the given character is uppercase or not\n",
    "ch='M'\n",
    "print('A'<=ch<='Z')\n",
    "print(len(ch)==1 and 'A'<=ch<='Z')\n",
    "ch='Gh'\n",
    "print('A'<=ch<='Z')\n",
    "print(len(ch)==1 and 'A'<=ch<='Z')\n",
    "\n"
   ]
  },
  {
   "cell_type": "code",
   "execution_count": null,
   "metadata": {},
   "outputs": [
    {
     "name": "stdout",
     "output_type": "stream",
     "text": [
      "True\n",
      "True\n"
     ]
    }
   ],
   "source": [
    "#WAE to check the given character is alphabet \n",
    "ch='Z'\n",
    "print('A'<=ch<='Z' or 'a'<=ch<='b')\n",
    "print(len(ch)==1 or 'a'<=ch<='z')"
   ]
  },
  {
   "cell_type": "code",
   "execution_count": null,
   "metadata": {},
   "outputs": [
    {
     "name": "stdout",
     "output_type": "stream",
     "text": [
      "True\n"
     ]
    }
   ],
   "source": [
    "#wae to check the given character is lower case or not\n",
    "ch='e'\n",
    "print('a'<=ch<='z')"
   ]
  },
  {
   "cell_type": "code",
   "execution_count": null,
   "metadata": {},
   "outputs": [
    {
     "name": "stdout",
     "output_type": "stream",
     "text": [
      "True\n"
     ]
    }
   ],
   "source": [
    "#WAE to check the given character is an ascii number\n",
    "ch=9\n",
    "print(0<=ch<=9)"
   ]
  },
  {
   "cell_type": "code",
   "execution_count": null,
   "metadata": {},
   "outputs": [
    {
     "name": "stdout",
     "output_type": "stream",
     "text": [
      "True\n"
     ]
    }
   ],
   "source": [
    "#WAE to check given character is special character\n",
    "ch='@'\n",
    "print(not('A'<=ch<='Z' or 'a'<=ch<='b'or '0'<=ch<='9'))"
   ]
  },
  {
   "cell_type": "code",
   "execution_count": null,
   "metadata": {},
   "outputs": [
    {
     "name": "stdout",
     "output_type": "stream",
     "text": [
      "True\n"
     ]
    }
   ],
   "source": [
    "#WAE to  check the given character should not be uppercase \n",
    "ch='g'\n",
    "print(not('A'<=ch<='Z'))\n",
    " "
   ]
  },
  {
   "cell_type": "code",
   "execution_count": null,
   "metadata": {},
   "outputs": [
    {
     "name": "stdout",
     "output_type": "stream",
     "text": [
      "True\n"
     ]
    }
   ],
   "source": [
    "#WAE to  check the given character should not be lowercase\n",
    "ch='G'\n",
    "print(not('a'<=ch<='z'))"
   ]
  },
  {
   "cell_type": "code",
   "execution_count": null,
   "metadata": {},
   "outputs": [
    {
     "name": "stdout",
     "output_type": "stream",
     "text": [
      "True\n"
     ]
    }
   ],
   "source": [
    "#WAE to check the given character should not be a alphabet\n",
    "ch='&'\n",
    "print(not('A'<=ch<='Z' or 'a'<=ch<='b'))\n"
   ]
  },
  {
   "cell_type": "code",
   "execution_count": 17,
   "metadata": {},
   "outputs": [
    {
     "name": "stdout",
     "output_type": "stream",
     "text": [
      "True\n"
     ]
    }
   ],
   "source": [
    "#WAE to check the given character should not be a ascii number\n",
    "ch=5\n",
    "print(not(0<=ch<=9))\n"
   ]
  },
  {
   "cell_type": "code",
   "execution_count": null,
   "metadata": {},
   "outputs": [
    {
     "name": "stdout",
     "output_type": "stream",
     "text": [
      "False\n"
     ]
    }
   ],
   "source": [
    "#WAE to check given character should not be a spcl character\n",
    "ch='@'\n",
    "print('A'<=ch<='Z' or 'a'<=ch<='b'or '0'<=ch<='9')\n",
    "\n"
   ]
  },
  {
   "cell_type": "code",
   "execution_count": null,
   "metadata": {},
   "outputs": [
    {
     "data": {
      "text/plain": [
       "True"
      ]
     },
     "execution_count": 73,
     "metadata": {},
     "output_type": "execute_result"
    }
   ],
   "source": [
    "#WAE  to check the given alphabet is vowel\n",
    "ch='e'\n",
    "print(ch in 'aeiouAEIOU') "
   ]
  },
  {
   "cell_type": "code",
   "execution_count": null,
   "metadata": {},
   "outputs": [
    {
     "name": "stdout",
     "output_type": "stream",
     "text": [
      "True\n"
     ]
    }
   ],
   "source": [
    "#WAE  to check the given alphabet is consonant\n",
    "ch='B'\n",
    "print(ch not in 'aeiouAEIOU')"
   ]
  },
  {
   "cell_type": "code",
   "execution_count": null,
   "metadata": {},
   "outputs": [
    {
     "name": "stdout",
     "output_type": "stream",
     "text": [
      "97\n"
     ]
    },
    {
     "data": {
      "text/plain": [
       "'a'"
      ]
     },
     "execution_count": 3,
     "metadata": {},
     "output_type": "execute_result"
    }
   ],
   "source": [
    "#WAS to convert uppercase to lowercase in given character\n",
    "ch='A'\n",
    "print(ord(ch)+32)\n",
    "chr(97)"
   ]
  },
  {
   "cell_type": "code",
   "execution_count": null,
   "metadata": {},
   "outputs": [
    {
     "name": "stdout",
     "output_type": "stream",
     "text": [
      "65\n"
     ]
    }
   ],
   "source": [
    "#WAS to convert lowercase to uppercase in given character\n",
    "ch='b'\n",
    "print(ord(ch)-33)"
   ]
  },
  {
   "cell_type": "code",
   "execution_count": null,
   "metadata": {},
   "outputs": [
    {
     "name": "stdout",
     "output_type": "stream",
     "text": [
      "97\n"
     ]
    }
   ],
   "source": [
    "#WAS to extract the previous character in the given charcter\n",
    "ch='b'\n",
    "print(ord(ch)-1)"
   ]
  },
  {
   "cell_type": "code",
   "execution_count": null,
   "metadata": {},
   "outputs": [
    {
     "name": "stdout",
     "output_type": "stream",
     "text": [
      "99\n"
     ]
    }
   ],
   "source": [
    "#WAS to extract the next character in the given charcter\n",
    "ch='b'\n",
    "print(ord(ch)+1)"
   ]
  },
  {
   "cell_type": "code",
   "execution_count": null,
   "metadata": {},
   "outputs": [
    {
     "name": "stdout",
     "output_type": "stream",
     "text": [
      "True\n"
     ]
    }
   ],
   "source": [
    "#WAE to check the given charcter is converted to ascii value and value is even as well as character should be lowercase\n",
    "ch='h'\n",
    "print(len(ch)==1 and ord(ch)%2==0 and 'a'<=ch<='z')\n"
   ]
  },
  {
   "cell_type": "code",
   "execution_count": null,
   "metadata": {},
   "outputs": [
    {
     "name": "stdout",
     "output_type": "stream",
     "text": [
      "False\n"
     ]
    }
   ],
   "source": [
    "#WAE to check the given character is converted to ascii and value is odd as well as character should be uppercase\n",
    "ch='H'\n",
    "print(len(ch)==1 and ord(ch)%2==0 and 'a'<=ch<='z')\n"
   ]
  },
  {
   "cell_type": "code",
   "execution_count": null,
   "metadata": {},
   "outputs": [
    {
     "name": "stdout",
     "output_type": "stream",
     "text": [
      "True\n"
     ]
    }
   ],
   "source": [
    "#WAE to check the given number is converted to character and not a special symbol or not\n",
    "n=66\n",
    "print('A'<=chr(n)<='Z' or 'a'<=chr(n)<='b'or '0'<=chr(n)<='9')\n"
   ]
  },
  {
   "cell_type": "code",
   "execution_count": null,
   "metadata": {},
   "outputs": [
    {
     "name": "stdout",
     "output_type": "stream",
     "text": [
      "False\n"
     ]
    }
   ],
   "source": [
    "#WAE to check the given number of the ascii character is vowel\n",
    "n=99\n",
    "print(chr(n)  in 'aeiouAEIOU')\n"
   ]
  },
  {
   "cell_type": "code",
   "execution_count": null,
   "metadata": {},
   "outputs": [
    {
     "name": "stdout",
     "output_type": "stream",
     "text": [
      "True\n"
     ]
    }
   ],
   "source": [
    "# WAE to check if the 1st and 2nd character are sequence or not in a given string\n",
    "s='BCDA'\n",
    "print(ord(str(0))+1==ord(str(1)))"
   ]
  },
  {
   "cell_type": "code",
   "execution_count": null,
   "metadata": {},
   "outputs": [
    {
     "name": "stdout",
     "output_type": "stream",
     "text": [
      "True\n"
     ]
    }
   ],
   "source": [
    "#WAE to check given character ascii value should be greater thn 50 or greater than 25 or less than 122\n",
    "ch='p'\n",
    "print(25<=ord(ch)<=122)"
   ]
  },
  {
   "cell_type": "code",
   "execution_count": null,
   "metadata": {},
   "outputs": [
    {
     "name": "stdout",
     "output_type": "stream",
     "text": [
      "17\n"
     ]
    }
   ],
   "source": [
    "#WAE to the given number is increased by 1\n",
    "n=16\n",
    "n+=1\n",
    "print(n) "
   ]
  },
  {
   "cell_type": "code",
   "execution_count": null,
   "metadata": {},
   "outputs": [
    {
     "name": "stdout",
     "output_type": "stream",
     "text": [
      "18\n"
     ]
    }
   ],
   "source": [
    "#WAE to the given number is increased by 2\n",
    "n=16\n",
    "n+=2\n",
    "print(n)"
   ]
  },
  {
   "cell_type": "code",
   "execution_count": null,
   "metadata": {},
   "outputs": [
    {
     "name": "stdout",
     "output_type": "stream",
     "text": [
      "1924\n"
     ]
    }
   ],
   "source": [
    "#WAE to the given number is decreased by 1\n",
    "n=1925\n",
    "n-=1\n",
    "print(n)"
   ]
  },
  {
   "cell_type": "code",
   "execution_count": null,
   "metadata": {},
   "outputs": [
    {
     "name": "stdout",
     "output_type": "stream",
     "text": [
      "1922\n"
     ]
    }
   ],
   "source": [
    "#WAE to the given number is decreased by 3\n",
    "n=1925\n",
    "n-=3\n",
    "print(n)"
   ]
  },
  {
   "cell_type": "code",
   "execution_count": null,
   "metadata": {},
   "outputs": [
    {
     "name": "stdout",
     "output_type": "stream",
     "text": [
      "True\n"
     ]
    }
   ],
   "source": [
    "#WAE to check the given integer is prest in collection \n",
    "n=50\n",
    "coll=[10,20,30,40,50]\n",
    "print(n in coll)"
   ]
  },
  {
   "cell_type": "code",
   "execution_count": null,
   "metadata": {},
   "outputs": [
    {
     "name": "stdout",
     "output_type": "stream",
     "text": [
      "35\n"
     ]
    }
   ],
   "source": [
    "#WAE Tto perform the add operation on a value and b value and final result is updated to A\n",
    "a,b=16,19\n",
    "A=a+b\n",
    "print(A)"
   ]
  },
  {
   "cell_type": "code",
   "execution_count": null,
   "metadata": {},
   "outputs": [
    {
     "name": "stdout",
     "output_type": "stream",
     "text": [
      "True\n"
     ]
    }
   ],
   "source": [
    "#WAE to check given value is in collection\n",
    "st='r'\n",
    "coll='prasu'\n",
    "print(st in coll)"
   ]
  },
  {
   "cell_type": "code",
   "execution_count": null,
   "metadata": {},
   "outputs": [
    {
     "name": "stdout",
     "output_type": "stream",
     "text": [
      "True\n"
     ]
    }
   ],
   "source": [
    "#WAE to check the given list is present in list\n",
    "l=['hlo',10]\n",
    "coll=[10,20,30,['hlo',10]]\n",
    "print(l in coll)\n"
   ]
  },
  {
   "cell_type": "code",
   "execution_count": null,
   "metadata": {},
   "outputs": [
    {
     "name": "stdout",
     "output_type": "stream",
     "text": [
      "False\n"
     ]
    }
   ],
   "source": [
    "#WAE to check the given dict value is present in tuple\n",
    "d={'a':10,'b':20}\n",
    "t=(10,20,)\n",
    "print(d in t)"
   ]
  },
  {
   "cell_type": "code",
   "execution_count": null,
   "metadata": {},
   "outputs": [
    {
     "name": "stdout",
     "output_type": "stream",
     "text": [
      "True\n"
     ]
    }
   ],
   "source": [
    "#WAE to check the given value is integer or not\n",
    "p=25\n",
    "print(type(p)==int)"
   ]
  },
  {
   "cell_type": "code",
   "execution_count": null,
   "metadata": {},
   "outputs": [
    {
     "name": "stdout",
     "output_type": "stream",
     "text": [
      "True\n"
     ]
    }
   ],
   "source": [
    "#WAE to check the given value is string or not\n",
    "st='prasuuu'\n",
    "print(type(st)==str)\n"
   ]
  },
  {
   "cell_type": "code",
   "execution_count": null,
   "metadata": {},
   "outputs": [
    {
     "name": "stdout",
     "output_type": "stream",
     "text": [
      "True\n"
     ]
    }
   ],
   "source": [
    "#WAE to check  given value is single value or not\n",
    "c='none'\n",
    "print(type(c) in [int,float,bool,complex,bytes,type('none')])"
   ]
  },
  {
   "cell_type": "code",
   "execution_count": null,
   "metadata": {},
   "outputs": [
    {
     "data": {
      "text/plain": [
       "True"
      ]
     },
     "execution_count": 22,
     "metadata": {},
     "output_type": "execute_result"
    }
   ],
   "source": [
    "#WAE to check  given value is not a single value \n",
    "c=[10,20]\n",
    "type(c) not in [int,float,bool,complex,bytes]"
   ]
  },
  {
   "cell_type": "code",
   "execution_count": null,
   "metadata": {},
   "outputs": [
    {
     "data": {
      "text/plain": [
       "True"
      ]
     },
     "execution_count": 23,
     "metadata": {},
     "output_type": "execute_result"
    }
   ],
   "source": [
    "#wae to check given value is multi value or not\n",
    "c='pyspiders'\n",
    "type(c) in [list,tuple,str,dict,set]\n"
   ]
  },
  {
   "cell_type": "code",
   "execution_count": null,
   "metadata": {},
   "outputs": [
    {
     "data": {
      "text/plain": [
       "False"
      ]
     },
     "execution_count": 24,
     "metadata": {},
     "output_type": "execute_result"
    }
   ],
   "source": [
    "#wae to check given value is mutable value or not\n",
    "c='pyspiders'\n",
    "type(c) in [list,dict,set]"
   ]
  },
  {
   "cell_type": "code",
   "execution_count": null,
   "metadata": {},
   "outputs": [
    {
     "data": {
      "text/plain": [
       "True"
      ]
     },
     "execution_count": 25,
     "metadata": {},
     "output_type": "execute_result"
    }
   ],
   "source": [
    "#wae to check given value is mutable value or not\n",
    "c='pyspiders'\n",
    "type(c) in [str,set]"
   ]
  },
  {
   "cell_type": "code",
   "execution_count": null,
   "metadata": {},
   "outputs": [
    {
     "name": "stdout",
     "output_type": "stream",
     "text": [
      "True\n"
     ]
    }
   ],
   "source": [
    "#WAE to check if a given value is divisible by 6 as well as the value present in collection or not\n",
    "a=24\n",
    "coll=[12,18,24,36]\n",
    "print(a%6==0) and a in coll"
   ]
  },
  {
   "cell_type": "code",
   "execution_count": null,
   "metadata": {},
   "outputs": [
    {
     "name": "stdout",
     "output_type": "stream",
     "text": [
      "3\n"
     ]
    }
   ],
   "source": [
    "#WAE to perform the bitwise and operation for given values 15 and 19\n",
    "m=15\n",
    "n=19\n",
    "print(m&n)"
   ]
  },
  {
   "cell_type": "code",
   "execution_count": null,
   "metadata": {},
   "outputs": [
    {
     "name": "stdout",
     "output_type": "stream",
     "text": [
      "31\n"
     ]
    }
   ],
   "source": [
    "#WAE to perform the bitwise or operation for given values 115 and 79\n",
    "a=115\n",
    "b=79\n",
    "print(m|n)"
   ]
  },
  {
   "cell_type": "code",
   "execution_count": null,
   "metadata": {},
   "outputs": [
    {
     "name": "stdout",
     "output_type": "stream",
     "text": [
      "46\n"
     ]
    }
   ],
   "source": [
    "#WAE to perform the bitwise XOR operation for given values 56 and 22\n",
    "p=56\n",
    "m=22\n",
    "print(m^p)"
   ]
  },
  {
   "cell_type": "code",
   "execution_count": null,
   "metadata": {},
   "outputs": [
    {
     "name": "stdout",
     "output_type": "stream",
     "text": [
      "-17\n"
     ]
    }
   ],
   "source": [
    "#WAE to perform the bitwise and operation for given values 15\n",
    "n=16\n",
    "print(~n)"
   ]
  },
  {
   "cell_type": "code",
   "execution_count": null,
   "metadata": {},
   "outputs": [
    {
     "name": "stdout",
     "output_type": "stream",
     "text": [
      "6\n"
     ]
    }
   ],
   "source": [
    "#WAE to perform the bitwise right shift with 25and skipping value is 2\n",
    "a=25\n",
    "s=2\n",
    "print(a>>s)"
   ]
  },
  {
   "cell_type": "code",
   "execution_count": null,
   "metadata": {},
   "outputs": [
    {
     "name": "stdout",
     "output_type": "stream",
     "text": [
      "256\n"
     ]
    }
   ],
   "source": [
    "#WAE to perform the bitwise left shift with 32 and skipping value is 3\n",
    "a=32\n",
    "s=3\n",
    "print(a<<s)"
   ]
  },
  {
   "cell_type": "code",
   "execution_count": null,
   "metadata": {},
   "outputs": [
    {
     "name": "stdout",
     "output_type": "stream",
     "text": [
      "1000\n"
     ]
    }
   ],
   "source": [
    "#find the output of given condition\n",
    "w=(10+20*60 and 10**3) or({10,20}or not([15-16]))\n",
    "print(w)"
   ]
  },
  {
   "cell_type": "code",
   "execution_count": null,
   "metadata": {},
   "outputs": [
    {
     "name": "stdout",
     "output_type": "stream",
     "text": [
      "True\n",
      "True\n"
     ]
    }
   ],
   "source": [
    "#wae to check the given key is present in dict\n",
    "d={'a':\"hai\",'b':10,'c':[10,20]}\n",
    "k='c'\n",
    "print(k in d)\n",
    "print (k in d.keys())"
   ]
  },
  {
   "cell_type": "code",
   "execution_count": null,
   "metadata": {},
   "outputs": [
    {
     "name": "stdout",
     "output_type": "stream",
     "text": [
      "True\n"
     ]
    }
   ],
   "source": [
    "#wae to check the given value  is present in dict\n",
    "d={'a':\"hai\",'b':10,'c':[10,20]}\n",
    "k=10\n",
    "print(k in d.values())"
   ]
  },
  {
   "cell_type": "code",
   "execution_count": null,
   "metadata": {},
   "outputs": [
    {
     "name": "stdout",
     "output_type": "stream",
     "text": [
      "True\n"
     ]
    }
   ],
   "source": [
    "#wae to check the given key is not present in dict\n",
    "d={'a':\"hai\",'b':10,'c':[10,20]}\n",
    "k=20\n",
    "print (k not in d.keys())\n"
   ]
  },
  {
   "cell_type": "code",
   "execution_count": null,
   "metadata": {},
   "outputs": [
    {
     "name": "stdout",
     "output_type": "stream",
     "text": [
      "True\n"
     ]
    }
   ],
   "source": [
    "#wae to check the given key and value  pair is present in dict\n",
    "d={'a':\"hai\",'b':10,'c':[10,20]}\n",
    "k=('a',\"hai\")\n",
    "print(k in d.items())\n"
   ]
  },
  {
   "cell_type": "code",
   "execution_count": null,
   "metadata": {},
   "outputs": [
    {
     "name": "stdout",
     "output_type": "stream",
     "text": [
      "False\n"
     ]
    }
   ],
   "source": [
    "#WAE to check the two values are pointing to same adress or not\n",
    "a=15\n",
    "b-15\n",
    "print(a is b)\n"
   ]
  },
  {
   "cell_type": "code",
   "execution_count": null,
   "metadata": {},
   "outputs": [
    {
     "name": "stdout",
     "output_type": "stream",
     "text": [
      "False\n"
     ]
    }
   ],
   "source": [
    "#wae to check both the values should be integer and both the values pointing to the same address\n",
    "a=16\n",
    "b=19\n",
    "print(type(a)==type(b) and (a is b))"
   ]
  },
  {
   "cell_type": "code",
   "execution_count": 71,
   "metadata": {},
   "outputs": [
    {
     "name": "stdout",
     "output_type": "stream",
     "text": [
      "positive\n"
     ]
    }
   ],
   "source": [
    "#WAP to check whether a number is positive. If Positive, print a message Positive\n",
    "n=10\n",
    "if n>0:\n",
    "    print('positive')"
   ]
  },
  {
   "cell_type": "code",
   "execution_count": 94,
   "metadata": {},
   "outputs": [
    {
     "name": "stdout",
     "output_type": "stream",
     "text": [
      "fizz\n"
     ]
    }
   ],
   "source": [
    "#WAP to check whether the given number is divisible by 3 or not if print fizz.\n",
    "n=18\n",
    "if n%3==0:\n",
    "    print('fizz')"
   ]
  },
  {
   "cell_type": "code",
   "execution_count": 95,
   "metadata": {},
   "outputs": [
    {
     "name": "stdout",
     "output_type": "stream",
     "text": [
      "0\n"
     ]
    }
   ],
   "source": [
    "# WAP to check whether tha given i/p is 0 or not .if 0 print 0\n",
    "n=0\n",
    "if n==0:\n",
    "    print(\"0\")"
   ]
  },
  {
   "cell_type": "code",
   "execution_count": 211,
   "metadata": {},
   "outputs": [
    {
     "name": "stdout",
     "output_type": "stream",
     "text": [
      "n is negative\n"
     ]
    }
   ],
   "source": [
    "#WAP to check whether the given no. is negativee .print a message as negative\n",
    "n=-1\n",
    "if n<=0:\n",
    "    print(\"n is negative\")"
   ]
  },
  {
   "cell_type": "code",
   "execution_count": 212,
   "metadata": {},
   "outputs": [
    {
     "name": "stdout",
     "output_type": "stream",
     "text": [
      "hello world\n"
     ]
    }
   ],
   "source": [
    "#WAP TO DISPLAY hello world if number is greater than 1 and less than 5\n",
    "n=2\n",
    "if  1<n<5:\n",
    "    print(\"hello world\")\n"
   ]
  },
  {
   "cell_type": "code",
   "execution_count": 213,
   "metadata": {},
   "outputs": [
    {
     "name": "stdout",
     "output_type": "stream",
     "text": [
      "[30]\n"
     ]
    }
   ],
   "source": [
    "#WAP to check whether a given input is divisible by 3 or 5. If the condition is satisfied, the number is converted to a list.\n",
    "n=30 \n",
    "l=[]\n",
    "if n%3==0 and n%5==0:\n",
    "    l.append(n)\n",
    "    print(str(l))"
   ]
  },
  {
   "cell_type": "code",
   "execution_count": 214,
   "metadata": {},
   "outputs": [
    {
     "name": "stdout",
     "output_type": "stream",
     "text": [
      "35\n"
     ]
    }
   ],
   "source": [
    "#Write a program to check whether a given number is multiple of 5 or not\n",
    "m=35\n",
    "if m%5==0:\n",
    "    print(m)"
   ]
  },
  {
   "cell_type": "code",
   "execution_count": 215,
   "metadata": {},
   "outputs": [
    {
     "name": "stdout",
     "output_type": "stream",
     "text": [
      "0\n"
     ]
    }
   ],
   "source": [
    "#WAP to check whether the given input is 0 or not if 0 prints 0.\n",
    "m=0\n",
    "if m==0:\n",
    "    print('0')"
   ]
  },
  {
   "cell_type": "code",
   "execution_count": 233,
   "metadata": {},
   "outputs": [
    {
     "name": "stdout",
     "output_type": "stream",
     "text": [
      "[16]\n"
     ]
    }
   ],
   "source": [
    "#WAP to check whether a number is even or not. If even, store the value inside the list\n",
    "n=16\n",
    "l=[]\n",
    "if n%2==0:\n",
    "    l.append(n)\n",
    "    print(l)"
   ]
  },
  {
   "cell_type": "code",
   "execution_count": 235,
   "metadata": {},
   "outputs": [
    {
     "name": "stdout",
     "output_type": "stream",
     "text": [
      "(15,)\n"
     ]
    }
   ],
   "source": [
    "#WAP to check whether a number is odd or not. If odd, store the value inside the tuple\n",
    "n=15\n",
    "t=()\n",
    "if n%2!=0:\n",
    "    t+=(n,)\n",
    "    print(t)"
   ]
  },
  {
   "cell_type": "code",
   "execution_count": null,
   "metadata": {},
   "outputs": [
    {
     "name": "stdout",
     "output_type": "stream",
     "text": [
      "1225\n"
     ]
    }
   ],
   "source": [
    "n=35\n",
    "if n%5==0 and n%7==0:\n",
    "    print(n **2)"
   ]
  },
  {
   "cell_type": "code",
   "execution_count": null,
   "metadata": {},
   "outputs": [
    {
     "name": "stdout",
     "output_type": "stream",
     "text": [
      "16\n"
     ]
    }
   ],
   "source": [
    "#WAP  TO CHECK IF GIVEN NO is even or not .if yes print power of 4 in a given number\n",
    "n=2\n",
    "if n%2==0:\n",
    "    print(n**4)"
   ]
  },
  {
   "cell_type": "code",
   "execution_count": null,
   "metadata": {},
   "outputs": [
    {
     "name": "stdout",
     "output_type": "stream",
     "text": [
      "20\n"
     ]
    }
   ],
   "source": [
    "#WAP to take input fron user as number and check whether it is number or not if yes take the number and add the same value and  print it\n",
    "n=10\n",
    "if type(n) in [int,float,bool,complex]:\n",
    "    print(n+10)\n"
   ]
  },
  {
   "cell_type": "code",
   "execution_count": null,
   "metadata": {},
   "outputs": [
    {
     "name": "stdout",
     "output_type": "stream",
     "text": [
      "hello world\n"
     ]
    }
   ],
   "source": [
    "#WAP to display helloworld if number is greater than 1and less than 5\n",
    "n=3\n",
    "if 1<n<5:\n",
    "    print(\"hello world\")"
   ]
  },
  {
   "cell_type": "code",
   "execution_count": null,
   "metadata": {},
   "outputs": [
    {
     "name": "stdout",
     "output_type": "stream",
     "text": [
      "1225\n"
     ]
    }
   ],
   "source": [
    "#WAP to check whether a given value is divisible by 5 and 7. if value is divisible display square of values\n",
    "n=35\n",
    "if n%5==0 and  n%7==0:\n",
    "    print(n**2)"
   ]
  },
  {
   "cell_type": "code",
   "execution_count": null,
   "metadata": {},
   "outputs": [
    {
     "name": "stdout",
     "output_type": "stream",
     "text": [
      "148\n"
     ]
    }
   ],
   "source": [
    "#WAP to check whether given value  last digit is greater than 5 if greater perform bitwise right shift operation with skipping value 2\n",
    "n=37\n",
    "if (n%10>5):\n",
    "    print(n<<2)\n"
   ]
  },
  {
   "cell_type": "code",
   "execution_count": null,
   "metadata": {},
   "outputs": [
    {
     "name": "stdout",
     "output_type": "stream",
     "text": [
      "324\n"
     ]
    }
   ],
   "source": [
    "#wap to check whether a given value is divisible by 3 and less than 30 if divisible print square of values\n",
    "n=18\n",
    "if n%3==0 and n<30:\n",
    "    print(n**2)"
   ]
  },
  {
   "cell_type": "code",
   "execution_count": null,
   "metadata": {},
   "outputs": [
    {
     "name": "stdout",
     "output_type": "stream",
     "text": [
      "46656\n"
     ]
    }
   ],
   "source": [
    "#WAP to check whether a given value is eveen number or not and divisible by 4 if satisfies display cube of value\n",
    "n=36\n",
    "if n%2==0 and n%4==0:\n",
    "    print(n**3)"
   ]
  },
  {
   "cell_type": "code",
   "execution_count": null,
   "metadata": {},
   "outputs": [
    {
     "name": "stdout",
     "output_type": "stream",
     "text": [
      "[26]\n"
     ]
    }
   ],
   "source": [
    "#wap to check whether the value is even or not  if even store the value inside the list\n",
    "n=26\n",
    "l=[]\n",
    "if n%2==0:\n",
    "    l.append(n)\n",
    "    print(l)"
   ]
  },
  {
   "cell_type": "code",
   "execution_count": null,
   "metadata": {},
   "outputs": [
    {
     "name": "stdout",
     "output_type": "stream",
     "text": [
      "6\n"
     ]
    }
   ],
   "source": [
    "#wap to check whether the value is  negative or even or not  if satisfies display last digit of value\n",
    "n=26\n",
    "if n%2==0:\n",
    "    print(n%10)\n"
   ]
  },
  {
   "cell_type": "code",
   "execution_count": null,
   "metadata": {},
   "outputs": [
    {
     "name": "stdout",
     "output_type": "stream",
     "text": [
      "13824\n"
     ]
    }
   ],
   "source": [
    "#wap to check whether the value is  negative or odd and divisible by 4.  if satisfies display cube of value\n",
    "n=24\n",
    "if(n<0 or n%2==0) and n%4==0:\n",
    "    print(n**3)\n"
   ]
  },
  {
   "cell_type": "code",
   "execution_count": null,
   "metadata": {},
   "outputs": [
    {
     "name": "stdout",
     "output_type": "stream",
     "text": [
      "8\n"
     ]
    }
   ],
   "source": [
    "#wap to check whether ascii value is divisible by 4 and even or not  if satisfies display ascii character\n",
    "n=56\n",
    "if n%4==0 and n%2==0:\n",
    "        print(chr(n))\n"
   ]
  },
  {
   "cell_type": "code",
   "execution_count": null,
   "metadata": {},
   "outputs": [
    {
     "name": "stdout",
     "output_type": "stream",
     "text": [
      "x\n"
     ]
    }
   ],
   "source": [
    "#wap to check whether the value is present in between 45 and 125 and the number should be divisible by 4 and 5and even value   if satisfies display ascii character\n",
    "n=120\n",
    "if n%4==0 and n%5==0 and n%2==0 and 45<n<125:\n",
    "    print(chr(n))\n"
   ]
  },
  {
   "cell_type": "code",
   "execution_count": null,
   "metadata": {},
   "outputs": [
    {
     "name": "stdout",
     "output_type": "stream",
     "text": [
      "\n"
     ]
    }
   ],
   "source": [
    "#wap to check whether the value is present in between 25 and 100 and the number should be divisible by 4 and 5   if satisfies display multiplication of 5\n",
    "n=60\n",
    "if n%4==0 and n%5==0 and 25<n<100:\n",
    "    print()"
   ]
  },
  {
   "cell_type": "code",
   "execution_count": null,
   "metadata": {},
   "outputs": [
    {
     "name": "stdout",
     "output_type": "stream",
     "text": [
      "True\n"
     ]
    }
   ],
   "source": [
    "#WAP to check whether a given number is an integer and odd number. If the condition is satisfied, the integer is divisible by 5 and displays the result.\n",
    "n=35\n",
    "if n%2!=0 and type(n)==int:\n",
    "    print(n%5==0)\n"
   ]
  },
  {
   "cell_type": "code",
   "execution_count": null,
   "metadata": {},
   "outputs": [
    {
     "name": "stdout",
     "output_type": "stream",
     "text": [
      "20\n"
     ]
    }
   ],
   "source": [
    "#WAP to check whether a given value is an integer or not. If integer, the given value is converted to string and displays the result\n",
    "n=20\n",
    "if (type(n)==int):\n",
    "    print(str(n))"
   ]
  },
  {
   "cell_type": "code",
   "execution_count": 15,
   "metadata": {},
   "outputs": [
    {
     "name": "stdout",
     "output_type": "stream",
     "text": [
      "a\n"
     ]
    }
   ],
   "source": [
    "#WAP to check whether a given value is less than 125 and greater than 60 or not. if the condition is satisfied, take the name and extract the middle character and display it.\n",
    "n=100\n",
    "l='prasu'\n",
    "if 60<n<125:\n",
    "    l=l[len(l)//2]\n",
    "    print(l)"
   ]
  },
  {
   "cell_type": "code",
   "execution_count": null,
   "metadata": {},
   "outputs": [
    {
     "name": "stdout",
     "output_type": "stream",
     "text": [
      "40\n"
     ]
    }
   ],
   "source": [
    "#WAP to check whether a given two integers are equal or not. If both are equal, to  perform addition and display the result\n",
    "a=20\n",
    "b=20\n",
    "if int(a)==int(b):\n",
    "    print(a+b)"
   ]
  },
  {
   "cell_type": "code",
   "execution_count": null,
   "metadata": {},
   "outputs": [
    {
     "name": "stdout",
     "output_type": "stream",
     "text": [
      "297.5\n"
     ]
    }
   ],
   "source": [
    "#WAP to check whether two values are equal or not. if equal, to perform multiplication of two numbers and that result is division by 3 and display the  value\n",
    "n=25.5\n",
    "m=35.0\n",
    "if type(n)==type(m):\n",
    "    print(n*m/3)"
   ]
  },
  {
   "cell_type": "code",
   "execution_count": null,
   "metadata": {},
   "outputs": [
    {
     "name": "stdout",
     "output_type": "stream",
     "text": [
      "{'p': 112}\n"
     ]
    }
   ],
   "source": [
    "#WAP to check whether a character is in the alphabet or not. If the alphabet, store  value inside the dict(key as a character and value as an ascii value).\n",
    "ch='p'\n",
    "d={}\n",
    "if  ('a'<=ch<='z' or 'A'<=ch<='Z'):\n",
    "    d[ch]=ord(ch)\n",
    "    print(d)\n",
    "\n"
   ]
  },
  {
   "cell_type": "code",
   "execution_count": 16,
   "metadata": {},
   "outputs": [],
   "source": [
    "#WAP to check whether a character is in the uppercase or not. If the uppercase, store the value inside the dict(key as a character and value as an ascii value).\n",
    "ch='M'\n",
    "d={}\n",
    "if  'A'<=ch<='Z':\n",
    "    d[ch]=ord(ch)\n"
   ]
  },
  {
   "cell_type": "code",
   "execution_count": null,
   "metadata": {},
   "outputs": [],
   "source": [
    "#WAP to check whether a character is in the uppercase or not. If the uppercase, convert to lowercase and store the value inside the dict\n",
    "n='A'\n",
    "d={}\n",
    "if n in 'A'<=n<='Z':\n",
    "    d[n]=chr(ord(n)+32)\n"
   ]
  },
  {
   "cell_type": "code",
   "execution_count": null,
   "metadata": {},
   "outputs": [
    {
     "name": "stdout",
     "output_type": "stream",
     "text": [
      "aaaaaaaaaa\n"
     ]
    }
   ],
   "source": [
    "#WAP to check whether a character is in the lowercase or not. If the lowercase, to perform the replication operation on that character.\n",
    "ch='a'\n",
    "if 'a'<=ch<='z':\n",
    "    print(ch*10)"
   ]
  },
  {
   "cell_type": "code",
   "execution_count": null,
   "metadata": {},
   "outputs": [
    {
     "name": "stdout",
     "output_type": "stream",
     "text": [
      "<class 'int'>\n"
     ]
    }
   ],
   "source": [
    "#WAP to check whether a character is in the ascii number or not. If the ascii number, to convert into integer.\n",
    "ch='7'\n",
    "if '0'<=ch<='9':\n",
    "   n= type(ord(ch))\n",
    "   print(n)"
   ]
  },
  {
   "cell_type": "code",
   "execution_count": null,
   "metadata": {},
   "outputs": [],
   "source": [
    "#WAP to check whether a character is in the special symbol or not. If the special symbol, to display a symbol with ascii value\n",
    "ch='$'\n",
    "if 'a'<=ch<='z' and 'A'<=ch<='Z' and '0'<=ch<='9':\n",
    "    print(ch,ord(ch))"
   ]
  },
  {
   "cell_type": "code",
   "execution_count": 5,
   "metadata": {},
   "outputs": [
    {
     "name": "stdout",
     "output_type": "stream",
     "text": [
      "98\n"
     ]
    }
   ],
   "source": [
    "#WAP to check whether a character is an even number or not. If the even number, to display an even number.\n",
    "ch='b'\n",
    "n=ord(ch)%2\n",
    "if n==0:\n",
    "    print(ord(ch))\n"
   ]
  },
  {
   "cell_type": "code",
   "execution_count": null,
   "metadata": {},
   "outputs": [
    {
     "name": "stdout",
     "output_type": "stream",
     "text": [
      "900\n"
     ]
    }
   ],
   "source": [
    "#WAP to check whether a Given two integers a and b, if any of the integers is 10 or if their sum is 10, to perform the sum of the numbers and to display the square of  the result.\n",
    "a=10\n",
    "b=20\n",
    "if a==10 or b==10 or a+b==10:\n",
    "    print((a+b)**2)"
   ]
  },
  {
   "cell_type": "code",
   "execution_count": null,
   "metadata": {},
   "outputs": [
    {
     "name": "stdout",
     "output_type": "stream",
     "text": [
      "f\n"
     ]
    }
   ],
   "source": [
    "#WAP to check whether a character is in the vowel or not. If the vowel,print the next character.\n",
    "n='e'\n",
    "if n in 'aeiouAEIOU':\n",
    "   print(chr(ord(ch)+1))\n"
   ]
  },
  {
   "cell_type": "code",
   "execution_count": null,
   "metadata": {},
   "outputs": [
    {
     "name": "stdout",
     "output_type": "stream",
     "text": [
      "d\n"
     ]
    }
   ],
   "source": [
    "#WAP to check whether a character is in the not a vowel. If it's not a vowel,print  previous character.\n",
    "n='f'\n",
    "if n  not in 'aeiouAEIOU':\n",
    "   print(chr(ord(ch)-1))"
   ]
  },
  {
   "cell_type": "code",
   "execution_count": null,
   "metadata": {},
   "outputs": [
    {
     "name": "stdout",
     "output_type": "stream",
     "text": [
      "97.7  is a single value data type\n"
     ]
    }
   ],
   "source": [
    "#WAP to check whether a given value is a single value data type or not. If single value, display the given value as a single value data type\n",
    "n=97.7\n",
    "if type(n) in[int,float,bool,complex]:\n",
    "    print(n,f\" is a single value data type\")"
   ]
  },
  {
   "cell_type": "code",
   "execution_count": null,
   "metadata": {},
   "outputs": [
    {
     "name": "stdout",
     "output_type": "stream",
     "text": [
      "([10],)\n"
     ]
    }
   ],
   "source": [
    "#WAP to check whether a given value is a multi-value data type or not. If multi value , store the given value inside the tuple and display it.\n",
    "n=[10]\n",
    "t=()\n",
    "if type(n) in [str,tuple,list,set,dict]:\n",
    "    t+=(n,)\n",
    "    print(t)\n"
   ]
  },
  {
   "cell_type": "code",
   "execution_count": null,
   "metadata": {},
   "outputs": [
    {
     "name": "stdout",
     "output_type": "stream",
     "text": [
      "{'prasu'}\n"
     ]
    }
   ],
   "source": [
    "#WAP to check whether a given value is an immutable data type or not. If an immutable data type value, store the given value inside the set and display it\n",
    "n='prasu'\n",
    "s=set()\n",
    "if type(n) in [str,tuple]:\n",
    "    s|={n}\n",
    "    print(s)"
   ]
  },
  {
   "cell_type": "code",
   "execution_count": null,
   "metadata": {},
   "outputs": [
    {
     "name": "stdout",
     "output_type": "stream",
     "text": [
      "odd\n"
     ]
    }
   ],
   "source": [
    "#WAP to check whether the middle element of a given list is odd or not. If it is odd then print odd then print the number else directly print the number\n",
    "l=[10,20,25,30,40]\n",
    "if l[len(l)//2]!=0:\n",
    "    print('odd')\n",
    "else:\n",
    "    print(l[len(l)//2])"
   ]
  },
  {
   "cell_type": "code",
   "execution_count": 14,
   "metadata": {},
   "outputs": [
    {
     "name": "stdout",
     "output_type": "stream",
     "text": [
      "notprassu\n"
     ]
    }
   ],
   "source": [
    "#WAP Return a new string with \"not\" prefixed to the front of the original string. \n",
    "#return the string unmodified if the string already has the word \"not\" at the beginning.\n",
    "s='notprassu'\n",
    "if 'not' in s:\n",
    "    print(ns)\n",
    "else:\n",
    "    print('not'+s)\n"
   ]
  },
  {
   "cell_type": "code",
   "execution_count": null,
   "metadata": {},
   "outputs": [
    {
     "name": "stdout",
     "output_type": "stream",
     "text": [
      "140734727120232 140734727120232\n"
     ]
    }
   ],
   "source": [
    "#WAP to check whether the two variables are pointing to the same memory location or not if they are pointing to the same memory location then print the address of both the variables.\n",
    "a=19\n",
    "b=19\n",
    "if a is b:\n",
    "    print(id(a),id(b))"
   ]
  },
  {
   "cell_type": "code",
   "execution_count": 33,
   "metadata": {},
   "outputs": [
    {
     "name": "stdout",
     "output_type": "stream",
     "text": [
      "prasan\n"
     ]
    }
   ],
   "source": [
    "#WAP to check whether the given length of the string is even or not. If the condition is satisfied, display the sequence of characters from zero position to length of collection -2.\n",
    "s='prasanna'\n",
    "if(len(s)//2)%2==0:\n",
    "    s=s[0:-2:]\n",
    "    print(s)"
   ]
  },
  {
   "cell_type": "code",
   "execution_count": 28,
   "metadata": {},
   "outputs": [
    {
     "name": "stdout",
     "output_type": "stream",
     "text": [
      "apple apple\n"
     ]
    }
   ],
   "source": [
    "#WAP to check whether the two given strings are having the same values or not. \n",
    "#if both are not the same values then swap the values of one variable to another variable after swapping print the two values.\n",
    "n='apple'\n",
    "m='apple'\n",
    "if str(n)==str(m):\n",
    "    m,n=n,m\n",
    "    print(n,m)\n"
   ]
  },
  {
   "cell_type": "code",
   "execution_count": 19,
   "metadata": {},
   "outputs": [
    {
     "name": "stdout",
     "output_type": "stream",
     "text": [
      "{'@': 64}\n"
     ]
    }
   ],
   "source": [
    "#WAP to check whether a given character is a special symbol or not. \n",
    "#If satisfied, store the symbol as a key and value as a ascii value of the given character inside the dictionary\n",
    "n='@'\n",
    "d={}\n",
    "if (not('A'<=(n)<='Z' and 'a'<=(n)<='b'and'0'<=(n)<='9')):\n",
    "    d[n]=ord(n)\n",
    "    print(d)\n",
    "\n"
   ]
  },
  {
   "cell_type": "code",
   "execution_count": 20,
   "metadata": {},
   "outputs": [
    {
     "name": "stdout",
     "output_type": "stream",
     "text": [
      "{'b': 10, 'c': 30, 'a': {10}}\n"
     ]
    }
   ],
   "source": [
    "#WAP to check whether a given key is  present in the dictionary or not. If the key is not present, apend the new key inside the dictionary.\n",
    "k='a'\n",
    "d={'b':10,'c':30}\n",
    "if k not in d.keys():\n",
    "    d['a']={10}\n",
    "    print(d)"
   ]
  },
  {
   "cell_type": "code",
   "execution_count": 21,
   "metadata": {},
   "outputs": [
    {
     "name": "stdout",
     "output_type": "stream",
     "text": [
      "('f', 'y')\n"
     ]
    }
   ],
   "source": [
    "#WAP whether a giveniis  string, and it displays a new string with the first and last characters switched.\n",
    "s='fluffy'\n",
    "if type(s)==str:\n",
    "    s=s[0],s[-1]\n",
    "    print(s)\n",
    "\n"
   ]
  },
  {
   "cell_type": "code",
   "execution_count": 22,
   "metadata": {},
   "outputs": [
    {
     "name": "stdout",
     "output_type": "stream",
     "text": [
      "2\n"
     ]
    }
   ],
   "source": [
    "#WAP to check whether the last digit should be 2 in the given number then print the last digit.\n",
    "n=82\n",
    "if n%10==2:\n",
    "    print(n%10)"
   ]
  },
  {
   "cell_type": "code",
   "execution_count": 23,
   "metadata": {},
   "outputs": [],
   "source": [
    "#WAP to check whether a given string(str) and one integer(n) value, to display a new string that is devoid of the character at index n.\n",
    "# if you are given a non-emptystring and an int n. The value of n will be a legitimate character index from the original string, \n",
    "#therefore it will fall within the range of 0 to len(str)-1, inclusive.\n",
    "\n"
   ]
  },
  {
   "cell_type": "code",
   "execution_count": 30,
   "metadata": {},
   "outputs": [
    {
     "name": "stdout",
     "output_type": "stream",
     "text": [
      "the length of string laxmi 5\n",
      "the length of string prasanna 8\n"
     ]
    }
   ],
   "source": [
    "#WAP to check whether both string collections are equal or not if it is not equal print the both strings along with \n",
    "#the length of a string if both are equal ignore it\n",
    "s1=\"laxmi\"\n",
    "s2=\"prasanna\"\n",
    "if s1!=s2:\n",
    "    print(f\"the length of string {s1}\",len(s1))\n",
    "    print(f\"the length of string {s2}\",len(s2))"
   ]
  },
  {
   "cell_type": "markdown",
   "metadata": {},
   "source": [
    "#IF ELSE PROGRAMS"
   ]
  },
  {
   "cell_type": "code",
   "execution_count": 31,
   "metadata": {},
   "outputs": [
    {
     "name": "stdout",
     "output_type": "stream",
     "text": [
      "given value is negative\n"
     ]
    }
   ],
   "source": [
    "#WAP to check whether the given value is positive or negative.if positive print given value is positive or else value is negative\n",
    "n=-10\n",
    "if n>0:\n",
    "    print(\"given value is positive\")\n",
    "else:\n",
    "    print(\"given value is negative\")\n"
   ]
  },
  {
   "cell_type": "code",
   "execution_count": 32,
   "metadata": {},
   "outputs": [
    {
     "name": "stdout",
     "output_type": "stream",
     "text": [
      "6859\n"
     ]
    }
   ],
   "source": [
    "#WAP to check whether the given value is even or odd.if it is even perform square of given value or else to find cube of given value.\n",
    "n=19\n",
    "if n%2==0:\n",
    "    print(n**2)\n",
    "else:\n",
    "    print(n**3)    "
   ]
  },
  {
   "cell_type": "code",
   "execution_count": 34,
   "metadata": {},
   "outputs": [
    {
     "name": "stdout",
     "output_type": "stream",
     "text": [
      "{(10, 20)}\n"
     ]
    }
   ],
   "source": [
    "#wap to check whether given value is multi value data type or not if it is multivalue to store value inside set or else to convert into string\n",
    "res=set()\n",
    "t=(10,20)\n",
    "if type(t) in [str,tuple]:\n",
    "    res|={t}\n",
    "    print(res)sssss\n",
    "else:\n",
    "    print(str(t))    \n"
   ]
  },
  {
   "cell_type": "code",
   "execution_count": 38,
   "metadata": {},
   "outputs": [
    {
     "name": "stdout",
     "output_type": "stream",
     "text": [
      "mala\n"
     ]
    }
   ],
   "source": [
    "#wap to check the given string is palindrome or not,if it is palindrome print the 0 th position from middle of the string or else .display the reverse string\n",
    "a='malayalam'\n",
    "if a[::-1]:\n",
    "    b=a[0:len(a)//2:]\n",
    "    print(b)\n",
    "else:\n",
    "    print(a[::-1])     \n",
    "    "
   ]
  },
  {
   "cell_type": "code",
   "execution_count": 50,
   "metadata": {},
   "outputs": [
    {
     "name": "stdout",
     "output_type": "stream",
     "text": [
      "195\n"
     ]
    }
   ],
   "source": [
    "#wap to check the starting character  and middlr character both are in sequence or not,if both are in sequence,extract 2 characters and cponcate into the given string, if\n",
    "#  both are not sequence ,then display even index positions\n",
    "n=\"\n",
    "a=ord(n[0])\n",
    "x=n[len(n)//2]\n",
    "b=ord(x)\n",
    "if (a+1==b):\n",
    "    print(a+b)\n",
    "else : \n",
    "    res=n[::2]\n",
    "    print(res)  "
   ]
  },
  {
   "cell_type": "code",
   "execution_count": 4,
   "metadata": {},
   "outputs": [
    {
     "name": "stdout",
     "output_type": "stream",
     "text": [
      "13 is odd\n"
     ]
    }
   ],
   "source": [
    "#WAP to check whether a number is even or odd. If even, print message an even \n",
    "#or else print message as odd.\n",
    "n=13\n",
    "if n%2==0:\n",
    "    print(n,f\"is even\")\n",
    "else:\n",
    "    print(n,f\"is odd\")\n"
   ]
  },
  {
   "cell_type": "code",
   "execution_count": 5,
   "metadata": {},
   "outputs": [
    {
     "name": "stdout",
     "output_type": "stream",
     "text": [
      "n is greatest\n"
     ]
    }
   ],
   "source": [
    "#Write a program to check whether a given number is greater than 10 or not. if it \n",
    "#is greater than 10 print message as greater or else print that number with not a \n",
    "#greater than.\n",
    "n=15\n",
    "if n>10:\n",
    "    print('n is greatest')\n",
    "else:\n",
    "    print('n is not greatest')    "
   ]
  },
  {
   "cell_type": "code",
   "execution_count": 6,
   "metadata": {},
   "outputs": [
    {
     "name": "stdout",
     "output_type": "stream",
     "text": [
      "good morning\n"
     ]
    }
   ],
   "source": [
    "#WAP to check whether the given two input numbers are divisible by 3 and 5. If it \n",
    "#is divisible, print “Good Morning”, if it is not divisible print “Good Evening”\n",
    "n=300\n",
    "m=150\n",
    "if n%5==0 and m%5==0 and n%3==0 and m%5==0:\n",
    "    print('good morning')\n",
    "else:\n",
    "    print('good evening')    "
   ]
  },
  {
   "cell_type": "code",
   "execution_count": null,
   "metadata": {},
   "outputs": [],
   "source": [
    "#WAP to accept two integers and check whether those two values are equal or not.\n",
    "#If equal, multiply to value or else to display the quotation value\n"
   ]
  },
  {
   "cell_type": "code",
   "execution_count": 10,
   "metadata": {},
   "outputs": [
    {
     "name": "stdout",
     "output_type": "stream",
     "text": [
      "25\n",
      "[25, 20] [True]\n"
     ]
    }
   ],
   "source": [
    "#WAP to find the largest of two numbers.\n",
    "n=20\n",
    "m=25\n",
    "if n>m:\n",
    "    print(n)\n",
    "else:\n",
    "    print(m)  \n",
    "    #using terinary operator\n",
    "m=25\n",
    "n=20\n",
    "print([m,n],[m>n])\n",
    "\n",
    "      "
   ]
  },
  {
   "cell_type": "code",
   "execution_count": 8,
   "metadata": {},
   "outputs": [
    {
     "name": "stdout",
     "output_type": "stream",
     "text": [
      "11  is greater\n"
     ]
    }
   ],
   "source": [
    "#WAP to check whether the input number is greater than 10 or not if it is greater \n",
    "#than 10 print messages as greater with number. if it is not a greater than 10 print \n",
    "#that number.\n",
    "n=11\n",
    "if n>10:\n",
    "    print(n,f\" is greater\")\n",
    "else:\n",
    "    print(n)    "
   ]
  },
  {
   "cell_type": "code",
   "execution_count": 18,
   "metadata": {},
   "outputs": [
    {
     "name": "stdout",
     "output_type": "stream",
     "text": [
      "4\n"
     ]
    }
   ],
   "source": [
    "#WAP to the given number integer, if n is greater than 21,print the absolute \n",
    "#difference between n and 21 otherwise print twice the absolute difference\n",
    "n=25\n",
    "if n>21:\n",
    "    x=abs(n-21)\n",
    "    print(x)\n",
    "else:\n",
    "    res=x*2\n",
    "    print(res)   \n"
   ]
  },
  {
   "cell_type": "code",
   "execution_count": 19,
   "metadata": {},
   "outputs": [
    {
     "name": "stdout",
     "output_type": "stream",
     "text": [
      "20\n",
      "[25, 20] [False]\n"
     ]
    }
   ],
   "source": [
    "#WAP to find the smallest of two numbers\n",
    "n=20\n",
    "m=25\n",
    "if n<m:\n",
    "    print(n)\n",
    "else:\n",
    "    print(m)  \n",
    "    #using terinary operator\n",
    "m=25\n",
    "n=20\n",
    "print([m,n],[m<n])\n"
   ]
  },
  {
   "cell_type": "code",
   "execution_count": 20,
   "metadata": {},
   "outputs": [
    {
     "name": "stdout",
     "output_type": "stream",
     "text": [
      "20\n"
     ]
    }
   ],
   "source": [
    "#WAP to check whether the given number is even or odd. If it is even then make \n",
    "#it as an add number, if it is an odd number then make it as even number.\n",
    "n=19\n",
    "if n%2==0:\n",
    "    print(n-1)\n",
    "else: \n",
    "    print(n+1)   \n"
   ]
  },
  {
   "cell_type": "code",
   "execution_count": 23,
   "metadata": {},
   "outputs": [
    {
     "name": "stdout",
     "output_type": "stream",
     "text": [
      "93576664\n"
     ]
    }
   ],
   "source": [
    "#WAP to check whether the given number is divisible by 3 or not if yes, print the \n",
    "#number or else print the cube of the numbers.\n",
    "n=454\n",
    "if n%3==0:\n",
    "    print(n)\n",
    "else:\n",
    "    print(n**3)    "
   ]
  },
  {
   "cell_type": "code",
   "execution_count": 26,
   "metadata": {},
   "outputs": [
    {
     "name": "stdout",
     "output_type": "stream",
     "text": [
      "134\n",
      "<class 'str'>\n"
     ]
    }
   ],
   "source": [
    "#WAP to check whether the given input is divisible by 3 and 5. If yes print the \n",
    "#actual number or else print string of that number.\n",
    "n=134\n",
    "if n%3==0 and n%5==0:\n",
    "    print(n)\n",
    "else:\n",
    "    res=str(n)\n",
    "    print(res) \n",
    "    print(type(res) )  \n"
   ]
  },
  {
   "cell_type": "code",
   "execution_count": 29,
   "metadata": {},
   "outputs": [
    {
     "name": "stdout",
     "output_type": "stream",
     "text": [
      "1\n"
     ]
    }
   ],
   "source": [
    "#WAP to check whether the given number lies between 1 to 19, if it is true square \n",
    "#that number or else false cube that number and display the number\n",
    "n=1\n",
    "if 1<=n<=19:\n",
    "    print(n**2)\n",
    "else:\n",
    "    print(n**3,n)    "
   ]
  },
  {
   "cell_type": "code",
   "execution_count": 30,
   "metadata": {},
   "outputs": [
    {
     "name": "stdout",
     "output_type": "stream",
     "text": [
      "FAIL False\n"
     ]
    }
   ],
   "source": [
    "#WAP to check whether the student has passed or failed. If the student got more \n",
    "#than 40 marks, print ‘PASS’ along with those marks, if it is not printed ‘FAIL’ along \n",
    "#with those marks.\n",
    "n=40\n",
    "if n>40:\n",
    "    print('PASS',n>40)\n",
    "else:\n",
    "    print('FAIL',n<40)    \n"
   ]
  },
  {
   "cell_type": "code",
   "execution_count": 34,
   "metadata": {},
   "outputs": [
    {
     "name": "stdout",
     "output_type": "stream",
     "text": [
      "7\n"
     ]
    }
   ],
   "source": [
    "#WAP to check whether a given value is even and in range of 47 to 58 and not in 0 \n",
    "#or odd. if condition is True, to perform display the ascii character. or else to \n",
    "#perform floor division with 5 and display it.\n",
    "n=55\n",
    "if 47<=n<58 and n!=0 and n%2!=0:\n",
    "    print(chr(n))\n",
    "else:\n",
    "    print(n//5)    \n"
   ]
  },
  {
   "cell_type": "code",
   "execution_count": 35,
   "metadata": {},
   "outputs": [
    {
     "name": "stdout",
     "output_type": "stream",
     "text": [
      "{120: 'x'}\n"
     ]
    }
   ],
   "source": [
    "#WAP to check whether a given value is less than 125 and in between 47 to 125 or \n",
    "#not. if condition is True, to perform store the given value as key and value as a \n",
    "#character into the dict or else to append the value in list and display it\n",
    "n=120\n",
    "d={}\n",
    "l=[]\n",
    "if 47<n<125:\n",
    "    d[n]=chr(n)  \n",
    "    print(d)\n",
    "else:\n",
    "    l+=[n] \n",
    "    print(l)   "
   ]
  },
  {
   "cell_type": "code",
   "execution_count": 36,
   "metadata": {},
   "outputs": [
    {
     "name": "stdout",
     "output_type": "stream",
     "text": [
      "f\n"
     ]
    }
   ],
   "source": [
    "#WAP to check whether a given character is in the alphabet or not. if alphabet, \n",
    "#display the alphabet with character or else display the not alphabet with \n",
    "#character.\n",
    "ch='f'\n",
    "if 'a'<=ch<='z' or 'A'<=ch<='Z':\n",
    "    print(ch)\n",
    "else:\n",
    "    print()    \n"
   ]
  },
  {
   "cell_type": "code",
   "execution_count": 25,
   "metadata": {},
   "outputs": [
    {
     "name": "stdout",
     "output_type": "stream",
     "text": [
      "uppercase L\n"
     ]
    }
   ],
   "source": [
    "#WAP to check whether a given character is uppercase or other character. if \n",
    "#uppercase, display the uppercase with character or else display the other \n",
    "#character with character\n",
    "ch='L'\n",
    "if 'A'<=ch<='Z':\n",
    "    print(\"uppercase\",ch)\n",
    "else:\n",
    "    print(\"other character\",ch)    "
   ]
  },
  {
   "cell_type": "code",
   "execution_count": 28,
   "metadata": {},
   "outputs": [
    {
     "name": "stdout",
     "output_type": "stream",
     "text": [
      "other character M\n"
     ]
    }
   ],
   "source": [
    "#WAP to check whether a given character is lowercase or other character. if \n",
    "#lowercase, display the lowercase with character or else display the other\n",
    "# character with character\n",
    "ch='M'\n",
    "if 'a'<=ch<='z':\n",
    "   print(\"lowercase\",ch)\n",
    "else:\n",
    "   print(\"other character\",ch)\n",
    "\n"
   ]
  },
  {
   "cell_type": "code",
   "execution_count": 41,
   "metadata": {},
   "outputs": [
    {
     "name": "stdout",
     "output_type": "stream",
     "text": [
      "97\n"
     ]
    }
   ],
   "source": [
    "#WAP to check whether a given character is uppercase or other character. if \n",
    "#uppercase, convert to lowercase .or else display the ascii number.\n",
    "ch='a'\n",
    "if 'A'<=ch<='Z':\n",
    "   s= chr(ord(ch)+32)\n",
    "   print(s)\n",
    "else:\n",
    "   print(ord(ch))\n"
   ]
  },
  {
   "cell_type": "code",
   "execution_count": 43,
   "metadata": {},
   "outputs": [
    {
     "name": "stdout",
     "output_type": "stream",
     "text": [
      "A\n"
     ]
    }
   ],
   "source": [
    "#WAP to check whether the given character is in lowercase or uppercase. If it is \n",
    "#in lowercase, convert it into uppercase, or else it is in uppercase and convert it \n",
    "#nto lowercase. Display the value.\n",
    "ch='a'\n",
    "if 'a'<=ch<='z' or 'A'<=ch<='Z':\n",
    "    s= chr(ord(ch)-32)\n",
    "    print(s)\n",
    "else:\n",
    "    s= chr(ord(ch)+32)\n",
    "    print(s)\n",
    "     \n",
    "    \n"
   ]
  },
  {
   "cell_type": "code",
   "execution_count": 67,
   "metadata": {},
   "outputs": [
    {
     "name": "stdout",
     "output_type": "stream",
     "text": [
      "asu\n"
     ]
    }
   ],
   "source": [
    "#WAP to check whether the given string of the first character is a special symbol \n",
    "#or not. If a special symbol, to extract and display the middle character or else to \n",
    "#reverse the string and display the half of the string\n",
    "l=\"prasu\"\n",
    "if  'a'<=l[0]<='z' and 'A'<=l[0]<='Z' and 1<=l[0]<=9:\n",
    "   x= l[2:(len(l)//2)+1:]\n",
    "   print(x)\n",
    "else:\n",
    "   y=l[(len(l)//2):]\n",
    "   y[::-1]\n",
    "   print(y)\n",
    "  \n"
   ]
  },
  {
   "cell_type": "code",
   "execution_count": 69,
   "metadata": {},
   "outputs": [
    {
     "name": "stdout",
     "output_type": "stream",
     "text": [
      "VOWEL\n"
     ]
    }
   ],
   "source": [
    "#WAP to check whether the input character is a vowel or not. If it is vowel print \n",
    "#‘VOWEL’ along with that character, if it is not just print ‘CONSONANT’\n",
    "ip='i'\n",
    "if ip in'aeiouAEIOU':\n",
    "   print(\"VOWEL\")\n",
    "else:\n",
    "   print(\"consonant\")\n",
    "   "
   ]
  },
  {
   "cell_type": "code",
   "execution_count": 70,
   "metadata": {},
   "outputs": [
    {
     "name": "stdout",
     "output_type": "stream",
     "text": [
      "y\n"
     ]
    }
   ],
   "source": [
    "#WAP to check whether a given character is a vowel or consonant. if vowel, to \n",
    "#print the next character of a given character or else print previous characters.\n",
    "ch=\"z\"\n",
    "if ch in 'aeiouAEIOU':\n",
    "    x=chr(ord(ch)+1)\n",
    "    print(x)\n",
    "else:\n",
    "    y=chr(ord(ch)-1)\n",
    "    print(y)"
   ]
  },
  {
   "cell_type": "code",
   "execution_count": 12,
   "metadata": {},
   "outputs": [
    {
     "name": "stdout",
     "output_type": "stream",
     "text": [
      "p\n"
     ]
    }
   ],
   "source": [
    "#WAP to check whether a given string of first character is alphabet or not\n",
    "#if the alphabet prints, reverse the string or else print the middle character.\n",
    "ch='1pple'\n",
    "if 'a'<=ch<='z' or 'A'<=ch<='Z':\n",
    "    print(ch[::-1])\n",
    "else:\n",
    "    print(ch[len(ch)//2])\n",
    "    \n",
    "    \n"
   ]
  },
  {
   "cell_type": "code",
   "execution_count": 73,
   "metadata": {},
   "outputs": [
    {
     "name": "stdout",
     "output_type": "stream",
     "text": [
      "\n"
     ]
    }
   ],
   "source": [
    "#WAP to check whether the given input character is uppercase or lowercase. If \n",
    "#the input character is upper case convert into lower case and vice versa.\n",
    "ch='a'\n",
    "if  'A'<=ch<='Z':\n",
    "    s= chr(ord(ch)-32)\n",
    "    print(s)\n",
    "else:\n",
    "    s= chr(ord(ch)+32)\n",
    "    print(s)"
   ]
  },
  {
   "cell_type": "code",
   "execution_count": 21,
   "metadata": {},
   "outputs": [
    {
     "name": "stdout",
     "output_type": "stream",
     "text": [
      "cil\n"
     ]
    }
   ],
   "source": [
    "#WAP to check whether a given string is less than 3 characters, to print the entire \n",
    "#string otherwise to print after third positions to the remaining string.\n",
    "st='pencil'\n",
    "if len(st)<3:\n",
    "    print(st)\n",
    "else:\n",
    "    print(st[3:])"
   ]
  },
  {
   "cell_type": "code",
   "execution_count": 18,
   "metadata": {},
   "outputs": [
    {
     "name": "stdout",
     "output_type": "stream",
     "text": [
      "prasannabye\n"
     ]
    }
   ],
   "source": [
    "#WAP to check whether a given length of the string is even or not. if even, to \n",
    "#append the new string called \"bye\" or else print the first and last characters.\n",
    "n=\"prasanna\"\n",
    "if len(n)%2==0:\n",
    "    n+='bye'\n",
    "    print(n)\n",
    "else:\n",
    "    print(n[0],n[-1])"
   ]
  },
  {
   "cell_type": "code",
   "execution_count": 82,
   "metadata": {},
   "outputs": [
    {
     "name": "stdout",
     "output_type": "stream",
     "text": [
      "urasp\n"
     ]
    }
   ],
   "source": [
    "#WAP to check whether a given length of the string is odd or not. if odd, to append \n",
    "#the new string(\"Haii\") from the starting of the given string, or else to avoid the \n",
    "#starting character and ending character of the given\n",
    "#string and to display the remaining characters.\n",
    "st='prasu'\n",
    "x=len(st)//2\n",
    "if x%2!=0 and st[0] in 'A'<=st[0]<='Z':\n",
    "    st+=st[0:len(st)//2]+'haii'+st[(len(st)//2)+1:]\n",
    "    print(st)\n",
    "else:\n",
    "    y=st[-1]+st[1:len(st)-1]+st[0]\n",
    "    print(y)"
   ]
  },
  {
   "cell_type": "code",
   "execution_count": 9,
   "metadata": {},
   "outputs": [
    {
     "name": "stdout",
     "output_type": "stream",
     "text": [
      "nnn@s@rp\n"
     ]
    }
   ],
   "source": [
    "#WAP to check whether the last of the given string is a special character or not, if \n",
    "#the special character prints reverse the string except the last character or else to \n",
    "#check if the length of the string is odd or not, if odd to extract the middle \n",
    "#scharacter to the end of the string\n",
    "p='pr@s@nnn@'\n",
    "x=p[-1]\n",
    "if not('a'<=x<='z' and 'A'<=x<='Z' and '0'<=x<='9') and len(p)%2!=0:\n",
    "    p[-2::-1]\n",
    "    print(p[-2::-1])\n",
    "else:\n",
    "    \n",
    "    print(p[len(p)//2:])\n",
    "\n",
    "\n"
   ]
  },
  {
   "cell_type": "code",
   "execution_count": 2,
   "metadata": {},
   "outputs": [
    {
     "name": "stdout",
     "output_type": "stream",
     "text": [
      "not leap year\n"
     ]
    }
   ],
   "source": [
    "#WAP to check whether a given year is a leap year or not. if leap year, print leap \n",
    "#year or else not a leap year.\n",
    "yr=1981\n",
    "if yr%==0: #-->366 days in leap year\n",
    "    print(\"leap year\")\n",
    "else:\n",
    "    print(\"not leap year\")\n"
   ]
  },
  {
   "cell_type": "code",
   "execution_count": 4,
   "metadata": {},
   "outputs": [
    {
     "name": "stdout",
     "output_type": "stream",
     "text": [
      "greatest 20\n"
     ]
    }
   ],
   "source": [
    "#WAP to find out the greatest of two numbers and display the greatest number. if \n",
    "#the greatest number, display the greatest message with value.\n",
    "n=20\n",
    "m=20\n",
    "if n>m:\n",
    "    print(n)\n",
    "else:\n",
    "    print('greatest',n)  \n"
   ]
  },
  {
   "cell_type": "code",
   "execution_count": 5,
   "metadata": {},
   "outputs": [
    {
     "name": "stdout",
     "output_type": "stream",
     "text": [
      "value is available\n"
     ]
    }
   ],
   "source": [
    "#WAP to check whether the given value is present inside the given collection or \n",
    "#not.if value is present, display the value is available or else the value is not \n",
    "#present.\n",
    "n=33\n",
    "l=[11,22,33,55]\n",
    "if n in l:\n",
    "    print(\"value is available\")\n",
    "else:\n",
    "    print(\"the value is not present\")\n"
   ]
  },
  {
   "cell_type": "code",
   "execution_count": 10,
   "metadata": {},
   "outputs": [
    {
     "name": "stdout",
     "output_type": "stream",
     "text": [
      "urasp\n"
     ]
    }
   ],
   "source": [
    "#WAP whether a given string, if string length is more than 2, then it displays a new \n",
    "#string with the first and last characters switched, otherwise the display the 3 \n",
    "#copies of given string.\n",
    "p='prasu'\n",
    "if len(p)>2:\n",
    "    p=p[-1]+p[1:len(p)-1]+p[0]\n",
    "    print(p)\n",
    "else:\n",
    "    print(p*3)"
   ]
  },
  {
   "cell_type": "code",
   "execution_count": 14,
   "metadata": {},
   "outputs": [
    {
     "name": "stdout",
     "output_type": "stream",
     "text": [
      "[3.3333333333333335, 'haii', 20, -31]\n"
     ]
    }
   ],
   "source": [
    "#WAP to check whether a given value is a list and first and last values should be \n",
    "#integer if condition is satisfied first value is True division by 3 and perform the \n",
    "#bitwise not for last value and those result values are stored in same positions in \n",
    "#given list or else, to perform length of the collection power by 2 and display \n",
    "#value.\n",
    "l=[10,'haii',20,30]\n",
    "if type(l[0])==int and type(l[-1])==int and type(l)==list:\n",
    "    x=l[0]/3\n",
    "    y=~(l[-1])\n",
    "    l[0]=x\n",
    "    l[-1]=y\n",
    "    print(l)\n",
    "else:\n",
    "    z=len(l)*2\n",
    "    print(z)\n",
    " "
   ]
  },
  {
   "cell_type": "code",
   "execution_count": 24,
   "metadata": {},
   "outputs": [
    {
     "name": "stdout",
     "output_type": "stream",
     "text": [
      "37037034\n"
     ]
    }
   ],
   "source": [
    "#WAP to check whether a given value is a string or not and length of the value \n",
    "#should be more than 7, if condition is satisfied to append the new string in the \n",
    "#middle of the given string or else to perform the replications with 3 and display \n",
    "#the result.\n",
    "n=12345678\n",
    "if type(n)==str and len(n)>7:\n",
    "    n=n[0:len(n)/2]+9+n[(len(n)/2)+1:]\n",
    "else:\n",
    "    print(n*3)"
   ]
  },
  {
   "cell_type": "code",
   "execution_count": 35,
   "metadata": {},
   "outputs": [
    {
     "name": "stdout",
     "output_type": "stream",
     "text": [
      "acded\n"
     ]
    }
   ],
   "source": [
    "#WAP to check if the given string of first and second character should be sequence \n",
    "#or not. if the sequence prints the first, second and last two characters, or else the \n",
    "#first half string is reversed and the remaining half string should be normal and \n",
    "#display it.\n",
    "s='acded'\n",
    "x=chr(ord(s[0])+1)\n",
    "y=chr(ord(s[1]))\n",
    "if x==y:\n",
    "    print(s[0],s[1],s[-2],s[-1])\n",
    "else:\n",
    "    s=s[:len(s)//2]+s[len(s)//2:]\n",
    "    print(s)\n",
    "    "
   ]
  },
  {
   "cell_type": "code",
   "execution_count": 38,
   "metadata": {},
   "outputs": [
    {
     "name": "stdout",
     "output_type": "stream",
     "text": [
      "haii\n"
     ]
    }
   ],
   "source": [
    "#WAP to check whether a given value is present inside the collection or not. If \n",
    "#present, print the value or else print value is not found.\n",
    "n=\"haii\"\n",
    "l=[10,20,\"haii\",60]\n",
    "if n in l:\n",
    "    print(n)\n",
    "else:\n",
    "    print(\"value is not found\")"
   ]
  },
  {
   "cell_type": "code",
   "execution_count": 44,
   "metadata": {},
   "outputs": [],
   "source": [
    "#WAP to check whether a given key is present in the dict or not. if key is present: \n",
    "#display the value or else add key and new value inside the dict.\n",
    "k='c'\n",
    "d={\"a\":10,\"b\":\"bye\"}\n",
    "if k in d:\n",
    "    print(d)\n",
    "else:\n",
    "    d['c']=(\"hyy\")"
   ]
  },
  {
   "cell_type": "code",
   "execution_count": 50,
   "metadata": {},
   "outputs": [
    {
     "name": "stdout",
     "output_type": "stream",
     "text": [
      "{50, 20, 40, 10, 30}\n"
     ]
    }
   ],
   "source": [
    "#WAP to check whether a given collection is set or not. if set, append the new \n",
    "#value, or else eliminate the duplicate values in collection. final results should be \n",
    "#set type.\n",
    "s={10,20,30,30}\n",
    "if type(s)==set:\n",
    "     s|={40,50}\n",
    "     print(s)\n",
    "else:\n",
    "     s-={30}\n",
    "     print(s)"
   ]
  },
  {
   "cell_type": "code",
   "execution_count": 53,
   "metadata": {},
   "outputs": [
    {
     "name": "stdout",
     "output_type": "stream",
     "text": [
      "age is 25\n"
     ]
    }
   ],
   "source": [
    "#WAP to read the age of a candidate and determine whether it is eligible for \n",
    "#his/her own vote or not.it eligible print age and eligible messages or else print \n",
    "#not eligible.\n",
    "age=25\n",
    "if age>18:\n",
    "    print(\"age is\",age)\n",
    "else:\n",
    "    print('not eligible')"
   ]
  },
  {
   "cell_type": "code",
   "execution_count": 61,
   "metadata": {},
   "outputs": [
    {
     "name": "stdout",
     "output_type": "stream",
     "text": [
      "1\n"
     ]
    }
   ],
   "source": [
    "#WAP to check whether a given value is even and in between 47 to 58 and not in \n",
    "#0 or odd. if condition is True, to perform display the ascii character or else to \n",
    "#perform floor division with 5 and display it.\n",
    "n=49\n",
    "if 47<n<58 and  n%2!=0:\n",
    "    x=chr(n)\n",
    "    print(x)\n",
    "else:\n",
    "    print(n//5)\n"
   ]
  },
  {
   "cell_type": "code",
   "execution_count": 64,
   "metadata": {},
   "outputs": [
    {
     "name": "stdout",
     "output_type": "stream",
     "text": [
      "mom\n",
      "<class 'str'>\n"
     ]
    }
   ],
   "source": [
    "#WAP to check whether the given string is palindrome or not if it is a palindrome \n",
    "#string palindrome along with the string if it is not a palindrome print not \n",
    "#palindrome\n",
    "p=\"mom\"\n",
    "if  p[::-1]==p:\n",
    "    p=str(p)\n",
    "    print(p)\n",
    "    print(type(p))\n",
    "else:\n",
    "    print(\"not palindrome\")\n"
   ]
  },
  {
   "cell_type": "code",
   "execution_count": 69,
   "metadata": {},
   "outputs": [
    {
     "name": "stdout",
     "output_type": "stream",
     "text": [
      "1551\n"
     ]
    }
   ],
   "source": [
    "#WAP to check whether a given number is palindrome or not. If palindrome, \n",
    "#display the given value as a palindrome or else not a palindrome\n",
    "n=\"151\"\n",
    "if n[::-1]==n:\n",
    "    print(int(n))\n",
    "else:\n",
    "    print(\"not a palindrome\")"
   ]
  },
  {
   "cell_type": "code",
   "execution_count": 73,
   "metadata": {},
   "outputs": [
    {
     "name": "stdout",
     "output_type": "stream",
     "text": [
      "laxmiprasu\n"
     ]
    }
   ],
   "source": [
    "#WAP to check length of both string collections are equal or not. if both are equal \n",
    "#print the concat the two strings and display, or else if any one of the collection \n",
    "#not equal print both the collections with lengths\n",
    "a='laxmi'\n",
    "b='prasu'\n",
    "if len(a)==len(b):\n",
    "    a+=b\n",
    "    print(a)\n",
    "else:\n",
    "    print(a,len(a))\n",
    "    print(b,len(b))\n"
   ]
  },
  {
   "cell_type": "code",
   "execution_count": 1,
   "metadata": {},
   "outputs": [
    {
     "name": "stdout",
     "output_type": "stream",
     "text": [
      "p u\n"
     ]
    }
   ],
   "source": [
    "#WAP to check whether both given values point to the same memory location or \n",
    "#not. if it is true print the middle item of the second collection, or else if it is false \n",
    "#print the first item and last item of the first collection along with the memory \n",
    "#address.\n",
    "a='prasu'\n",
    "b=640\n",
    "if a is b:\n",
    "   print( len(b)//2)\n",
    "else:\n",
    "   x=a[0]\n",
    "   y=a[-1]\n",
    "   print(x,y)\n",
    "   \n",
    "   \n",
    "\n"
   ]
  },
  {
   "cell_type": "code",
   "execution_count": 108,
   "metadata": {},
   "outputs": [
    {
     "name": "stdout",
     "output_type": "stream",
     "text": [
      "105 115 120\n"
     ]
    }
   ],
   "source": [
    "#WAP to check whether a given string collection is more than ten, and the first + \n",
    "#last character of the ascii values should be divisible by 5, if condition is satisfied \n",
    "#print first, middle, last characters ASCII values or else print the string three \n",
    "#times.\n",
    "a='iprasannazx'\n",
    "x=ord(a[0])\n",
    "y=ord(a[-1])\n",
    "if len(a)>10 and x%5==0 and y%5==0:\n",
    "    z=a[4:(len(a)//2)]\n",
    "    z=ord(z)\n",
    "    print(x,z,y)\n",
    "else:\n",
    "    print(a*3)"
   ]
  },
  {
   "cell_type": "code",
   "execution_count": 88,
   "metadata": {},
   "outputs": [
    {
     "data": {
      "text/plain": [
       "120"
      ]
     },
     "execution_count": 88,
     "metadata": {},
     "output_type": "execute_result"
    }
   ],
   "source": [
    "n=\"x\"\n",
    "ord(n)"
   ]
  },
  {
   "cell_type": "code",
   "execution_count": 119,
   "metadata": {},
   "outputs": [
    {
     "name": "stdout",
     "output_type": "stream",
     "text": [
      "[10, 20, 30, 'haii', 50, 60]\n"
     ]
    }
   ],
   "source": [
    "#WAP to check whether the middle of the item present in the list is string data type \n",
    "#or not if it is string print that list or else if it is not string then print that middle \n",
    "#item\n",
    "l=[10,20,30,\"haii\",50,60]\n",
    "z=l[len(l)//2]\n",
    "if type(z)==str:\n",
    "    print(l)\n",
    "else:\n",
    "    print(z)"
   ]
  },
  {
   "cell_type": "code",
   "execution_count": 122,
   "metadata": {},
   "outputs": [
    {
     "name": "stdout",
     "output_type": "stream",
     "text": [
      "urasp\n"
     ]
    }
   ],
   "source": [
    "#WAP Given a string, return a new string where the first and last characters have \n",
    "#been exchanged.\n",
    "a='prasu'\n",
    "x=a[0]\n",
    "y=a[-1]\n",
    "z=y+a[1:3+1]+x\n",
    "print(z)\n",
    "\n"
   ]
  },
  {
   "cell_type": "code",
   "execution_count": 126,
   "metadata": {},
   "outputs": [
    {
     "name": "stdout",
     "output_type": "stream",
     "text": [
      "49\n"
     ]
    }
   ],
   "source": [
    "#Write a program to find out such numbers which are divisible by 7 but are not a \n",
    "#multiple of 5. Both the conditional is satisfied and print actual value. if one \n",
    "#condition is not satisfied actual number is multiply by 4 and print result\n",
    "n=49\n",
    "if n%5!=0 and n%7==0:\n",
    "    print(n)\n",
    "else:\n",
    "    print(n*4)\n"
   ]
  },
  {
   "cell_type": "code",
   "execution_count": 164,
   "metadata": {},
   "outputs": [
    {
     "name": "stdout",
     "output_type": "stream",
     "text": [
      "140735271461960 140735271462280\n"
     ]
    }
   ],
   "source": [
    "#WAP to check whether two values are pointing to the same memory address or \n",
    "#not. If the same memory displays the address or else displays the two values \n",
    "#addresses.\n",
    "a=10\n",
    "b=20\n",
    "if a is b:\n",
    "    print(id(a))\n",
    "else:\n",
    "    print(id(a), id(b))\n"
   ]
  },
  {
   "cell_type": "code",
   "execution_count": 128,
   "metadata": {},
   "outputs": [
    {
     "name": "stdout",
     "output_type": "stream",
     "text": [
      "$$$\n"
     ]
    }
   ],
   "source": [
    "#WAP to check whether a given input character is a special symbol or not if it is a \n",
    "#special symbol then print that character three times and tell print that character \n",
    "#5 times.\n",
    "ch=\"$\"\n",
    "if not('a'<=ch<='z' and 'A'<=ch<='Z' and '0'<=ch<='9'):\n",
    "    print(ch*3)\n",
    "else:\n",
    "    print(ch*5)\n"
   ]
  },
  {
   "cell_type": "code",
   "execution_count": 130,
   "metadata": {},
   "outputs": [
    {
     "name": "stdout",
     "output_type": "stream",
     "text": [
      "apple applee\n"
     ]
    }
   ],
   "source": [
    "#WAP to check length of both string collections equal or not if it is equal print the \n",
    "#connection of any one of the collections if it is not equal print both the collection.\n",
    "a='apple'\n",
    "b='applee'\n",
    "if len(a)==len(b):\n",
    "    print(a)\n",
    "else:\n",
    "    print(a,b)\n",
    "\n",
    "\n"
   ]
  },
  {
   "cell_type": "code",
   "execution_count": 136,
   "metadata": {},
   "outputs": [
    {
     "name": "stdout",
     "output_type": "stream",
     "text": [
      "h 1972347772336\n"
     ]
    }
   ],
   "source": [
    "#WAP To check whether both input variables point to the same memory location \n",
    "#or not if it is true print the last item of the second collection, if it is false print the \n",
    "#first item of the first collection along with the memory address.\n",
    "a=\"hai\"\n",
    "b=\"haii\"\n",
    "if a is b:\n",
    "    print(b[-1])\n",
    "else:\n",
    "    print(a[0],id(a))\n"
   ]
  },
  {
   "cell_type": "code",
   "execution_count": 153,
   "metadata": {},
   "outputs": [
    {
     "name": "stdout",
     "output_type": "stream",
     "text": [
      "prasuprasuprasuprasuprasu `\n"
     ]
    }
   ],
   "source": [
    "#WAP to print the string collection five times when the length of the string \n",
    "#collection should be more than 3 and the middle character of the string should \n",
    "#be vowel and the first character ASCII value should be even, to print the previous \n",
    "#character of middle character, or else if ASCII value is odd then print the string \n",
    "#three times as print that string\n",
    "p='prasu'\n",
    "z=p[len(p)//2]\n",
    "x=ord(p[0])\n",
    "if z in 'aeiouAEIOU' and len(p)>3 and x%2==0:\n",
    "    y= chr(ord(z)-1)\n",
    "    print(p*5,y)\n",
    "else:\n",
    "    print(p*3)\n",
    "\n",
    "\n"
   ]
  },
  {
   "cell_type": "code",
   "execution_count": null,
   "metadata": {},
   "outputs": [],
   "source": [
    "#Ravi would like to buy a new cello or red pen. The cost of the pen should be 10. \n",
    "#If the pen is available in the shop, he will buy the pen. If it is not there he will \n",
    "#come out of the shop.\n",
    "x='newcello\n",
    "y='red'\n",
    "if x==10 and y==10:\n",
    "    \n",
    "\n"
   ]
  },
  {
   "cell_type": "code",
   "execution_count": 163,
   "metadata": {},
   "outputs": [
    {
     "name": "stdout",
     "output_type": "stream",
     "text": [
      "-25\n"
     ]
    }
   ],
   "source": [
    "#WAP to perform addition and subtraction operation by using list collection if the \n",
    "#first and middle data items number are even performing addition operation, or \n",
    "#else performing subtraction\n",
    "l=[10,20,35,40,'haii']\n",
    "x=l[0]\n",
    "y=l[len(l)//2]\n",
    "if x%2==0 and y%2==0:\n",
    "    z=x+y\n",
    "    print(z)\n",
    "else:\n",
    "    z=x-y\n",
    "    print(z)\n"
   ]
  },
  {
   "cell_type": "code",
   "execution_count": 53,
   "metadata": {},
   "outputs": [
    {
     "name": "stdout",
     "output_type": "stream",
     "text": [
      "3079278472064 3079279094528\n"
     ]
    }
   ],
   "source": [
    "#WAP to check whether the first item of these two lists is either integer or not. \n",
    "#If it is an integer, concatenate these two lists or else print the memory \n",
    "#address of these two lists\n",
    "l1=[14.6,20,30,40]\n",
    "l2=[11.5,22,33,44]\n",
    "if type(l1[0])==int and type(l2[0])==int:\n",
    "    x=l1+l2\n",
    "    print(x)\n",
    "else:\n",
    "    print(id(l1),id(l2))"
   ]
  }
 ],
 "metadata": {
  "kernelspec": {
   "display_name": "Python 3",
   "language": "python",
   "name": "python3"
  },
  "language_info": {
   "codemirror_mode": {
    "name": "ipython",
    "version": 3
   },
   "file_extension": ".py",
   "mimetype": "text/x-python",
   "name": "python",
   "nbconvert_exporter": "python",
   "pygments_lexer": "ipython3",
   "version": "3.11.4"
  },
  "orig_nbformat": 4
 },
 "nbformat": 4,
 "nbformat_minor": 2
}
